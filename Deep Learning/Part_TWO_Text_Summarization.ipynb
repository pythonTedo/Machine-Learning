{
 "cells": [
  {
   "cell_type": "markdown",
   "id": "aweKYx4EqzzS",
   "metadata": {
    "id": "aweKYx4EqzzS"
   },
   "source": [
    "# PART 2 - Text summarization "
   ]
  },
  {
   "cell_type": "markdown",
   "id": "3F4-Hah6q8c1",
   "metadata": {
    "id": "3F4-Hah6q8c1"
   },
   "source": [
    "In this part I will try to summarize text sematics from the news. I will use for Y - title column. \n",
    "\n",
    "For this task I have to create Encoder-Decoder model where the input are text and the title and target is going to be the same title column but reshaped one. \n"
   ]
  },
  {
   "cell_type": "code",
   "execution_count": 2,
   "id": "alone-browser",
   "metadata": {
    "id": "alone-browser"
   },
   "outputs": [],
   "source": [
    "import numpy as np # linear algebra\n",
    "import pandas as pd # data processing, CSV file I/O (e.g. pd.read_csv)\n",
    "import matplotlib.pyplot as plt\n",
    "import seaborn as sns\n",
    "import os\n",
    "from collections import defaultdict\n",
    "\n",
    "from wordcloud import WordCloud, STOPWORDS , ImageColorGenerator\n",
    "import re\n",
    "import nltk as nlp\n",
    "import math\n",
    "from tqdm import tqdm\n",
    "from nltk.corpus import stopwords\n",
    "from nltk.translate.bleu_score import sentence_bleu\n",
    "\n",
    "import tensorflow as tf \n"
   ]
  },
  {
   "cell_type": "code",
   "execution_count": 3,
   "id": "prescription-sharp",
   "metadata": {
    "id": "prescription-sharp"
   },
   "outputs": [],
   "source": [
    "from tensorflow.keras.preprocessing.text import Tokenizer\n",
    "from tensorflow.keras.preprocessing.sequence import pad_sequences\n",
    "from tensorflow.keras.models import Sequential, Model\n",
    "from tensorflow.keras.layers import Input, Embedding, Dense, SimpleRNN, LSTM, Bidirectional, GlobalAveragePooling1D, Dropout, Attention, TimeDistributed, Concatenate\n",
    "from tensorflow.keras.losses import SparseCategoricalCrossentropy\n",
    "from tensorflow.keras.optimizers import Adam, RMSprop\n",
    "from tensorflow.keras.callbacks import TensorBoard, EarlyStopping, LearningRateScheduler, ModelCheckpoint, ReduceLROnPlateau\n",
    "from tensorflow.keras.utils import plot_model\n",
    "from tensorflow.keras.regularizers import l1_l2\n",
    "\n",
    "import tensorflow_hub as hub"
   ]
  },
  {
   "cell_type": "code",
   "execution_count": 136,
   "id": "according-plastic",
   "metadata": {
    "id": "according-plastic"
   },
   "outputs": [],
   "source": [
    "from transformers import TFBertModel, BertTokenizer, BertConfig, pipeline"
   ]
  },
  {
   "cell_type": "code",
   "execution_count": 7,
   "id": "transsexual-empty",
   "metadata": {
    "colab": {
     "base_uri": "https://localhost:8080/"
    },
    "id": "transsexual-empty",
    "outputId": "d1d37eb3-32af-4e35-84ac-d04e5c6666c5"
   },
   "outputs": [
    {
     "name": "stdout",
     "output_type": "stream",
     "text": [
      "1 Physical GPUs, 1 Logical GPUs\n",
      "Version:  2.4.1\n",
      "Eager mode:  True\n",
      "Hub version:  0.11.0\n",
      "GPU is available\n"
     ]
    }
   ],
   "source": [
    "gpus = tf.config.experimental.list_physical_devices('GPU')\n",
    "if gpus:\n",
    "  try:\n",
    "    # Currently, memory growth needs to be the same across GPUs\n",
    "    for gpu in gpus:\n",
    "      tf.config.experimental.set_memory_growth(gpu, True)\n",
    "    logical_gpus = tf.config.experimental.list_logical_devices('GPU')\n",
    "    print(len(gpus), \"Physical GPUs,\", len(logical_gpus), \"Logical GPUs\")\n",
    "  except RuntimeError as e:\n",
    "    # Memory growth must be set before GPUs have been initialized\n",
    "    print(e)\n",
    "print(\"Version: \", tf.__version__)\n",
    "print(\"Eager mode: \", tf.executing_eagerly())\n",
    "print(\"Hub version: \", hub.__version__)\n",
    "print(\"GPU is\", \"available\" if tf.config.list_physical_devices('GPU') else \"NOT AVAILABLE\")"
   ]
  },
  {
   "cell_type": "markdown",
   "id": "Ht8vVyztsf2Q",
   "metadata": {
    "id": "Ht8vVyztsf2Q"
   },
   "source": [
    "# Import data "
   ]
  },
  {
   "cell_type": "markdown",
   "id": "gTNA3HOErQrt",
   "metadata": {
    "id": "gTNA3HOErQrt"
   },
   "source": [
    "I am going to use the same data as Part One."
   ]
  },
  {
   "cell_type": "code",
   "execution_count": 8,
   "id": "extended-smith",
   "metadata": {
    "id": "extended-smith"
   },
   "outputs": [],
   "source": [
    "train = pd.read_csv(\"output_datasets/news_output/train_data.csv\")\n",
    "val = pd.read_csv(\"output_datasets/news_output/val_data.csv\")\n",
    "test = pd.read_csv(\"output_datasets/news_output/test_data.csv\")"
   ]
  },
  {
   "cell_type": "markdown",
   "id": "f6VLV-hgs2tS",
   "metadata": {
    "id": "f6VLV-hgs2tS"
   },
   "source": [
    "## Cleaning text\n",
    "\n",
    "I will perform basic text cleaning for both text and title because we need to get rid of symbols, single chars and lower the text. \n",
    "Also I don't want to Lemmatize the words becasue I will prefer them to be as they are."
   ]
  },
  {
   "cell_type": "code",
   "execution_count": 10,
   "id": "threatened-piece",
   "metadata": {
    "id": "threatened-piece"
   },
   "outputs": [],
   "source": [
    "def denoise_text(text):\n",
    "\n",
    "    text = re.sub(r\"[<>()|&©ø\\[\\]\\'\\\",;?~*!]\", ' ', str(text)).lower() #remove <>()|&©ø\"',;?~*!\n",
    "    text = re.sub(\"(\\s+.\\s+)\", ' ', str(text)).lower()\n",
    "    \n",
    "    text = re.sub(\"(\\s+)\",' ',str(text)).lower() #remove multiple spaces\n",
    "        \n",
    "        #Should always be last\n",
    "    text = re.sub(\"(\\s+.\\s+)\", ' ', str(text)).lower() #remove any single charecters hanging between 2 spaces\n",
    "    \n",
    "    return text"
   ]
  },
  {
   "cell_type": "code",
   "execution_count": 11,
   "id": "concerned-authority",
   "metadata": {
    "id": "concerned-authority"
   },
   "outputs": [],
   "source": [
    "train['cleaned_text'] = train.text.apply(denoise_text)\n",
    "train['cleaned_title'] = train.title.apply(denoise_text)\n",
    "\n",
    "val['cleaned_text'] = val.text.apply(denoise_text)\n",
    "val['cleaned_title'] = val.title.apply(denoise_text)\n",
    "\n",
    "test['cleaned_text'] = test.text.apply(denoise_text)\n",
    "test['cleaned_title'] = test.title.apply(denoise_text)\n"
   ]
  },
  {
   "cell_type": "markdown",
   "id": "4bqmEAQwtfjL",
   "metadata": {
    "id": "4bqmEAQwtfjL"
   },
   "source": [
    "With next cell I am going to append to each Title row in the begining [_START_] and in the end [_END__] because we will need that for the Inference phase."
   ]
  },
  {
   "cell_type": "code",
   "execution_count": 12,
   "id": "lesser-element",
   "metadata": {
    "id": "lesser-element"
   },
   "outputs": [],
   "source": [
    "train_summary = ['_START_ '+ str(doc) + ' _END_' for doc in train.cleaned_title]\n",
    "val_summary = ['_START_ '+ str(doc) + ' _END_' for doc in val.cleaned_title]\n",
    "test_summary = ['_START_ '+ str(doc) + ' _END_' for doc in test.cleaned_title]\n"
   ]
  },
  {
   "cell_type": "code",
   "execution_count": 13,
   "id": "demographic-deployment",
   "metadata": {
    "id": "demographic-deployment"
   },
   "outputs": [],
   "source": [
    "train.cleaned_title = pd.Series(train_summary)\n",
    "val.cleaned_title = pd.Series(val_summary)\n",
    "test.cleaned_title = pd.Series(test_summary)\n"
   ]
  },
  {
   "cell_type": "code",
   "execution_count": 14,
   "id": "latin-joseph",
   "metadata": {
    "colab": {
     "base_uri": "https://localhost:8080/"
    },
    "id": "latin-joseph",
    "outputId": "bb7c4d15-fec1-45c5-e817-23652a2e2cc6"
   },
   "outputs": [
    {
     "name": "stdout",
     "output_type": "stream",
     "text": [
      "0.9769166666666667\n"
     ]
    }
   ],
   "source": [
    "#Check how much % of title have 0-15 words\n",
    "cnt=0\n",
    "for i in train['cleaned_title']:\n",
    "    if(len(i.split())<=15):\n",
    "        cnt=cnt+1\n",
    "print(cnt/len(train['cleaned_title']))"
   ]
  },
  {
   "cell_type": "code",
   "execution_count": 15,
   "id": "disciplinary-proceeding",
   "metadata": {
    "colab": {
     "base_uri": "https://localhost:8080/"
    },
    "id": "disciplinary-proceeding",
    "outputId": "248b579f-530e-47a1-d0ae-da5d09ed048b"
   },
   "outputs": [
    {
     "name": "stdout",
     "output_type": "stream",
     "text": [
      "0.9506354166666666\n"
     ]
    }
   ],
   "source": [
    "#Check how much % of text have 0-40 words\n",
    "cnt=0\n",
    "for i in train['cleaned_text']:\n",
    "    if(len(i.split())<=45):\n",
    "        cnt=cnt+1\n",
    "print(cnt/len(train['cleaned_text']))"
   ]
  },
  {
   "cell_type": "code",
   "execution_count": 16,
   "id": "entertaining-picture",
   "metadata": {
    "colab": {
     "base_uri": "https://localhost:8080/"
    },
    "id": "entertaining-picture",
    "outputId": "b9646901-090b-4c4d-8ff8-f2f3a268a4a5"
   },
   "outputs": [
    {
     "data": {
      "text/plain": [
       "((12000, 5), (19600, 5), (96000, 5))"
      ]
     },
     "execution_count": 16,
     "metadata": {
      "tags": []
     },
     "output_type": "execute_result"
    }
   ],
   "source": [
    "val.shape, test.shape, train.shape"
   ]
  },
  {
   "cell_type": "markdown",
   "id": "BIvheVIZrrvC",
   "metadata": {
    "id": "BIvheVIZrrvC"
   },
   "source": [
    "So we have cleaned our data and also we chose constants for maximum text (news) length and the title"
   ]
  },
  {
   "cell_type": "markdown",
   "id": "organic-carolina",
   "metadata": {
    "id": "organic-carolina"
   },
   "source": [
    "## TOEKNIZING\n",
    "\n",
    "I am going to use tensorflow Tokenizer and tokenize both text and title columns."
   ]
  },
  {
   "cell_type": "code",
   "execution_count": 17,
   "id": "superb-appointment",
   "metadata": {
    "id": "superb-appointment"
   },
   "outputs": [],
   "source": [
    "#Model to summarize the text between 0-15 words for Summary and 0-40 words for Text\n",
    "MAX_TEXT_LEN = 40\n",
    "MAX_SUMMARY_LEN = 15"
   ]
  },
  {
   "cell_type": "markdown",
   "id": "gVtBr1zVsO6M",
   "metadata": {
    "id": "gVtBr1zVsO6M"
   },
   "source": [
    "##### Text tokenizer - we are going to store tokenizer and word for the text"
   ]
  },
  {
   "cell_type": "code",
   "execution_count": 18,
   "id": "brown-seeker",
   "metadata": {
    "id": "brown-seeker"
   },
   "outputs": [],
   "source": [
    "x_tokenizer = Tokenizer()\n",
    "x_tokenizer.fit_on_texts(list(train.cleaned_text))"
   ]
  },
  {
   "cell_type": "code",
   "execution_count": 19,
   "id": "premium-infection",
   "metadata": {
    "id": "premium-infection"
   },
   "outputs": [],
   "source": [
    "def tokenize_text(df, tokenizer):\n",
    "\n",
    "    x_seq = tokenizer.texts_to_sequences(df.cleaned_text)\n",
    "    x_tr = pad_sequences(x_seq, maxlen=MAX_TEXT_LEN, padding= \"post\")\n",
    "    \n",
    "    return x_tr\n",
    "    "
   ]
  },
  {
   "cell_type": "code",
   "execution_count": 20,
   "id": "backed-stations",
   "metadata": {
    "id": "backed-stations"
   },
   "outputs": [],
   "source": [
    "X_VOC = len(x_tokenizer.word_index) + 1 ## beacuse of the padding"
   ]
  },
  {
   "cell_type": "code",
   "execution_count": 21,
   "id": "angry-voltage",
   "metadata": {
    "id": "angry-voltage"
   },
   "outputs": [],
   "source": [
    "X_tr = tokenize_text(train, x_tokenizer)\n",
    "X_val = tokenize_text(val, x_tokenizer)\n",
    "X_test = tokenize_text(test, x_tokenizer)\n"
   ]
  },
  {
   "cell_type": "code",
   "execution_count": 22,
   "id": "funky-russian",
   "metadata": {
    "colab": {
     "base_uri": "https://localhost:8080/"
    },
    "id": "funky-russian",
    "outputId": "4e63a35d-0ebc-4dc7-d8fa-1f5076183c0f"
   },
   "outputs": [
    {
     "data": {
      "text/plain": [
       "((96000, 40), (12000, 40), (19600, 40))"
      ]
     },
     "execution_count": 22,
     "metadata": {
      "tags": []
     },
     "output_type": "execute_result"
    }
   ],
   "source": [
    "X_tr.shape, X_val.shape, X_test.shape"
   ]
  },
  {
   "cell_type": "markdown",
   "id": "tUlIYyPwsaNo",
   "metadata": {
    "id": "tUlIYyPwsaNo"
   },
   "source": [
    "##### Title tokenizer - we are going to store tokenizer and word for the title"
   ]
  },
  {
   "cell_type": "code",
   "execution_count": 23,
   "id": "spatial-tooth",
   "metadata": {
    "id": "spatial-tooth"
   },
   "outputs": [],
   "source": [
    "y_tokenizer = Tokenizer()\n",
    "y_tokenizer.fit_on_texts(list(train.cleaned_title))"
   ]
  },
  {
   "cell_type": "code",
   "execution_count": 24,
   "id": "adaptive-retrieval",
   "metadata": {
    "id": "adaptive-retrieval"
   },
   "outputs": [],
   "source": [
    "def tokenize_title(df, tokenizer):\n",
    "\n",
    "    y_seq = tokenizer.texts_to_sequences(df.cleaned_title)\n",
    "    y_tr = pad_sequences(y_seq, maxlen=MAX_SUMMARY_LEN, padding= \"post\")\n",
    "    \n",
    "    return y_tr\n",
    "    "
   ]
  },
  {
   "cell_type": "code",
   "execution_count": 25,
   "id": "racial-independence",
   "metadata": {
    "id": "racial-independence"
   },
   "outputs": [],
   "source": [
    "Y_VOC = len(y_tokenizer.word_index) + 1 ## beacuse of the padding"
   ]
  },
  {
   "cell_type": "code",
   "execution_count": 26,
   "id": "proof-hometown",
   "metadata": {
    "id": "proof-hometown"
   },
   "outputs": [],
   "source": [
    "Y_tr = tokenize_title(train, y_tokenizer)\n",
    "Y_val = tokenize_title(val, y_tokenizer)\n",
    "Y_test = tokenize_title(test, y_tokenizer)\n"
   ]
  },
  {
   "cell_type": "code",
   "execution_count": 27,
   "id": "future-atmosphere",
   "metadata": {
    "colab": {
     "base_uri": "https://localhost:8080/"
    },
    "id": "future-atmosphere",
    "outputId": "26b2d9e7-9a88-45ea-ff61-cf71e9e6198b"
   },
   "outputs": [
    {
     "data": {
      "text/plain": [
       "((96000, 15), (12000, 15), (19600, 15))"
      ]
     },
     "execution_count": 27,
     "metadata": {
      "tags": []
     },
     "output_type": "execute_result"
    }
   ],
   "source": [
    "Y_tr.shape, Y_val.shape, Y_test.shape"
   ]
  },
  {
   "cell_type": "code",
   "execution_count": 28,
   "id": "-7XsvPxqi_qF",
   "metadata": {
    "colab": {
     "base_uri": "https://localhost:8080/"
    },
    "id": "-7XsvPxqi_qF",
    "outputId": "96f6e805-460d-4d74-8b3c-d62d2ce52b39"
   },
   "outputs": [
    {
     "data": {
      "text/plain": [
       "(56175, 30934)"
      ]
     },
     "execution_count": 28,
     "metadata": {
      "tags": []
     },
     "output_type": "execute_result"
    }
   ],
   "source": [
    "X_VOC, Y_VOC"
   ]
  },
  {
   "cell_type": "markdown",
   "id": "WVPYro2LvAyq",
   "metadata": {
    "id": "WVPYro2LvAyq"
   },
   "source": [
    "X_VOC and Y_VOC contains number of words + 1 for the padding. We will need them in the model as a constants."
   ]
  },
  {
   "cell_type": "markdown",
   "id": "silent-technical",
   "metadata": {
    "id": "silent-technical"
   },
   "source": [
    "## MODEL BUILDING\n",
    "### Basic LSTM Encoder - Decoder\n",
    "\n",
    "I am going to create Encoder Decoder model using LSTM cells fot their ability to keep the long term memory"
   ]
  },
  {
   "cell_type": "code",
   "execution_count": 29,
   "id": "active-terminology",
   "metadata": {
    "id": "active-terminology"
   },
   "outputs": [],
   "source": [
    "latent_dim = 100 ## lstm uinits\n",
    "embedding_dim = 100 ## for the emmbeding layer"
   ]
  },
  {
   "cell_type": "code",
   "execution_count": 30,
   "id": "SbjrExCGyuEx",
   "metadata": {
    "id": "SbjrExCGyuEx"
   },
   "outputs": [],
   "source": [
    "def build_basic_seq2seq_model(embedding_dim, latent_dim, MAX_TEXT_LEN, X_VOC, Y_VOC):\n",
    "   \n",
    "      ## ENCODER\n",
    "\n",
    "      encoder_input = Input(shape=(MAX_TEXT_LEN,))\n",
    "\n",
    "      # encoder embedding layer\n",
    "      encoder_embedding = Embedding(X_VOC, embedding_dim, trainable=True)(encoder_input)\n",
    "\n",
    "      # encoder lstm 1\n",
    "      encoder_lstm1 = LSTM(latent_dim, return_sequences=True, return_state=True, dropout=0.55)\n",
    "      encoder_output1, state_h1, state_c1 = encoder_lstm1(encoder_embedding)\n",
    "\n",
    "      # encoder lstm 2\n",
    "      encoder_lstm2 = LSTM(latent_dim, return_sequences=True, return_state=True, dropout=0.55)\n",
    "      encoder_output2, state_h2, state_c2 = encoder_lstm2(encoder_output1)\n",
    "\n",
    "      #encoder lstm 3\n",
    "      encoder_lstm3=LSTM(latent_dim, return_state=True, return_sequences=True,dropout=0.55)\n",
    "      encoder_output, *encoder_final_states = encoder_lstm3(encoder_output2)\n",
    "\n",
    "\n",
    "      # DECODER\n",
    "\n",
    "      decoder_input = Input(shape=(None,))\n",
    "\n",
    "      # decoder embedding layer\n",
    "      decoder_embedding_layer = Embedding(Y_VOC, embedding_dim, trainable=True)\n",
    "      decoder_embedding = decoder_embedding_layer(decoder_input)\n",
    "\n",
    "      # decoder lstm 1\n",
    "      decoder_lstm = LSTM(latent_dim, return_sequences=True, return_state=True, dropout=0.55)\n",
    "      decoder_output, *decoder_final_states = decoder_lstm(decoder_embedding, initial_state=encoder_final_states)\n",
    "\n",
    "      # dense layer\n",
    "      decoder_dense = TimeDistributed(Dense(Y_VOC, activation='softmax'))\n",
    "      decoder_output = decoder_dense(decoder_output)\n",
    "\n",
    "\n",
    "      model = Model([encoder_input, decoder_input], decoder_output)\n",
    "      model.summary()\n",
    "\n",
    "\n",
    "      optimizer = tf.keras.optimizers.Adam(learning_rate=0.002)\n",
    "      model.compile(optimizer=optimizer, loss='sparse_categorical_crossentropy')\n",
    "\n",
    "      return {\n",
    "          'model': model,\n",
    "          'inputs': {\n",
    "              'encoder': encoder_input,\n",
    "              'decoder': decoder_input\n",
    "          },\n",
    "          'outputs': {\n",
    "              'encoder': encoder_output,\n",
    "              'decoder': decoder_output\n",
    "          },\n",
    "          'states': {\n",
    "              'encoder': encoder_final_states,\n",
    "              'decoder': decoder_final_states\n",
    "          },\n",
    "          'layers': {\n",
    "              'decoder': {\n",
    "                  'embedding': decoder_embedding_layer,\n",
    "                  'last_decoder_lstm': decoder_lstm,\n",
    "                  'dense': decoder_dense\n",
    "              }\n",
    "          }\n",
    "        }"
   ]
  },
  {
   "cell_type": "markdown",
   "id": "invalid-depth",
   "metadata": {},
   "source": [
    "With those returns I am going to buld another consrtuction of the model for the generating phase"
   ]
  },
  {
   "cell_type": "code",
   "execution_count": 31,
   "id": "IsBROJoK0mTD",
   "metadata": {
    "colab": {
     "base_uri": "https://localhost:8080/"
    },
    "id": "IsBROJoK0mTD",
    "outputId": "04168036-5831-450f-d892-98360cbeabd4"
   },
   "outputs": [
    {
     "name": "stdout",
     "output_type": "stream",
     "text": [
      "Model: \"model\"\n",
      "__________________________________________________________________________________________________\n",
      "Layer (type)                    Output Shape         Param #     Connected to                     \n",
      "==================================================================================================\n",
      "input_1 (InputLayer)            [(None, 40)]         0                                            \n",
      "__________________________________________________________________________________________________\n",
      "embedding (Embedding)           (None, 40, 100)      5617500     input_1[0][0]                    \n",
      "__________________________________________________________________________________________________\n",
      "lstm (LSTM)                     [(None, 40, 100), (N 80400       embedding[0][0]                  \n",
      "__________________________________________________________________________________________________\n",
      "input_2 (InputLayer)            [(None, None)]       0                                            \n",
      "__________________________________________________________________________________________________\n",
      "lstm_1 (LSTM)                   [(None, 40, 100), (N 80400       lstm[0][0]                       \n",
      "__________________________________________________________________________________________________\n",
      "embedding_1 (Embedding)         (None, None, 100)    3093400     input_2[0][0]                    \n",
      "__________________________________________________________________________________________________\n",
      "lstm_2 (LSTM)                   [(None, 40, 100), (N 80400       lstm_1[0][0]                     \n",
      "__________________________________________________________________________________________________\n",
      "lstm_3 (LSTM)                   [(None, None, 100),  80400       embedding_1[0][0]                \n",
      "                                                                 lstm_2[0][1]                     \n",
      "                                                                 lstm_2[0][2]                     \n",
      "__________________________________________________________________________________________________\n",
      "time_distributed (TimeDistribut (None, None, 30934)  3124334     lstm_3[0][0]                     \n",
      "==================================================================================================\n",
      "Total params: 12,156,834\n",
      "Trainable params: 12,156,834\n",
      "Non-trainable params: 0\n",
      "__________________________________________________________________________________________________\n"
     ]
    }
   ],
   "source": [
    "seq2seq = build_basic_seq2seq_model(embedding_dim = embedding_dim, latent_dim=latent_dim, MAX_TEXT_LEN=MAX_TEXT_LEN, X_VOC=X_VOC, Y_VOC=Y_VOC)\n",
    "\n",
    "model = seq2seq['model']\n",
    "\n",
    "## we are getting the element like that so in the inferense stage (where we are building new model) is going to be easier for us to buld \n",
    "encoder_input_mod = seq2seq['inputs']['encoder']\n",
    "decoder_input_mod = seq2seq['inputs']['decoder']\n",
    "\n",
    "encoder_output_mod = seq2seq['outputs']['encoder']\n",
    "decoder_output_mod = seq2seq['outputs']['decoder']\n",
    "\n",
    "encoder_final_states_mod = seq2seq['states']['encoder']\n",
    "decoder_final_states_mod = seq2seq['states']['decoder']\n",
    "\n",
    "decoder_embedding_layer_mod = seq2seq['layers']['decoder']['embedding']\n",
    "last_decoder_lstm_mod = seq2seq['layers']['decoder']['last_decoder_lstm']\n",
    "decoder_dense_mod = seq2seq['layers']['decoder']['dense']"
   ]
  },
  {
   "cell_type": "code",
   "execution_count": 32,
   "id": "fOw4U1IkCBU0",
   "metadata": {
    "id": "fOw4U1IkCBU0"
   },
   "outputs": [],
   "source": [
    "model.load_weights(\"Part_two/seq2seq/seq2seq.h5\")"
   ]
  },
  {
   "cell_type": "code",
   "execution_count": null,
   "id": "measured-detective",
   "metadata": {
    "colab": {
     "base_uri": "https://localhost:8080/",
     "height": 753
    },
    "id": "measured-detective",
    "outputId": "a07cc1d3-f174-4846-e5c9-4e513688eef5"
   },
   "outputs": [
    {
     "data": {
      "image/png": "[encoded data removed]",
      "text/plain": [
       "<IPython.core.display.Image object>"
      ]
     },
     "execution_count": 57,
     "metadata": {
      "tags": []
     },
     "output_type": "execute_result"
    }
   ],
   "source": [
    "plot_model(model, show_shapes=True)"
   ]
  },
  {
   "cell_type": "markdown",
   "id": "Us065xIpzmDx",
   "metadata": {
    "id": "Us065xIpzmDx"
   },
   "source": [
    "![image_2021-02-20_113904.png](data:image/png;base64,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)"
   ]
  },
  {
   "cell_type": "markdown",
   "id": "JMRF9GPVxMyH",
   "metadata": {
    "id": "JMRF9GPVxMyH"
   },
   "source": [
    "Here is our model. We have input for the Text column where we have established 3 LSTM cells. We pass to each sequences and the states where we use the long term memmory. The hidden state (hi) and cell state (ci) of the last time step are used to initialize the decoder. \n",
    "\n",
    "For each timestep in the **Encoder** one word from the text is being passed whit that it captures the contextual information in the input sequences. \n",
    "\n",
    "From the right side we have the Title input - **Decoder**. Also we have the Embedding layer for them.\n",
    "The Decoder also reads word by word the target and predicts the same sequence data by one timestep. Also is trained to predict the next word in the sequence given the prvious word.\n",
    "The _START_ and _END_ tokens are special ones which are added to target sequence.\n",
    "The target sequence is unknown while decoding the test sequence. So, we start predicting the target sequence by passing the first word into the decoder which would be always the _START_ token. And the _END_ token signals the end of the sentence.\n"
   ]
  },
  {
   "cell_type": "markdown",
   "id": "MHhd-gDxvcVl",
   "metadata": {
    "id": "MHhd-gDxvcVl"
   },
   "source": [
    "Training the model:"
   ]
  },
  {
   "cell_type": "code",
   "execution_count": null,
   "id": "disabled-dominican",
   "metadata": {
    "id": "disabled-dominican"
   },
   "outputs": [],
   "source": [
    "reduce_lr = ReduceLROnPlateau(\n",
    "    monitor='val_loss',\n",
    "    factor=0.5,\n",
    "    patience=1,\n",
    "    min_lr=0.000001,\n",
    "    verbose=1\n",
    ")"
   ]
  },
  {
   "cell_type": "code",
   "execution_count": null,
   "id": "located-communications",
   "metadata": {
    "id": "located-communications"
   },
   "outputs": [],
   "source": [
    "model.compile(optimizer=Adam(learning_rate=0.002), loss='sparse_categorical_crossentropy')"
   ]
  },
  {
   "cell_type": "code",
   "execution_count": null,
   "id": "altered-internship",
   "metadata": {
    "id": "altered-internship"
   },
   "outputs": [],
   "source": [
    "es = EarlyStopping(monitor='val_loss', mode='min', verbose=1, patience=3)\n",
    "mc = ModelCheckpoint(filepath='model_basic.h5',\n",
    "                                        monitor='val_loss', \n",
    "                                        mode='min', \n",
    "                                        save_best_only=True,\n",
    "                                        save_weights_only=True,\n",
    "                                        verbose=1)"
   ]
  },
  {
   "cell_type": "code",
   "execution_count": null,
   "id": "resistant-helping",
   "metadata": {
    "colab": {
     "base_uri": "https://localhost:8080/"
    },
    "id": "resistant-helping",
    "outputId": "136b2f45-1cb8-4fc7-8df9-90a195f20259",
    "scrolled": false
   },
   "outputs": [
    {
     "name": "stdout",
     "output_type": "stream",
     "text": [
      "Epoch 1/30\n",
      "94/94 [==============================] - 59s 625ms/step - loss: 5.7568 - val_loss: 4.3981\n",
      "\n",
      "Epoch 00001: val_loss improved from inf to 4.39808, saving model to model_basic.h5\n",
      "Epoch 2/30\n",
      "94/94 [==============================] - 58s 617ms/step - loss: 4.2866 - val_loss: 4.0468\n",
      "\n",
      "Epoch 00002: val_loss improved from 4.39808 to 4.04680, saving model to model_basic.h5\n",
      "Epoch 3/30\n",
      "94/94 [==============================] - 58s 619ms/step - loss: 4.0685 - val_loss: 3.9236\n",
      "\n",
      "Epoch 00003: val_loss improved from 4.04680 to 3.92357, saving model to model_basic.h5\n",
      "Epoch 4/30\n",
      "94/94 [==============================] - 58s 622ms/step - loss: 3.9669 - val_loss: 3.8556\n",
      "\n",
      "Epoch 00004: val_loss improved from 3.92357 to 3.85555, saving model to model_basic.h5\n",
      "Epoch 5/30\n",
      "94/94 [==============================] - 59s 625ms/step - loss: 3.9006 - val_loss: 3.8083\n",
      "\n",
      "Epoch 00005: val_loss improved from 3.85555 to 3.80834, saving model to model_basic.h5\n",
      "Epoch 6/30\n",
      "94/94 [==============================] - 59s 627ms/step - loss: 3.8492 - val_loss: 3.7703\n",
      "\n",
      "Epoch 00006: val_loss improved from 3.80834 to 3.77030, saving model to model_basic.h5\n",
      "Epoch 7/30\n",
      "94/94 [==============================] - 59s 628ms/step - loss: 3.8029 - val_loss: 3.7328\n",
      "\n",
      "Epoch 00007: val_loss improved from 3.77030 to 3.73282, saving model to model_basic.h5\n",
      "Epoch 8/30\n",
      "94/94 [==============================] - 59s 630ms/step - loss: 3.7559 - val_loss: 3.6976\n",
      "\n",
      "Epoch 00008: val_loss improved from 3.73282 to 3.69756, saving model to model_basic.h5\n",
      "Epoch 9/30\n",
      "94/94 [==============================] - 59s 630ms/step - loss: 3.7108 - val_loss: 3.6627\n",
      "\n",
      "Epoch 00009: val_loss improved from 3.69756 to 3.66270, saving model to model_basic.h5\n",
      "Epoch 10/30\n",
      "94/94 [==============================] - 59s 628ms/step - loss: 3.6679 - val_loss: 3.6322\n",
      "\n",
      "Epoch 00010: val_loss improved from 3.66270 to 3.63223, saving model to model_basic.h5\n",
      "Epoch 11/30\n",
      "94/94 [==============================] - 59s 629ms/step - loss: 3.6262 - val_loss: 3.6005\n",
      "\n",
      "Epoch 00011: val_loss improved from 3.63223 to 3.60046, saving model to model_basic.h5\n",
      "Epoch 12/30\n",
      "94/94 [==============================] - 59s 629ms/step - loss: 3.5869 - val_loss: 3.5762\n",
      "\n",
      "Epoch 00012: val_loss improved from 3.60046 to 3.57618, saving model to model_basic.h5\n",
      "Epoch 13/30\n",
      "94/94 [==============================] - 59s 631ms/step - loss: 3.5519 - val_loss: 3.5523\n",
      "\n",
      "Epoch 00013: val_loss improved from 3.57618 to 3.55227, saving model to model_basic.h5\n",
      "Epoch 14/30\n",
      "94/94 [==============================] - 59s 630ms/step - loss: 3.5186 - val_loss: 3.5313\n",
      "\n",
      "Epoch 00014: val_loss improved from 3.55227 to 3.53129, saving model to model_basic.h5\n",
      "Epoch 15/30\n",
      "94/94 [==============================] - 59s 630ms/step - loss: 3.4871 - val_loss: 3.5133\n",
      "\n",
      "Epoch 00015: val_loss improved from 3.53129 to 3.51328, saving model to model_basic.h5\n",
      "Epoch 16/30\n",
      "94/94 [==============================] - 59s 631ms/step - loss: 3.4560 - val_loss: 3.4904\n",
      "\n",
      "Epoch 00016: val_loss improved from 3.51328 to 3.49038, saving model to model_basic.h5\n",
      "Epoch 17/30\n",
      "94/94 [==============================] - 59s 632ms/step - loss: 3.4212 - val_loss: 3.4616\n",
      "\n",
      "Epoch 00017: val_loss improved from 3.49038 to 3.46157, saving model to model_basic.h5\n",
      "Epoch 18/30\n",
      "94/94 [==============================] - 60s 634ms/step - loss: 3.3807 - val_loss: 3.4282\n",
      "\n",
      "Epoch 00018: val_loss improved from 3.46157 to 3.42821, saving model to model_basic.h5\n",
      "Epoch 19/30\n",
      "94/94 [==============================] - 60s 634ms/step - loss: 3.3362 - val_loss: 3.3914\n",
      "\n",
      "Epoch 00019: val_loss improved from 3.42821 to 3.39135, saving model to model_basic.h5\n",
      "Epoch 20/30\n",
      "94/94 [==============================] - 60s 634ms/step - loss: 3.2877 - val_loss: 3.3529\n",
      "\n",
      "Epoch 00020: val_loss improved from 3.39135 to 3.35291, saving model to model_basic.h5\n",
      "Epoch 21/30\n",
      "94/94 [==============================] - 60s 634ms/step - loss: 3.2414 - val_loss: 3.3222\n",
      "\n",
      "Epoch 00021: val_loss improved from 3.35291 to 3.32222, saving model to model_basic.h5\n",
      "Epoch 22/30\n",
      "94/94 [==============================] - 59s 633ms/step - loss: 3.1985 - val_loss: 3.2948\n",
      "\n",
      "Epoch 00022: val_loss improved from 3.32222 to 3.29478, saving model to model_basic.h5\n",
      "Epoch 23/30\n",
      "94/94 [==============================] - 60s 633ms/step - loss: 3.1575 - val_loss: 3.2655\n",
      "\n",
      "Epoch 00023: val_loss improved from 3.29478 to 3.26548, saving model to model_basic.h5\n",
      "Epoch 24/30\n",
      "94/94 [==============================] - 60s 635ms/step - loss: 3.1187 - val_loss: 3.2455\n",
      "\n",
      "Epoch 00024: val_loss improved from 3.26548 to 3.24554, saving model to model_basic.h5\n",
      "Epoch 25/30\n",
      "94/94 [==============================] - 60s 634ms/step - loss: 3.0811 - val_loss: 3.2196\n",
      "\n",
      "Epoch 00025: val_loss improved from 3.24554 to 3.21963, saving model to model_basic.h5\n",
      "Epoch 26/30\n",
      "94/94 [==============================] - 60s 634ms/step - loss: 3.0470 - val_loss: 3.1995\n",
      "\n",
      "Epoch 00026: val_loss improved from 3.21963 to 3.19952, saving model to model_basic.h5\n",
      "Epoch 27/30\n",
      "94/94 [==============================] - 59s 633ms/step - loss: 3.0143 - val_loss: 3.1841\n",
      "\n",
      "Epoch 00027: val_loss improved from 3.19952 to 3.18413, saving model to model_basic.h5\n",
      "Epoch 28/30\n",
      "94/94 [==============================] - 60s 633ms/step - loss: 2.9863 - val_loss: 3.1700\n",
      "\n",
      "Epoch 00028: val_loss improved from 3.18413 to 3.17002, saving model to model_basic.h5\n",
      "Epoch 29/30\n",
      "94/94 [==============================] - 60s 634ms/step - loss: 2.9588 - val_loss: 3.1590\n",
      "\n",
      "Epoch 00029: val_loss improved from 3.17002 to 3.15897, saving model to model_basic.h5\n",
      "Epoch 30/30\n",
      "94/94 [==============================] - 59s 633ms/step - loss: 2.9345 - val_loss: 3.1453\n",
      "\n",
      "Epoch 00030: val_loss improved from 3.15897 to 3.14526, saving model to model_basic.h5\n"
     ]
    }
   ],
   "source": [
    "model_history=model.fit([X_tr, Y_tr[:,:-1]], Y_tr.reshape(Y_tr.shape[0], Y_tr.shape[1], 1)[:,1:],\n",
    "                                    epochs=30, callbacks=[es, mc, reduce_lr], batch_size=1024,\n",
    "                                   validation_data=([X_val, Y_val[:,:-1]], Y_val.reshape(Y_val.shape[0], Y_val.shape[1], 1)[:,1:]))"
   ]
  },
  {
   "cell_type": "code",
   "execution_count": null,
   "id": "Gh_pRiloBl_X",
   "metadata": {
    "colab": {
     "base_uri": "https://localhost:8080/"
    },
    "id": "Gh_pRiloBl_X",
    "outputId": "3697e575-b5d1-40a6-810e-56b23aa31aa0"
   },
   "outputs": [
    {
     "name": "stdout",
     "output_type": "stream",
     "text": [
      "613/613 [==============================] - 24s 28ms/step - loss: 3.1761\n"
     ]
    },
    {
     "data": {
      "text/plain": [
       "3.1431186199188232"
      ]
     },
     "execution_count": 33,
     "metadata": {
      "tags": []
     },
     "output_type": "execute_result"
    }
   ],
   "source": [
    "model.evaluate([X_test, Y_test[:,:-1]], Y_test.reshape(Y_test.shape[0], Y_test.shape[1], 1)[:,1:])"
   ]
  },
  {
   "cell_type": "code",
   "execution_count": null,
   "id": "informed-worship",
   "metadata": {
    "colab": {
     "base_uri": "https://localhost:8080/"
    },
    "id": "informed-worship",
    "outputId": "d98f434d-1be9-4b2b-8d04-c401347854f0"
   },
   "outputs": [
    {
     "name": "stderr",
     "output_type": "stream",
     "text": [
      "WARNING:absl:Found untraced functions such as lstm_cell_12_layer_call_fn, lstm_cell_12_layer_call_and_return_conditional_losses, lstm_cell_13_layer_call_fn, lstm_cell_13_layer_call_and_return_conditional_losses, lstm_cell_14_layer_call_fn while saving (showing 5 of 20). These functions will not be directly callable after loading.\n",
      "WARNING:absl:Found untraced functions such as lstm_cell_12_layer_call_fn, lstm_cell_12_layer_call_and_return_conditional_losses, lstm_cell_13_layer_call_fn, lstm_cell_13_layer_call_and_return_conditional_losses, lstm_cell_14_layer_call_fn while saving (showing 5 of 20). These functions will not be directly callable after loading.\n"
     ]
    },
    {
     "name": "stdout",
     "output_type": "stream",
     "text": [
      "INFO:tensorflow:Assets written to: /content/summ_model/assets\n"
     ]
    },
    {
     "name": "stderr",
     "output_type": "stream",
     "text": [
      "INFO:tensorflow:Assets written to: /content/summ_model/assets\n"
     ]
    }
   ],
   "source": [
    "model.save(\"/content/summ_model\")"
   ]
  },
  {
   "cell_type": "code",
   "execution_count": null,
   "id": "3ifaEz-ugPSV",
   "metadata": {
    "id": "3ifaEz-ugPSV"
   },
   "outputs": [],
   "source": [
    "model.save_weights(\"/content/summ_model/seq2seq.h5\")"
   ]
  },
  {
   "cell_type": "code",
   "execution_count": null,
   "id": "romance-arcade",
   "metadata": {
    "colab": {
     "base_uri": "https://localhost:8080/",
     "height": 281
    },
    "id": "romance-arcade",
    "outputId": "c89491c3-bd55-4d78-baef-22b26a9f7285"
   },
   "outputs": [
    {
     "data": {
      "image/png": "[encoded data removed]",
      "text/plain": [
       "<Figure size 432x288 with 1 Axes>"
      ]
     },
     "metadata": {
      "needs_background": "light",
      "tags": []
     },
     "output_type": "display_data"
    }
   ],
   "source": [
    "plt.title(\"Losses\")\n",
    "plt.plot(model_history.history['loss'], label='train')\n",
    "plt.plot(model_history.history['val_loss'], label='test')\n",
    "plt.legend()\n",
    "plt.show()"
   ]
  },
  {
   "cell_type": "markdown",
   "id": "B1wB_YFSvwND",
   "metadata": {
    "id": "B1wB_YFSvwND"
   },
   "source": [
    "After a lot of attempts those results were the best of what i got with this architecture and that data. "
   ]
  },
  {
   "cell_type": "markdown",
   "id": "higher-martial",
   "metadata": {
    "id": "higher-martial"
   },
   "source": [
    "#### INFERENCE PHASE"
   ]
  },
  {
   "cell_type": "markdown",
   "id": "buried-basket",
   "metadata": {
    "id": "buried-basket"
   },
   "source": [
    "After training, the model is tested on new source sequences for which the target sequence is unknown. So, we need to set up the inference architecture to decode a test sequence:\n",
    "\n",
    "How does the inference process work?\n",
    "\n",
    "Here are the steps to decode the test sequence:\n",
    "\n",
    "    1) Encode the entire input sequence and initialize the decoder with internal states of the encoder\n",
    "    \n",
    "    2) Pass <start> token as an input to the decoder\n",
    "    \n",
    "    3) Run the decoder for one timestep with the internal states\n",
    "        \n",
    "    4) The output will be the probability for the next word. The word with the maximum probability will be selected\n",
    "    \n",
    "    5) Pass the sampled word as an input to the decoder in the next timestep and update the internal states with the current time step\n",
    "    \n",
    "    6) Repeat steps 3 – 5 until we generate <end> token or hit the maximum length of the target sequence\n",
    "   \n",
    "Let’s take an example where the test sequence is given by  [x1, x2, x3, x4]. How will the inference process work for this test sequence? I want you to think about it before you look at my thoughts below.\n",
    "\n",
    "    Encode the test sequence into internal state vectors\n",
    "    Observe how the decoder predicts the target sequence at each timestep:\n"
   ]
  },
  {
   "cell_type": "code",
   "execution_count": 33,
   "id": "decimal-appeal",
   "metadata": {
    "id": "decimal-appeal"
   },
   "outputs": [],
   "source": [
    "# saving key-values for each word from both tokenizers\n",
    "reverse_target_word_index=y_tokenizer.index_word  \n",
    "reverse_source_word_index=x_tokenizer.index_word\n",
    "target_word_index=y_tokenizer.word_index"
   ]
  },
  {
   "cell_type": "code",
   "execution_count": 35,
   "id": "GYTVkCRDickp",
   "metadata": {
    "colab": {
     "base_uri": "https://localhost:8080/"
    },
    "id": "GYTVkCRDickp",
    "outputId": "2f689adc-6663-41d1-aada-0a68f6aaa7d9"
   },
   "outputs": [
    {
     "data": {
      "text/plain": [
       "30933"
      ]
     },
     "execution_count": 35,
     "metadata": {
      "tags": []
     },
     "output_type": "execute_result"
    }
   ],
   "source": [
    "len(reverse_target_word_index)"
   ]
  },
  {
   "cell_type": "markdown",
   "id": "R50_jTIbuLTe",
   "metadata": {
    "id": "R50_jTIbuLTe"
   },
   "source": [
    "We are going to create out inference model from our previous  with saved weights. "
   ]
  },
  {
   "cell_type": "code",
   "execution_count": 36,
   "id": "GBhzl71Uj43p",
   "metadata": {
    "id": "GBhzl71Uj43p"
   },
   "outputs": [],
   "source": [
    "def build_basic_seq2seq_model_inference(\n",
    "    MAX_TEXT_LEN, latent_dim,\n",
    "    encoder_input, encoder_output, encoder_final_states,\n",
    "    decoder_input, decoder_output, \n",
    "    decoder_embedding_layer, decoder_dense, last_decoder_lstm\n",
    "):\n",
    "    # Encode the input sequence to get the feature vector\n",
    "    encoder_model = Model(inputs=encoder_input, outputs=[encoder_output] + encoder_final_states)\n",
    "    \n",
    "    # Decoder setup\n",
    "    # Below tensors will hold the states of the previous time step\n",
    "    decoder_state_input_h = Input(shape=(latent_dim,))\n",
    "    decoder_state_input_c = Input(shape=(latent_dim,))\n",
    "    decoder_hidden_state_input = Input(shape=(MAX_TEXT_LEN, latent_dim))\n",
    "    \n",
    "    # Get the embeddings of the decoder sequence\n",
    "    decoder_embedding = decoder_embedding_layer(decoder_input)\n",
    "    \n",
    "    # To predict the next word in the sequence, set the initial\n",
    "    # states to the states from the previous time step\n",
    "    decoder_output, *decoder_states = last_decoder_lstm(\n",
    "        decoder_embedding, initial_state=[decoder_state_input_h, decoder_state_input_c]\n",
    "    )\n",
    "    \n",
    "    # A dense softmax layer to generate prob dist. over the target vocabulary\n",
    "    decoder_output = decoder_dense(decoder_output)\n",
    "    \n",
    "    # Final decoder model\n",
    "    decoder_model = Model(\n",
    "        [decoder_input] + [decoder_hidden_state_input, decoder_state_input_h, decoder_state_input_c],\n",
    "        [decoder_output] + decoder_states\n",
    "    )\n",
    "    \n",
    "    return (encoder_model, decoder_model)\n"
   ]
  },
  {
   "cell_type": "code",
   "execution_count": 37,
   "id": "nQmYJtmLt5uQ",
   "metadata": {
    "id": "nQmYJtmLt5uQ"
   },
   "outputs": [],
   "source": [
    "encoder_model, decoder_model = build_basic_seq2seq_model_inference(MAX_TEXT_LEN, latent_dim, encoder_input_mod,\n",
    "                                                                   encoder_output_mod, encoder_final_states_mod, decoder_input_mod, decoder_output_mod,\n",
    "                                                                   decoder_embedding_layer_mod, decoder_dense_mod, last_decoder_lstm_mod)"
   ]
  },
  {
   "cell_type": "markdown",
   "id": "TiUecXDMEuXw",
   "metadata": {
    "id": "TiUecXDMEuXw"
   },
   "source": [
    "**ENCODER MODEL** - We get from the firs model parts with the weight and build new models for the INFERENCE PHASE"
   ]
  },
  {
   "cell_type": "code",
   "execution_count": 38,
   "id": "5V0S2UpOEa5y",
   "metadata": {
    "colab": {
     "base_uri": "https://localhost:8080/",
     "height": 533
    },
    "id": "5V0S2UpOEa5y",
    "outputId": "7c1a5722-3da6-45b9-fe56-5ceba09bf721"
   },
   "outputs": [
    {
     "data": {
      "image/png": "[encoded data removed]",
      "text/plain": [
       "<IPython.core.display.Image object>"
      ]
     },
     "execution_count": 38,
     "metadata": {
      "tags": []
     },
     "output_type": "execute_result"
    }
   ],
   "source": [
    "plot_model(encoder_model, show_shapes=True)"
   ]
  },
  {
   "cell_type": "markdown",
   "id": "uzAxnZsLFDkU",
   "metadata": {
    "id": "uzAxnZsLFDkU"
   },
   "source": [
    "**Decoder Model ** this is for generating the title for the news text part"
   ]
  },
  {
   "cell_type": "code",
   "execution_count": null,
   "id": "trGYRn8HEql1",
   "metadata": {
    "colab": {
     "base_uri": "https://localhost:8080/",
     "height": 422
    },
    "id": "trGYRn8HEql1",
    "outputId": "ede97289-b6dc-4d2c-8380-f903d158e4b0"
   },
   "outputs": [
    {
     "data": {
      "image/png": "[encoded data removed]",
      "text/plain": [
       "<IPython.core.display.Image object>"
      ]
     },
     "execution_count": 40,
     "metadata": {
      "tags": []
     },
     "output_type": "execute_result"
    }
   ],
   "source": [
    "plot_model(decoder_model, show_shapes=True)"
   ]
  },
  {
   "cell_type": "markdown",
   "id": "oBKe4gdNwIL9",
   "metadata": {
    "id": "oBKe4gdNwIL9"
   },
   "source": [
    "With the next functuon I am going to decode the predictions for the words of the title column."
   ]
  },
  {
   "cell_type": "code",
   "execution_count": 45,
   "id": "R4_lDw9227P4",
   "metadata": {
    "id": "R4_lDw9227P4"
   },
   "outputs": [],
   "source": [
    "def decode_sequence_for_basic_seq2seq_model(input_sequence, encoder_model, decoder_model):\n",
    "    # Encode the input as state vectors.\n",
    "    e_out, e_h, e_c = encoder_model.predict(input_sequence)\n",
    "\n",
    "    # Generate empty target sequence of length 1.\n",
    "    target_seq = np.zeros((1, 1))\n",
    "\n",
    "    # Populate the first word of target sequence with the start word.\n",
    "    target_seq[0, 0] = target_word_index[\"start\"]\n",
    "\n",
    "    stop_condition = False\n",
    "    decoded_sentence = ''\n",
    "\n",
    "    while not stop_condition:\n",
    "        output_tokens, h, c = decoder_model.predict([target_seq] + [e_out, e_h, e_c])\n",
    "\n",
    "        # Sample a token\n",
    "        sampled_token_index = np.argmax(output_tokens[0, -1, :])\n",
    "        sampled_token = reverse_target_word_index[int(sampled_token_index)]\n",
    "\n",
    "        if sampled_token != \"end\":\n",
    "            decoded_sentence += ' ' + sampled_token\n",
    "\n",
    "        # Exit condition: either hit max length or find stop word.\n",
    "        if (sampled_token == \"end\") or (len(decoded_sentence.split()) >= (MAX_SUMMARY_LEN-1)):\n",
    "            stop_condition = True\n",
    "\n",
    "        # Update the target sequence (of length 1).\n",
    "        target_seq = np.zeros((1, 1))\n",
    "        target_seq[0, 0] = sampled_token_index\n",
    "\n",
    "        # Update internal states\n",
    "        e_h, e_c = h, c\n",
    "\n",
    "\n",
    "    return decoded_sentence"
   ]
  },
  {
   "cell_type": "markdown",
   "id": "smFR7LkpwbZw",
   "metadata": {
    "id": "smFR7LkpwbZw"
   },
   "source": [
    "Whith those functions I will translate from tokenized to normal text:"
   ]
  },
  {
   "cell_type": "code",
   "execution_count": 46,
   "id": "ey35hDpW291O",
   "metadata": {
    "id": "ey35hDpW291O"
   },
   "outputs": [],
   "source": [
    "def seq2summary(input_sequence):\n",
    "    new_string = ''\n",
    "    for i in input_sequence:\n",
    "        if((i != 0 and i != target_word_index[\"start\"]) and (i != target_word_index[\"end\"])):\n",
    "            new_string = new_string + reverse_target_word_index[i] + ' '\n",
    "    return new_string\n",
    "\n",
    "\n",
    "def seq2text(input_sequence):\n",
    "    new_string = ''\n",
    "    for i in input_sequence:\n",
    "        if i != 0:\n",
    "            new_string = new_string + reverse_source_word_index[i] + ' '\n",
    "    return new_string"
   ]
  },
  {
   "cell_type": "code",
   "execution_count": 47,
   "id": "yOJveM1Fj4u7",
   "metadata": {
    "colab": {
     "base_uri": "https://localhost:8080/"
    },
    "id": "yOJveM1Fj4u7",
    "outputId": "5f7105dc-c6ba-4f7a-bc6a-211bb59648dd"
   },
   "outputs": [
    {
     "name": "stdout",
     "output_type": "stream",
     "text": [
      "# 1 News:  new warning added in march appeared to have little impact on children use of the drugs children aged to 17 still account for percent of anti prescribed said michael evans of the food and drug administration office of drug safety \n",
      "Original summary:  fda eyes rules on child anti depressants \n",
      "Predicted summary:   bush kerry to be sold for the tax\n",
      "\n",
      "# 2 News:  author jk rowling gives fans brief preview of the next harry potter novel it is reported \n",
      "Original summary:  fans given potter book preview \n",
      "Predicted summary:   the the the game\n",
      "\n",
      "# 3 News:  baghdad iraq decapitated body wrapped in an american flag and found in an insurgent controlled section of baghdad was that of japanese man kidnapped by islamic militants japanese official said sunday \n",
      "Original summary:  japan says decapitated body is that of kidnapped tourist \n",
      "Predicted summary:   us soldier killed in iraq\n",
      "\n",
      "# 4 News:  iranian president mohammad khatami has criticised an international atomic energy agency resolution on its nuclear activities drawn up by britain france and germany \n",
      "Original summary:  iran 39 president slams nuke plan \n",
      "Predicted summary:   iran says iran to darfur talks\n",
      "\n",
      "# 5 News:  beijing seven men and women apparently north korean defectors sought refugee at japanese school early friday morning japanese diplomats in beijing said that they were two men four women and girl \n",
      "Original summary:  7 north koreans take refugee at japanese embassy in north korea \n",
      "Predicted summary:   us troops to be tried to be tried to iraq\n",
      "\n",
      "# 6 News:  get inq7 breaking news on your smart mobile phone in the philippines send inq7 breaking to 386 beijing china wednesday again rejected call by us secretary of state colin powell to engage taiwan in dialogue \n",
      "Original summary:  china shuns talks with taiwan after powell call for dialogue \n",
      "Predicted summary:   un says no more troops in iraq\n",
      "\n",
      "# 7 News:  eu foreign ministers called monday for the immediate release of hostages in iraq and condemned violence there after deadly weekend wave of unrest as iraq and iran clouded talks in brussels \n",
      "Original summary:  eu urges release of iraqi hostages presses iran \n",
      "Predicted summary:   un says iraq to discuss iraq\n",
      "\n",
      "# 8 News:  ap insurgents in iraq have kidnapped dozens of people in their campaign to drive out coalition forces and hamper reconstruction \n",
      "Original summary:  list of foreigners taken hostage in iraq ap \n",
      "Predicted summary:   iraq kills in iraq ap\n",
      "\n",
      "# 9 News:  israel agreed on sunday to free up to 200 palestinian prisoners to show goodwill after egypt freed convicted israeli spy and ahead of elections for yasser arafat 39 successor officials said \n",
      "Original summary:  israel agrees to free jailed palestinians \n",
      "Predicted summary:   us troops kill in iraq\n",
      "\n",
      "# 10 News:  the world trade organisation wto agreed on monday to begin accession talks with iraq and afghanistan but the united states again blocked any such negotiations with iran diplomats said \n",
      "Original summary:  us blocks wto entry talks with iran \n",
      "Predicted summary:   iran says iran to darfur talks\n",
      "\n",
      "# 11 News:  even before the polling booths closed in afghanistans first ever direct presidential election all 15 candidates running against incumbent hamid karzai denounced \n",
      "Original summary:  we dont recognize the results \n",
      "Predicted summary:   us soldier killed in iraq\n",
      "\n",
      "# 12 News:  hundreds of militiamen were arrested today when police entered the imam ali mosque but rebel shiite cleric moktada al sadr was not found iraqi officials said \n",
      "Original summary:  iraqi police in control of najaf shrine according to reports \n",
      "Predicted summary:   us soldier killed in iraq\n",
      "\n",
      "# 13 News:  israel urged the united nations on wednesday to move toward sanctions against iran because tehran is never going to abandon its alleged quest for nuclear weapons \n",
      "Original summary:  israel urges sanctions again iran for nuclear program \n",
      "Predicted summary:   iran says iran to darfur talks\n",
      "\n",
      "# 14 News:  and smiled for photographers after discussing their captivity with him at his presidential palace in kabul reporters were not allowed to ask questions but nayan said he was well and grateful for the support he received from home \n",
      "Original summary:  freed hostages meet karzai \n",
      "Predicted summary:   us soldier killed in iraq\n",
      "\n",
      "# 15 News:  tehran iran was on tuesday considering whether to approve tentative agreement with britain france and germany aimed at limiting its nuclear activities and easing international suspicions \n",
      "Original summary:  iran mulls critical nuclear decision \n",
      "Predicted summary:   iran says iran to darfur talks\n",
      "\n",
      "# 16 News:  an investigative judge has questioned former chilean dictator augusto pinochet for half an hour to decide whether to indict him in one of hundreds of human rights cases stemming from his 1973 1990 rule \n",
      "Original summary:  pinochet questioned \n",
      "Predicted summary:   bush kerry to be sold for bush\n",
      "\n",
      "# 17 News:  evacuated earthquake victims from wrecked village and traumatized residents huddled in shelters and salvaged belongings from flattened homes sunday in the aftermath of string of earthquakes in northern japan that killed at least 16 people and injured reported 900 others \n",
      "Original summary:  helicopters evacuate japanese villagers after earthquakes kill at least 16 canadian press \n",
      "Predicted summary:   us soldier killed in iraq\n",
      "\n",
      "# 18 News:  amsterdam reuters an explosion damaged an islamic school in the southern dutch town of eindhoven monday police said the latest attack on muslim institution following the murder of filmmaker critical of islam last week \n",
      "Original summary:  islamic school in netherlands damaged in blast \n",
      "Predicted summary:   u s women 39 re charged with iraq\n",
      "\n",
      "# 19 News:  ap democrats on sunday said president bush post convention bounce was triggered by four days of mean vicious attacks on john kerry and would be short lived \n",
      "Original summary:  democrats claim bush bounce will fade ap \n",
      "Predicted summary:   bush kerry to be tried to be tried ap\n",
      "\n",
      "# 20 News:  the united nations says sudanese police have raided camp in darfur and destroyed makeshift homes fired into the air and shouted at terrified villagers \n",
      "Original summary:  sudanese police raid darfur camp un \n",
      "Predicted summary:   iran says iran to darfur talks\n",
      "\n",
      "# 21 News:  the french institute of public opinion announced that the majority of the public in france and germany were definitely against turkey 39 european union eu membership \n",
      "Original summary:  french and germans are against turkey 39 eu membership \n",
      "Predicted summary:   us airways to pay 000 jobs in darfur\n",
      "\n",
      "# 22 News:  european parliament politicians vowed to support jose manuel barroso 39 new european commission cabinet after he reshuffled his team \n",
      "Original summary:  barroso finds favor with new cabinet members \n",
      "Predicted summary:   us women 39 ll be tried for the world\n",
      "\n",
      "# 23 News:  gt lt gt los angeles reuters the film festival u s showcase for independent cinema named the monday that will compete at its 2005 festival in january including documentaries energy company enron and peru president alberto fujimori lt p gt \n",
      "Original summary:  opens competition to foreign films \n",
      "Predicted summary:   new york to buy new york\n",
      "\n",
      "# 24 News:  brasilia brazil reuters u n peacekeepers in haiti will not respond to international pressure to use violence against armed gangs and will rebuild the country as peacekeeping force not an occupying force the mission brazilian commander said on thursday \n",
      "Original summary:  brazil rejects u s call for haiti crackdown \n",
      "Predicted summary:   un says iraq to discuss iraq\n",
      "\n",
      "# 25 News:  first maps detailing the 39 right to roam 39 on privately owned land are being published on sunday the countryside agency will be printing open access maps for the whole of england over the course of the next 15 months \n",
      "Original summary:  right to roam maps published \n",
      "Predicted summary:   the the the the the the game\n",
      "\n",
      "# 26 News:  a palestinian delegation headed by the chairman of the palestine liberation organization plo mahmoud abbas is to start visit to syria today \n",
      "Original summary:  visits damascus today to tension meets with palestinian lt gt lt b gt \n",
      "Predicted summary:   us soldier killed in iraq\n",
      "\n",
      "# 27 News:  jerusalem sept 24 pti an israeli woman was killed and another slightly injured today when palestinian militants fired four mortar shells at the settlement in southern gaza strip army sources said \n",
      "Original summary:  mortar shells hit gaza settlement woman killed \n",
      "Predicted summary:   us soldier killed in iraq\n",
      "\n",
      "# 28 News:  more than 25 individuals with reported links to the taliban and its al qaeda allies were arrested by afghan security forces overnight in two locations spokesmen said saturday \n",
      "Original summary:  dozens of suspected militants nabbed in pre dawn raid \n",
      "Predicted summary:   us soldier killed in iraq\n",
      "\n",
      "# 29 News:  sudanese minister of state for foreign affairs najib al abdul denied the consent of his government to give self rule to darfur noting that it will ask for explanations from the un higher commissioner for refugees over his statements to \n",
      "Original summary:  confirms he is not supporting khartoum denies lt gt lt b gt \n",
      "Predicted summary:   iran says iran to darfur talks\n",
      "\n",
      "# 30 News:  controversial images of diseased lungs which health advisers want to see on every cigarette packet were revealed today the hard hitting anti smoking campaign \n",
      "Original summary:  shock images to make smokers quit \n",
      "Predicted summary:   the world 39 39 39 39 39 39 39 39 39 39\n",
      "\n",
      "# 31 News:  the bodies of nine people including three federal agents were discovered at two sites outside cancun mexico and police are blaming the killings on drug turf war in the mexican resort city \n",
      "Original summary:  nine bodies found near mexican city \n",
      "Predicted summary:   us soldier arrested in iraq\n",
      "\n",
      "# 32 News:  sixteen shoppers were injured on wednesday at the sweden based furniture store opening in jeddah medics revived some 20 customers \n",
      "Original summary:  three killed in saudi rush for ikea vouchers \n",
      "Predicted summary:   us women 39 ll be tried for the world\n",
      "\n",
      "# 33 News:  ap action on friday as the 108th congress moved toward adjournment which is expected on saturday \n",
      "Original summary:  congressional action at glance ap \n",
      "Predicted summary:   nasa 39 keefe to be sold for the world ap\n",
      "\n",
      "# 34 News:  afp crocodiles with huge teeth filled mouths lie in the sand and slap their on the edge of sulfur springs greeting worshippers who journey to the mango pir shrine on the outskirts of pakistan volatile port city karachi \n",
      "Original summary:  draw thousands of devotees in southern pakistan afp \n",
      "Predicted summary:   us says he 39 ll be tried to be tried to be deported reuters\n",
      "\n",
      "# 35 News:  baghdad iraq kidnappers released two female italian aid workers and five other hostages tuesday raising hopes for at least 18 foreigners still in captivity but insurgents showed no sign of easing their blood soaked campaign against the u s \n",
      "Original summary:  kidnappers release seven hostages in iraq \n",
      "Predicted summary:   us soldier killed in iraq\n",
      "\n",
      "# 36 News:  a rebel leader in sudan 39 darfur region has said his group will fully respect truce with khartoum countering earlier statements by spokesman declaring the agreement null and void \n",
      "Original summary:  sudan rebel leader vows to respect truce \n",
      "Predicted summary:   iran says iran to darfur talks\n",
      "\n",
      "# 37 News:  kuta beach indonesia reuters security was tight in this tourist center on the island of bali as ceremonies began on tuesday to mark the second anniversary of bomb blasts that killed 202 people mostly foreigners \n",
      "Original summary:  security tight for anniversary of bali bombings \n",
      "Predicted summary:   us soldier killed in iraq\n",
      "\n",
      "# 38 News:  tony blair has said his labor party will not cave in despite poor poll ratings revolts and protests over hunting and the iraq war \n",
      "Original summary:  blair labor will not buckle \n",
      "Predicted summary:   us troops to be tried to be deported\n",
      "\n",
      "# 39 News:  marwan barghouti withdrew from the race to replace palestinian president yasser arafat late last night his withdrawal means there will be smooth transition in the election on january with interim leader mahmoud abbas the clear favourite \n",
      "Original summary:  barghouti pulls out of election \n",
      "Predicted summary:   us soldier killed in iraq\n",
      "\n",
      "# 40 News:  reuters the russian government will discuss ratification of the kyoto protocol on thursday the government press service said on wednesday in sign russia is finally making up its mind to back the climate change pact \n",
      "Original summary:  russian government to discuss ratifying kyoto reuters \n",
      "Predicted summary:   iran says no nuclear talks with darfur reuters\n",
      "\n"
     ]
    }
   ],
   "source": [
    "for i in range(0, 40):\n",
    "    print(f\"# {i+1} News: \", seq2text(X_test[i]))\n",
    "    print(\"Original summary: \", seq2summary(Y_test[i]))\n",
    "    print(\"Predicted summary: \", decode_sequence_for_basic_seq2seq_model(X_test[i].reshape(1, MAX_TEXT_LEN), encoder_model, decoder_model))\n",
    "    print()\n",
    "    "
   ]
  },
  {
   "cell_type": "markdown",
   "id": "gsUIziZFtwj9",
   "metadata": {
    "id": "gsUIziZFtwj9"
   },
   "source": [
    "In general I am using argmax function, that is greedy algorithm that takes only the word with highest possibility.\n",
    "\n",
    "To make it better Beam Search will be better choice."
   ]
  },
  {
   "cell_type": "code",
   "execution_count": null,
   "id": "spanish-poultry",
   "metadata": {
    "id": "spanish-poultry"
   },
   "outputs": [],
   "source": [
    "tf.keras.backend.clear_session()"
   ]
  },
  {
   "cell_type": "markdown",
   "id": "bQdEpY_MEjYk",
   "metadata": {
    "id": "bQdEpY_MEjYk"
   },
   "source": [
    "### BERT Encoder and Decoder\n",
    "\n",
    "Now again I want to use Bert for this task. Basically BERT is part of Transformer (only the encoder). \n",
    "BERT makes use of Transformer, an attention mechanism that learns contextual relations between words (or sub-words) in a text. Transformer includes two separate mechanisms — an encoder that reads the text input and a decoder that produces a prediction for the task. Since BERT’s goal is to generate a language model, only the encoder mechanism is necessary. \n",
    "\n",
    "Nut can we implement BERT functionality for this task? BERT has 12 self-attention layers, that means that we have the output and the attentions for the previous layers."
   ]
  },
  {
   "cell_type": "code",
   "execution_count": 56,
   "id": "vYu_yHT4O6im",
   "metadata": {
    "id": "vYu_yHT4O6im"
   },
   "outputs": [],
   "source": [
    "#Model to summarize the text between 0-15 words for Summary and 0-100 words for Text\n",
    "MAX_TEXT_LEN = 40\n",
    "MAX_SUMMARY_LEN = 15"
   ]
  },
  {
   "cell_type": "markdown",
   "id": "DHklls8zxS2z",
   "metadata": {
    "id": "DHklls8zxS2z"
   },
   "source": [
    "#### Text preprocessing and tokenizing"
   ]
  },
  {
   "cell_type": "code",
   "execution_count": 57,
   "id": "G-C-XoPWKtlq",
   "metadata": {
    "id": "G-C-XoPWKtlq"
   },
   "outputs": [],
   "source": [
    "train.text = train.text.apply(denoise_text)\n",
    "train.title = train.title.apply(denoise_text)\n",
    "\n",
    "val.text = train.text.apply(denoise_text)\n",
    "val.title = train.title.apply(denoise_text)\n"
   ]
  },
  {
   "cell_type": "markdown",
   "id": "xVXjPnf3x3-a",
   "metadata": {
    "id": "xVXjPnf3x3-a"
   },
   "source": [
    "Text tokenizing\n",
    "\n",
    "using  BERT Toeknizer - with the usage of it we are going to have for BERT layer 3 inputs again"
   ]
  },
  {
   "cell_type": "code",
   "execution_count": 58,
   "id": "67ooXo900Ov0",
   "metadata": {
    "id": "67ooXo900Ov0"
   },
   "outputs": [],
   "source": [
    "bert_tokenizer = BertTokenizer.from_pretrained('bert-base-uncased')"
   ]
  },
  {
   "cell_type": "code",
   "execution_count": 59,
   "id": "ut3P86LnJrKW",
   "metadata": {
    "id": "ut3P86LnJrKW"
   },
   "outputs": [],
   "source": [
    "title_tokenizer = BertTokenizer.from_pretrained('bert-base-uncased')"
   ]
  },
  {
   "cell_type": "code",
   "execution_count": 60,
   "id": "_lThKt3Gxtdq",
   "metadata": {
    "id": "_lThKt3Gxtdq"
   },
   "outputs": [],
   "source": [
    "bert = \"bert-base-uncased\""
   ]
  },
  {
   "cell_type": "code",
   "execution_count": 61,
   "id": "p4gDz0354XX0",
   "metadata": {
    "id": "p4gDz0354XX0"
   },
   "outputs": [],
   "source": [
    "config = BertConfig(dropout = 0.2, attention_dropout = 0.2)\n",
    "config.output_attentions = True,\n",
    "config.output_hidden_states = True\n"
   ]
  },
  {
   "cell_type": "code",
   "execution_count": 62,
   "id": "ElAvY9bT1BIu",
   "metadata": {
    "id": "ElAvY9bT1BIu"
   },
   "outputs": [],
   "source": [
    "encoded_data_train = bert_tokenizer.batch_encode_plus(train.text, add_special_tokens=True, return_attention_mask=True,\n",
    "                                 padding = True, max_length = MAX_TEXT_LEN, truncation = True, return_tensors = \"tf\")\n",
    "\n",
    "encoded_data_val = bert_tokenizer.batch_encode_plus(val.text, add_special_tokens=True, return_attention_mask=True,\n",
    "                                 padding = True, max_length = MAX_TEXT_LEN, truncation = True, return_tensors = \"tf\")\n",
    "\n",
    "encoded_data_test = bert_tokenizer.batch_encode_plus(test.text, add_special_tokens=True, return_attention_mask=True,\n",
    "                                 padding = True, max_length = MAX_TEXT_LEN, truncation = True, return_tensors = \"tf\")"
   ]
  },
  {
   "cell_type": "code",
   "execution_count": 63,
   "id": "zsUW9YxO3gek",
   "metadata": {
    "id": "zsUW9YxO3gek"
   },
   "outputs": [],
   "source": [
    "X_VOC_BERT = bert_tokenizer.vocab_size + 1"
   ]
  },
  {
   "cell_type": "code",
   "execution_count": 64,
   "id": "pAGz-xlkxtxk",
   "metadata": {
    "id": "pAGz-xlkxtxk"
   },
   "outputs": [],
   "source": [
    "train_input_ids = encoded_data_train['input_ids']\n",
    "train_attention_mask = encoded_data_train['attention_mask']\n",
    "train_token_type_ids = encoded_data_train['token_type_ids']\n",
    "\n",
    "\n",
    "val_input_ids = encoded_data_val['input_ids']\n",
    "val_attention_mask = encoded_data_val['attention_mask']\n",
    "val_token_type_ids = encoded_data_val['token_type_ids']\n",
    "\n",
    "\n",
    "test_input_ids = encoded_data_test['input_ids']\n",
    "test_attention_mask = encoded_data_test['attention_mask']\n",
    "test_token_type_ids = encoded_data_test['token_type_ids']"
   ]
  },
  {
   "cell_type": "markdown",
   "id": "Z73vpSJKyIwh",
   "metadata": {
    "id": "Z73vpSJKyIwh"
   },
   "source": [
    "Title tokenizing\n",
    "\n",
    "For that case I am going to use normal Tensorflow Tokenizer and also include both [_Start_] and [_End_] tokens"
   ]
  },
  {
   "cell_type": "code",
   "execution_count": 65,
   "id": "GIe6aOFeG-4i",
   "metadata": {
    "id": "GIe6aOFeG-4i"
   },
   "outputs": [],
   "source": [
    "train['cleaned_title'] = pd.Series(['_START_ '+ str(doc) + ' _END_' for doc in train.title])\n",
    "val['cleaned_title'] = pd.Series(['_START_ '+ str(doc) + ' _END_' for doc in val.title])\n",
    "test['cleaned_title'] = pd.Series(['_START_ '+ str(doc) + ' _END_' for doc in test.title])\n"
   ]
  },
  {
   "cell_type": "code",
   "execution_count": 66,
   "id": "rSEWR--6HcTX",
   "metadata": {
    "id": "rSEWR--6HcTX"
   },
   "outputs": [],
   "source": [
    "title_train = tokenize_title(train, y_tokenizer)\n",
    "title_val = tokenize_title(val, y_tokenizer)\n",
    "title_test = tokenize_title(test, y_tokenizer)\n"
   ]
  },
  {
   "cell_type": "code",
   "execution_count": 67,
   "id": "vHhmJi8wJ4LF",
   "metadata": {
    "id": "vHhmJi8wJ4LF"
   },
   "outputs": [],
   "source": [
    "Y_VOC = len(y_tokenizer.word_index) + 1 ## beacuse of the padding"
   ]
  },
  {
   "cell_type": "code",
   "execution_count": 68,
   "id": "1s3OqdujKN--",
   "metadata": {
    "colab": {
     "base_uri": "https://localhost:8080/"
    },
    "id": "1s3OqdujKN--",
    "outputId": "f8143387-01e3-4351-9cdb-03a93f6373f5"
   },
   "outputs": [
    {
     "data": {
      "text/plain": [
       "(30523, 30934)"
      ]
     },
     "execution_count": 68,
     "metadata": {
      "tags": []
     },
     "output_type": "execute_result"
    }
   ],
   "source": [
    "X_VOC_BERT, Y_VOC"
   ]
  },
  {
   "cell_type": "markdown",
   "id": "6LDkddwnycV8",
   "metadata": {
    "id": "6LDkddwnycV8"
   },
   "source": [
    "#### Building BERT model"
   ]
  },
  {
   "cell_type": "code",
   "execution_count": 69,
   "id": "Di8SaPCDxtud",
   "metadata": {
    "id": "Di8SaPCDxtud"
   },
   "outputs": [],
   "source": [
    "def build_bert_model(embedding_dim, latent_dim, MAX_TEXT_LEN, X_VOC_BERT, Y_VOC, lr):\n",
    "      \n",
    "      ## ENCODER\n",
    "\n",
    "      encoder_model = TFBertModel.from_pretrained(bert, config = config, trainable = False)\n",
    "\n",
    "      input_ids = Input(shape=(MAX_TEXT_LEN,), name='input_ids', dtype='int32')\n",
    "      attention_mask = Input(shape=(MAX_TEXT_LEN,), name='attention_mask', dtype='int32')\n",
    "      token_type_ids = Input(shape=(MAX_TEXT_LEN,), name='token_type_ids', dtype='int32')\n",
    "\n",
    "      # encoder embedding layer\n",
    "      encoder_embedding = encoder_model([input_ids, attention_mask, token_type_ids])[0]\n",
    "\n",
    "      # all_hidden_states = encoder_embedding[2]\n",
    "      # attentions = encoder_embedding[3]\n",
    "\n",
    "      # encoder lstm 1\n",
    "      encoder_lstm1 = LSTM(latent_dim, return_sequences=True, return_state=True, dropout=0.55, name = \"encoder_lstm\")\n",
    "      encoder_output, *encoder_final_states = encoder_lstm1(encoder_embedding)\n",
    "\n",
    "      # DECODER\n",
    "\n",
    "      decoder_input = Input(shape=(None,))\n",
    "\n",
    "      # decoder embedding layer\n",
    "      decoder_embedding_layer = Embedding(Y_VOC, embedding_dim, trainable=True)\n",
    "      decoder_embedding = decoder_embedding_layer(decoder_input)\n",
    "      \n",
    "\n",
    "      # decoder lstm 1\n",
    "      decoder_lstm = LSTM(latent_dim, return_sequences=True, return_state=True, dropout=0.55, name = \"decoder_lstm\")\n",
    "      decoder_output, *decoder_final_states = decoder_lstm(decoder_embedding, initial_state=encoder_final_states)\n",
    "\n",
    "      # dense layer\n",
    "      decoder_dense = TimeDistributed(Dense(Y_VOC, activation='softmax'))\n",
    "      decoder_output = decoder_dense(decoder_output)\n",
    "\n",
    "\n",
    "      model = Model([[input_ids, attention_mask, token_type_ids], decoder_input], decoder_output)\n",
    "\n",
    "\n",
    "      model.summary()\n",
    "\n",
    "\n",
    "      optimizer = tf.keras.optimizers.Adam(learning_rate=lr)\n",
    "      model.compile(optimizer=optimizer, loss='sparse_categorical_crossentropy')\n",
    "    \n",
    "\n",
    "      return {\n",
    "          'model': model,\n",
    "          'inputs': {\n",
    "              'encoder': {\n",
    "                        \"input_ids\": input_ids,\n",
    "                        \"attention_mask\": attention_mask,\n",
    "                        \"token_type_ids\": token_type_ids\n",
    "              },\n",
    "              'decoder': decoder_input\n",
    "          },\n",
    "          'outputs': {\n",
    "              'encoder': encoder_output,\n",
    "              'decoder': decoder_output\n",
    "          },\n",
    "          'states': {\n",
    "              'encoder': encoder_final_states,\n",
    "              'decoder': decoder_final_states\n",
    "          },\n",
    "          'layers': {\n",
    "              'decoder': {\n",
    "                  'embedding': decoder_embedding_layer,\n",
    "                  'last_decoder_lstm': decoder_lstm,\n",
    "                  'dense': decoder_dense\n",
    "              }\n",
    "          }\n",
    "        }"
   ]
  },
  {
   "cell_type": "code",
   "execution_count": 70,
   "id": "qjrMa65ixtZu",
   "metadata": {
    "colab": {
     "base_uri": "https://localhost:8080/"
    },
    "id": "qjrMa65ixtZu",
    "outputId": "1501640b-e3ae-4c80-9d08-c83a1bc50ff2"
   },
   "outputs": [
    {
     "name": "stderr",
     "output_type": "stream",
     "text": [
      "Some layers from the model checkpoint at bert-base-uncased were not used when initializing TFBertModel: ['mlm___cls', 'nsp___cls']\n",
      "- This IS expected if you are initializing TFBertModel from the checkpoint of a model trained on another task or with another architecture (e.g. initializing a BertForSequenceClassification model from a BertForPreTraining model).\n",
      "- This IS NOT expected if you are initializing TFBertModel from the checkpoint of a model that you expect to be exactly identical (initializing a BertForSequenceClassification model from a BertForSequenceClassification model).\n",
      "All the layers of TFBertModel were initialized from the model checkpoint at bert-base-uncased.\n",
      "If your task is similar to the task the model of the checkpoint was trained on, you can already use TFBertModel for predictions without further training.\n"
     ]
    },
    {
     "name": "stdout",
     "output_type": "stream",
     "text": [
      "WARNING:tensorflow:The parameters `output_attentions`, `output_hidden_states` and `use_cache` cannot be updated when calling a model.They have to be set to True/False in the config object (i.e.: `config=XConfig.from_pretrained('name', output_attentions=True)`).\n",
      "WARNING:tensorflow:AutoGraph could not transform <bound method Socket.send of <zmq.sugar.socket.Socket object at 0x7ff9c953cbb0>> and will run it as-is.\n",
      "Please report this to the TensorFlow team. When filing the bug, set the verbosity to 10 (on Linux, `export AUTOGRAPH_VERBOSITY=10`) and attach the full output.\n",
      "Cause: module, class, method, function, traceback, frame, or code object was expected, got cython_function_or_method\n",
      "To silence this warning, decorate the function with @tf.autograph.experimental.do_not_convert\n",
      "WARNING: AutoGraph could not transform <bound method Socket.send of <zmq.sugar.socket.Socket object at 0x7ff9c953cbb0>> and will run it as-is.\n",
      "Please report this to the TensorFlow team. When filing the bug, set the verbosity to 10 (on Linux, `export AUTOGRAPH_VERBOSITY=10`) and attach the full output.\n",
      "Cause: module, class, method, function, traceback, frame, or code object was expected, got cython_function_or_method\n",
      "To silence this warning, decorate the function with @tf.autograph.experimental.do_not_convert\n",
      "WARNING:tensorflow:AutoGraph could not transform <function wrap at 0x7ff9e48e90e0> and will run it as-is.\n",
      "Cause: while/else statement not yet supported\n",
      "To silence this warning, decorate the function with @tf.autograph.experimental.do_not_convert\n",
      "WARNING: AutoGraph could not transform <function wrap at 0x7ff9e48e90e0> and will run it as-is.\n",
      "Cause: while/else statement not yet supported\n",
      "To silence this warning, decorate the function with @tf.autograph.experimental.do_not_convert\n",
      "WARNING:tensorflow:The parameter `return_dict` cannot be set in graph mode and will always be set to `True`.\n",
      "Model: \"model_3\"\n",
      "__________________________________________________________________________________________________\n",
      "Layer (type)                    Output Shape         Param #     Connected to                     \n",
      "==================================================================================================\n",
      "input_ids (InputLayer)          [(None, 40)]         0                                            \n",
      "__________________________________________________________________________________________________\n",
      "attention_mask (InputLayer)     [(None, 40)]         0                                            \n",
      "__________________________________________________________________________________________________\n",
      "token_type_ids (InputLayer)     [(None, 40)]         0                                            \n",
      "__________________________________________________________________________________________________\n",
      "input_6 (InputLayer)            [(None, None)]       0                                            \n",
      "__________________________________________________________________________________________________\n",
      "tf_bert_model (TFBertModel)     TFBaseModelOutputWit 109482240   input_ids[0][0]                  \n",
      "                                                                 attention_mask[0][0]             \n",
      "                                                                 token_type_ids[0][0]             \n",
      "__________________________________________________________________________________________________\n",
      "embedding_2 (Embedding)         (None, None, 100)    3093400     input_6[0][0]                    \n",
      "__________________________________________________________________________________________________\n",
      "encoder_lstm (LSTM)             [(None, 40, 64), (No 213248      tf_bert_model[0][25]             \n",
      "__________________________________________________________________________________________________\n",
      "decoder_lstm (LSTM)             [(None, None, 64), ( 42240       embedding_2[0][0]                \n",
      "                                                                 encoder_lstm[0][1]               \n",
      "                                                                 encoder_lstm[0][2]               \n",
      "__________________________________________________________________________________________________\n",
      "time_distributed_1 (TimeDistrib (None, None, 30934)  2010710     decoder_lstm[0][0]               \n",
      "==================================================================================================\n",
      "Total params: 114,841,838\n",
      "Trainable params: 5,359,598\n",
      "Non-trainable params: 109,482,240\n",
      "__________________________________________________________________________________________________\n"
     ]
    }
   ],
   "source": [
    "bert_model_decod_encod = build_bert_model(100, 64, MAX_TEXT_LEN, X_VOC_BERT, Y_VOC, lr = 0.01)"
   ]
  },
  {
   "cell_type": "code",
   "execution_count": 71,
   "id": "l1hyF25A8zHu",
   "metadata": {
    "id": "l1hyF25A8zHu"
   },
   "outputs": [],
   "source": [
    "bert_decoder_encoder = bert_model_decod_encod['model']"
   ]
  },
  {
   "cell_type": "code",
   "execution_count": 72,
   "id": "31KBkR6SF0D8",
   "metadata": {
    "id": "31KBkR6SF0D8"
   },
   "outputs": [],
   "source": [
    "bert_decoder_encoder.load_weights(\"/content/bert_Encoder_Decoder.h5\")"
   ]
  },
  {
   "cell_type": "code",
   "execution_count": 73,
   "id": "6MqpjxJYy5Wa",
   "metadata": {
    "id": "6MqpjxJYy5Wa"
   },
   "outputs": [],
   "source": [
    "encoder_inputs_ids = bert_model_decod_encod['inputs']['encoder'][\"input_ids\"]\n",
    "encoder_input_attention_mask = bert_model_decod_encod['inputs']['encoder'][\"attention_mask\"]\n",
    "encoder_input_token_type_ids = bert_model_decod_encod['inputs']['encoder'][\"token_type_ids\"]\n",
    "encoder_inputs = bert_model_decod_encod['inputs']['encoder']\n",
    "\n",
    "decoder_input = bert_model_decod_encod['inputs']['decoder']\n",
    "\n",
    "encoder_output = bert_model_decod_encod['outputs']['encoder']\n",
    "decoder_output = bert_model_decod_encod['outputs']['decoder']\n",
    "\n",
    "encoder_final_states = bert_model_decod_encod['states']['encoder']\n",
    "decoder_final_states = bert_model_decod_encod['states']['decoder']\n",
    "\n",
    "decoder_embedding_layer = bert_model_decod_encod['layers']['decoder']['embedding']\n",
    "last_decoder_lstm = bert_model_decod_encod['layers']['decoder']['last_decoder_lstm']\n",
    "decoder_dense = bert_model_decod_encod['layers']['decoder']['dense']"
   ]
  },
  {
   "cell_type": "code",
   "execution_count": null,
   "id": "K16V62MM8zQu",
   "metadata": {
    "colab": {
     "base_uri": "https://localhost:8080/",
     "height": 553
    },
    "id": "K16V62MM8zQu",
    "outputId": "29b67bac-3413-4351-e528-f9c429de95d6"
   },
   "outputs": [
    {
     "data": {
      "image/png": "[encoded data removed]",
      "text/plain": [
       "<IPython.core.display.Image object>"
      ]
     },
     "execution_count": 100,
     "metadata": {
      "tags": []
     },
     "output_type": "execute_result"
    }
   ],
   "source": [
    "plot_model(bert_decoder_encoder, show_shapes=True)"
   ]
  },
  {
   "cell_type": "markdown",
   "id": "isVtgkk9yzXc",
   "metadata": {
    "id": "isVtgkk9yzXc"
   },
   "source": [
    "Depending on the configuration (BertConfig) and inputs, BertModel returns the following outputs;\n",
    "\n",
    "    *last_hidden_state* — Sequence of hidden-states at the output of the last layer of the model.\n",
    "\n",
    "    *pooler_output* — Last layer hidden-state of the first token of the sequence\n",
    "\n",
    "    *hidden_states* (optional, returned when output_hidden_states=True is \n",
    "    passed or when config.output_hidden_states=True) – Hidden-states of the \n",
    "    model at the output of each layer plus the initial embedding outputs.\n",
    "\n",
    "    *attentions* - (optional, returned when output_attentions=True is passed or \n",
    "    when config.output_attentions=True) – Attention weights after the attention \n",
    "    softmax used to compute the weighted average in the self-attention heads.\n",
    "\n",
    "\n",
    "The full set of hidden states of the model, stored in the object hidden_states, is a little dizzying. This object has four dimensions, in the following order:\n",
    "    The layer number (13 layers)\n",
    "\n",
    "    The batch number (num of sentences)\n",
    "\n",
    "    The word/token number (maximum length of sentences)\n",
    "\n",
    "    The hidden unit/feature number (768 features)\n",
    "\n",
    "Wait, 13 layers? Doesn’t BERT only have 12? It’s 13 because the first element is the input embeddings, the rest is the outputs of each of BERT’s 12 layers.\n",
    "\n",
    "I connected BERT for one LSTM for Encoder part"
   ]
  },
  {
   "cell_type": "code",
   "execution_count": null,
   "id": "Uvua9UgTM8lL",
   "metadata": {
    "id": "Uvua9UgTM8lL"
   },
   "outputs": [],
   "source": [
    "reduce_lr = ReduceLROnPlateau(\n",
    "    monitor='val_loss',\n",
    "    factor=0.5,\n",
    "    patience=1,\n",
    "    min_lr=0.000001,\n",
    "    verbose=1\n",
    ")\n",
    "\n",
    "es = EarlyStopping(monitor='val_loss', mode='min', verbose=1, patience=3)\n",
    "mc = ModelCheckpoint(filepath='bert.h5',\n",
    "                                        monitor='val_loss', \n",
    "                                        mode='min', \n",
    "                                        save_best_only=True,\n",
    "                                        save_weights_only=True,\n",
    "                                        verbose=1)"
   ]
  },
  {
   "cell_type": "code",
   "execution_count": null,
   "id": "H5ka7GROxtV6",
   "metadata": {
    "colab": {
     "base_uri": "https://localhost:8080/"
    },
    "id": "H5ka7GROxtV6",
    "outputId": "cab9d10d-1fb2-455e-bc74-8e6bdcca15b3"
   },
   "outputs": [
    {
     "name": "stdout",
     "output_type": "stream",
     "text": [
      "Epoch 1/40\n",
      "WARNING:tensorflow:The parameters `output_attentions`, `output_hidden_states` and `use_cache` cannot be updated when calling a model.They have to be set to True/False in the config object (i.e.: `config=XConfig.from_pretrained('name', output_attentions=True)`).\n",
      "WARNING:tensorflow:The parameter `return_dict` cannot be set in graph mode and will always be set to `True`.\n",
      "WARNING:tensorflow:The parameters `output_attentions`, `output_hidden_states` and `use_cache` cannot be updated when calling a model.They have to be set to True/False in the config object (i.e.: `config=XConfig.from_pretrained('name', output_attentions=True)`).\n",
      "WARNING:tensorflow:The parameter `return_dict` cannot be set in graph mode and will always be set to `True`.\n",
      "94/94 [==============================] - ETA: 0s - loss: 6.1234WARNING:tensorflow:The parameters `output_attentions`, `output_hidden_states` and `use_cache` cannot be updated when calling a model.They have to be set to True/False in the config object (i.e.: `config=XConfig.from_pretrained('name', output_attentions=True)`).\n",
      "WARNING:tensorflow:The parameter `return_dict` cannot be set in graph mode and will always be set to `True`.\n",
      "94/94 [==============================] - 340s 4s/step - loss: 6.1100 - val_loss: 4.1755\n",
      "\n",
      "Epoch 00001: val_loss improved from inf to 4.17550, saving model to bert.h5\n",
      "Epoch 2/40\n",
      "94/94 [==============================] - 328s 3s/step - loss: 3.9793 - val_loss: 3.8641\n",
      "\n",
      "Epoch 00002: val_loss improved from 4.17550 to 3.86407, saving model to bert.h5\n",
      "Epoch 3/40\n",
      "94/94 [==============================] - 328s 3s/step - loss: 3.7513 - val_loss: 3.6676\n",
      "\n",
      "Epoch 00003: val_loss improved from 3.86407 to 3.66756, saving model to bert.h5\n",
      "Epoch 4/40\n",
      "94/94 [==============================] - 328s 3s/step - loss: 3.5813 - val_loss: 3.5149\n",
      "\n",
      "Epoch 00004: val_loss improved from 3.66756 to 3.51486, saving model to bert.h5\n",
      "Epoch 5/40\n",
      "94/94 [==============================] - 328s 3s/step - loss: 3.4509 - val_loss: 3.3831\n",
      "\n",
      "Epoch 00005: val_loss improved from 3.51486 to 3.38315, saving model to bert.h5\n",
      "Epoch 6/40\n",
      "94/94 [==============================] - 328s 3s/step - loss: 3.3229 - val_loss: 3.2480\n",
      "\n",
      "Epoch 00006: val_loss improved from 3.38315 to 3.24795, saving model to bert.h5\n",
      "Epoch 7/40\n",
      "94/94 [==============================] - 329s 3s/step - loss: 3.2090 - val_loss: 3.1341\n",
      "\n",
      "Epoch 00007: val_loss improved from 3.24795 to 3.13407, saving model to bert.h5\n",
      "Epoch 8/40\n",
      "94/94 [==============================] - 329s 3s/step - loss: 3.1140 - val_loss: 3.0385\n",
      "\n",
      "Epoch 00008: val_loss improved from 3.13407 to 3.03851, saving model to bert.h5\n",
      "Epoch 9/40\n",
      "94/94 [==============================] - 329s 3s/step - loss: 3.0408 - val_loss: 2.9670\n",
      "\n",
      "Epoch 00009: val_loss improved from 3.03851 to 2.96700, saving model to bert.h5\n",
      "Epoch 10/40\n",
      "94/94 [==============================] - 329s 3s/step - loss: 2.9743 - val_loss: 2.9075\n",
      "\n",
      "Epoch 00010: val_loss improved from 2.96700 to 2.90748, saving model to bert.h5\n",
      "Epoch 11/40\n",
      "94/94 [==============================] - 328s 3s/step - loss: 2.9230 - val_loss: 2.8564\n",
      "\n",
      "Epoch 00011: val_loss improved from 2.90748 to 2.85639, saving model to bert.h5\n",
      "Epoch 12/40\n",
      "94/94 [==============================] - 328s 3s/step - loss: 2.8765 - val_loss: 2.8147\n",
      "\n",
      "Epoch 00012: val_loss improved from 2.85639 to 2.81472, saving model to bert.h5\n",
      "Epoch 13/40\n",
      "94/94 [==============================] - 329s 4s/step - loss: 2.8392 - val_loss: 2.7716\n",
      "\n",
      "Epoch 00013: val_loss improved from 2.81472 to 2.77164, saving model to bert.h5\n",
      "Epoch 14/40\n",
      "94/94 [==============================] - 329s 4s/step - loss: 2.8006 - val_loss: 2.7309\n",
      "\n",
      "Epoch 00014: val_loss improved from 2.77164 to 2.73092, saving model to bert.h5\n",
      "Epoch 15/40\n",
      "94/94 [==============================] - 328s 3s/step - loss: 2.7675 - val_loss: 2.6983\n",
      "\n",
      "Epoch 00015: val_loss improved from 2.73092 to 2.69829, saving model to bert.h5\n",
      "Epoch 16/40\n",
      "94/94 [==============================] - 329s 4s/step - loss: 2.7412 - val_loss: 2.6673\n",
      "\n",
      "Epoch 00016: val_loss improved from 2.69829 to 2.66728, saving model to bert.h5\n",
      "Epoch 17/40\n",
      "94/94 [==============================] - 329s 4s/step - loss: 2.7139 - val_loss: 2.6395\n",
      "\n",
      "Epoch 00017: val_loss improved from 2.66728 to 2.63953, saving model to bert.h5\n",
      "Epoch 18/40\n",
      "94/94 [==============================] - 328s 3s/step - loss: 2.6879 - val_loss: 2.6174\n",
      "\n",
      "Epoch 00018: val_loss improved from 2.63953 to 2.61737, saving model to bert.h5\n",
      "Epoch 19/40\n",
      "94/94 [==============================] - 329s 3s/step - loss: 2.6688 - val_loss: 2.5983\n",
      "\n",
      "Epoch 00019: val_loss improved from 2.61737 to 2.59830, saving model to bert.h5\n",
      "Epoch 20/40\n",
      "94/94 [==============================] - 328s 3s/step - loss: 2.6428 - val_loss: 2.5689\n",
      "\n",
      "Epoch 00020: val_loss improved from 2.59830 to 2.56887, saving model to bert.h5\n",
      "Epoch 21/40\n",
      "94/94 [==============================] - 328s 3s/step - loss: 2.6223 - val_loss: 2.5511\n",
      "\n",
      "Epoch 00021: val_loss improved from 2.56887 to 2.55111, saving model to bert.h5\n",
      "Epoch 22/40\n",
      "94/94 [==============================] - 328s 3s/step - loss: 2.6096 - val_loss: 2.5319\n",
      "\n",
      "Epoch 00022: val_loss improved from 2.55111 to 2.53193, saving model to bert.h5\n",
      "Epoch 23/40\n",
      "94/94 [==============================] - 328s 3s/step - loss: 2.5888 - val_loss: 2.5165\n",
      "\n",
      "Epoch 00023: val_loss improved from 2.53193 to 2.51655, saving model to bert.h5\n",
      "Epoch 24/40\n",
      "94/94 [==============================] - 328s 3s/step - loss: 2.5802 - val_loss: 2.4956\n",
      "\n",
      "Epoch 00024: val_loss improved from 2.51655 to 2.49562, saving model to bert.h5\n",
      "Epoch 25/40\n",
      "94/94 [==============================] - 328s 3s/step - loss: 2.5641 - val_loss: 2.4819\n",
      "\n",
      "Epoch 00025: val_loss improved from 2.49562 to 2.48189, saving model to bert.h5\n",
      "Epoch 26/40\n",
      "94/94 [==============================] - 328s 3s/step - loss: 2.5528 - val_loss: 2.4637\n",
      "\n",
      "Epoch 00026: val_loss improved from 2.48189 to 2.46368, saving model to bert.h5\n",
      "Epoch 27/40\n",
      "94/94 [==============================] - 328s 3s/step - loss: 2.5347 - val_loss: 2.4488\n",
      "\n",
      "Epoch 00027: val_loss improved from 2.46368 to 2.44885, saving model to bert.h5\n",
      "Epoch 28/40\n",
      "94/94 [==============================] - 328s 3s/step - loss: 2.5248 - val_loss: 2.4391\n",
      "\n",
      "Epoch 00028: val_loss improved from 2.44885 to 2.43913, saving model to bert.h5\n",
      "Epoch 29/40\n",
      "94/94 [==============================] - 328s 3s/step - loss: 2.5170 - val_loss: 2.4320\n",
      "\n",
      "Epoch 00029: val_loss improved from 2.43913 to 2.43205, saving model to bert.h5\n",
      "Epoch 30/40\n",
      "94/94 [==============================] - 328s 3s/step - loss: 2.5051 - val_loss: 2.4198\n",
      "\n",
      "Epoch 00030: val_loss improved from 2.43205 to 2.41984, saving model to bert.h5\n",
      "Epoch 31/40\n",
      "94/94 [==============================] - 329s 3s/step - loss: 2.4956 - val_loss: 2.4063\n",
      "\n",
      "Epoch 00031: val_loss improved from 2.41984 to 2.40632, saving model to bert.h5\n",
      "Epoch 32/40\n",
      "94/94 [==============================] - 329s 4s/step - loss: 2.4852 - val_loss: 2.3948\n",
      "\n",
      "Epoch 00032: val_loss improved from 2.40632 to 2.39484, saving model to bert.h5\n",
      "Epoch 33/40\n",
      "94/94 [==============================] - 329s 3s/step - loss: 2.4781 - val_loss: 2.3914\n",
      "\n",
      "Epoch 00033: val_loss improved from 2.39484 to 2.39140, saving model to bert.h5\n",
      "Epoch 34/40\n",
      "94/94 [==============================] - 329s 4s/step - loss: 2.4677 - val_loss: 2.3771\n",
      "\n",
      "Epoch 00034: val_loss improved from 2.39140 to 2.37711, saving model to bert.h5\n",
      "Epoch 35/40\n",
      "94/94 [==============================] - 328s 3s/step - loss: 2.4609 - val_loss: 2.3761\n",
      "\n",
      "Epoch 00035: val_loss improved from 2.37711 to 2.37609, saving model to bert.h5\n",
      "Epoch 36/40\n",
      "94/94 [==============================] - 329s 4s/step - loss: 2.4527 - val_loss: 2.3676\n",
      "\n",
      "Epoch 00036: val_loss improved from 2.37609 to 2.36763, saving model to bert.h5\n",
      "Epoch 37/40\n",
      "94/94 [==============================] - 329s 4s/step - loss: 2.4462 - val_loss: 2.3499\n",
      "\n",
      "Epoch 00037: val_loss improved from 2.36763 to 2.34987, saving model to bert.h5\n",
      "Epoch 38/40\n",
      "94/94 [==============================] - 329s 3s/step - loss: 2.4346 - val_loss: 2.3382\n",
      "\n",
      "Epoch 00038: val_loss improved from 2.34987 to 2.33824, saving model to bert.h5\n",
      "Epoch 39/40\n",
      "94/94 [==============================] - 329s 3s/step - loss: 2.4303 - val_loss: 2.3335\n",
      "\n",
      "Epoch 00039: val_loss improved from 2.33824 to 2.33345, saving model to bert.h5\n",
      "Epoch 40/40\n",
      "94/94 [==============================] - 329s 4s/step - loss: 2.4252 - val_loss: 2.3306\n",
      "\n",
      "Epoch 00040: val_loss improved from 2.33345 to 2.33058, saving model to bert.h5\n"
     ]
    }
   ],
   "source": [
    "hist_bert = bert_decoder_encoder.fit([[train_input_ids, train_attention_mask, train_token_type_ids], title_tain[:,:-1]], title_tain.reshape(title_tain.shape[0], title_tain.shape[1], 1)[:,1:],\n",
    "                                    epochs=40, callbacks=[es, mc, reduce_lr], batch_size=1024,\n",
    "                                   validation_data=([[val_input_ids, val_attention_mask, val_token_type_ids], title_val[:,:-1]], title_val.reshape(title_val.shape[0], title_val.shape[1], 1)[:,1:])"
   ]
  },
  {
   "cell_type": "code",
   "execution_count": null,
   "id": "rsZanO5gJ_oK",
   "metadata": {
    "id": "rsZanO5gJ_oK"
   },
   "outputs": [],
   "source": [
    "bert_decoder_encoder.save_weights(\"/content/bert_Encoder_Decoder.h5\")\n"
   ]
  },
  {
   "cell_type": "code",
   "execution_count": null,
   "id": "DTRF3DW6OH0O",
   "metadata": {
    "id": "DTRF3DW6OH0O"
   },
   "outputs": [],
   "source": [
    "bert_decoder_encoder.load_weights(\"/content/bert_Encoder_Decoder.h5\")"
   ]
  },
  {
   "cell_type": "code",
   "execution_count": null,
   "id": "O-I_RsGTHW_U",
   "metadata": {
    "colab": {
     "base_uri": "https://localhost:8080/"
    },
    "id": "O-I_RsGTHW_U",
    "outputId": "4b550dee-fb53-46b8-a8ab-b15a7bc034cc"
   },
   "outputs": [
    {
     "name": "stdout",
     "output_type": "stream",
     "text": [
      "WARNING:tensorflow:The parameters `output_attentions`, `output_hidden_states` and `use_cache` cannot be updated when calling a model.They have to be set to True/False in the config object (i.e.: `config=XConfig.from_pretrained('name', output_attentions=True)`).\n",
      "WARNING:tensorflow:The parameter `return_dict` cannot be set in graph mode and will always be set to `True`.\n",
      "613/613 [==============================] - 107s 172ms/step - loss: 3.0953\n"
     ]
    },
    {
     "data": {
      "text/plain": [
       "3.064260482788086"
      ]
     },
     "execution_count": 64,
     "metadata": {
      "tags": []
     },
     "output_type": "execute_result"
    }
   ],
   "source": [
    "bert_decoder_encoder.evaluate([[test_input_ids, test_attention_mask, test_token_type_ids], title_test[:,:-1]], title_test.reshape(title_test.shape[0], title_test.shape[1], 1)[:,1:])"
   ]
  },
  {
   "cell_type": "code",
   "execution_count": null,
   "id": "3QoKMVqJJ5kH",
   "metadata": {
    "colab": {
     "base_uri": "https://localhost:8080/",
     "height": 281
    },
    "id": "3QoKMVqJJ5kH",
    "outputId": "d319abaf-a49b-4e38-ac36-61d338799108"
   },
   "outputs": [
    {
     "data": {
      "image/png": "[encoded data removed]",
      "text/plain": [
       "<Figure size 432x288 with 1 Axes>"
      ]
     },
     "metadata": {
      "needs_background": "light",
      "tags": []
     },
     "output_type": "display_data"
    }
   ],
   "source": [
    "plt.title(\"Losses\")\n",
    "plt.plot(hist_bert.history['loss'], label='train')\n",
    "plt.plot(hist_bert.history['val_loss'], label='test')\n",
    "plt.legend()\n",
    "plt.show()"
   ]
  },
  {
   "cell_type": "markdown",
   "id": "6IH3ndNEu7Vl",
   "metadata": {
    "id": "6IH3ndNEu7Vl"
   },
   "source": [
    "We can see this time we have better results for the loss and bearly overfiting"
   ]
  },
  {
   "cell_type": "code",
   "execution_count": 74,
   "id": "7fQ-CfFNeQu2",
   "metadata": {
    "id": "7fQ-CfFNeQu2"
   },
   "outputs": [],
   "source": [
    "def build_basic_seq2seq_model_inference_with_bert(\n",
    "    MAX_TEXT_LEN, latent_dim,\n",
    "    encoder_input, encoder_output, encoder_final_states,\n",
    "    decoder_input, decoder_output, \n",
    "    decoder_embedding_layer, decoder_dense, last_decoder_lstm\n",
    "):\n",
    "    # Encode the input sequence to get the feature vector\n",
    "    encoder_model = Model(inputs=encoder_inputs, outputs=[encoder_output] + encoder_final_states)\n",
    "    \n",
    "    # Decoder setup\n",
    "    # Below tensors will hold the states of the previous time step\n",
    "    decoder_state_input_h = Input(shape=(latent_dim,), name=\"input_h\")\n",
    "    decoder_state_input_c = Input(shape=(latent_dim,), name=\"input_c\")\n",
    "    decoder_hidden_state_input = Input(shape=(MAX_TEXT_LEN, latent_dim))\n",
    "    \n",
    "    # Get the embeddings of the decoder sequence\n",
    "    decoder_embedding = decoder_embedding_layer(decoder_input)\n",
    "    \n",
    "    # To predict the next word in the sequence, set the initial\n",
    "    # states to the states from the previous time step\n",
    "    decoder_output, *decoder_states = last_decoder_lstm(\n",
    "        decoder_embedding, initial_state=[decoder_state_input_h, decoder_state_input_c]\n",
    "    )\n",
    "    \n",
    "    # A dense softmax layer to generate prob dist. over the target vocabulary\n",
    "    decoder_output = decoder_dense(decoder_output)\n",
    "    \n",
    "    # Final decoder model\n",
    "    decoder_model = Model(\n",
    "        [decoder_input] + [decoder_hidden_state_input, decoder_state_input_h, decoder_state_input_c],\n",
    "        [decoder_output] + decoder_states\n",
    "    )\n",
    "    \n",
    "    return (encoder_model, decoder_model)"
   ]
  },
  {
   "cell_type": "code",
   "execution_count": 75,
   "id": "kwJhYG9W8y7s",
   "metadata": {
    "id": "kwJhYG9W8y7s"
   },
   "outputs": [],
   "source": [
    "encoder_model_bert, decoder_model_bert = build_basic_seq2seq_model_inference_with_bert(MAX_TEXT_LEN, 64, encoder_inputs,\n",
    "                                                                   encoder_output, encoder_final_states, decoder_input, decoder_output,\n",
    "                                                                   decoder_embedding_layer, decoder_dense, last_decoder_lstm)"
   ]
  },
  {
   "cell_type": "code",
   "execution_count": 76,
   "id": "JM9XBPBwBkDF",
   "metadata": {
    "id": "JM9XBPBwBkDF"
   },
   "outputs": [],
   "source": [
    "reverse_target_word_index=y_tokenizer.index_word\n",
    "target_word_index=y_tokenizer.word_index"
   ]
  },
  {
   "cell_type": "code",
   "execution_count": 77,
   "id": "N3tJuV9X_IeM",
   "metadata": {
    "id": "N3tJuV9X_IeM"
   },
   "outputs": [],
   "source": [
    "def seq2summary(input_sequence):\n",
    "    new_string = ''\n",
    "    for i in input_sequence:\n",
    "        if((i != 0 and i != target_word_index[\"start\"]) and (i != target_word_index[\"end\"])):\n",
    "            new_string = new_string + reverse_target_word_index[i] + ' '\n",
    "    return new_string\n",
    "\n",
    "\n",
    "def seq2text(input_sequence):\n",
    "    new_string = ''\n",
    "    for i in input_sequence:\n",
    "        if (i != 0 and i != 101) and (i != 102):\n",
    "            new_string = new_string + bert_tokenizer.decode([i]) + ' '\n",
    "    return new_string"
   ]
  },
  {
   "cell_type": "code",
   "execution_count": 78,
   "id": "wUxCtsse61eA",
   "metadata": {
    "colab": {
     "base_uri": "https://localhost:8080/"
    },
    "id": "wUxCtsse61eA",
    "outputId": "70bbfa49-db62-4fa7-8dbc-1067e3d3c26d"
   },
   "outputs": [
    {
     "name": "stdout",
     "output_type": "stream",
     "text": [
      "# 1 News:  the ioc wants suspended olympic member ivan sl ##av ##kov to be thrown out of the organisation . \n",
      "Original summary:  ioc recommends slavkov expulsion \n",
      "WARNING:tensorflow:The parameters `output_attentions`, `output_hidden_states` and `use_cache` cannot be updated when calling a model.They have to be set to True/False in the config object (i.e.: `config=XConfig.from_pretrained('name', output_attentions=True)`).\n",
      "WARNING:tensorflow:The parameter `return_dict` cannot be set in graph mode and will always be set to `True`.\n",
      "Predicted summary:   no oklahoma state defeats unlv in bcs standings\n",
      "\n",
      "# 2 News:  reuters when india play pakistan it is classic hockey match their historic rivalry sucking in the whole stadium . \n",
      "Original summary:  hockey teams seek foreign secrets of success reuters \n",
      "Predicted summary:   radcliffe wins women 39\n",
      "\n",
      "# 3 News:  secretary of state colin l . powell said yesterday that brazil is quo ##t serious quo ##t and quo ##t solid quo ##t candidate for permanent seat in an expanded un security council although \n",
      "Original summary:  bid for un seat 39 solid 39 powell says \n",
      "Predicted summary:   hurricane ivan churns toward caribbean isles\n",
      "\n",
      "# 4 News:  russian president vladimir putin says his country is developing new type of nuclear missile . mr . putin spoke at an annual meeting of the armed forces # 39 senior leadership . \n",
      "Original summary:  putin russia developing new kind of nuclear missile \n",
      "Predicted summary:   the rundown\n",
      "\n",
      "# 5 News:  the british and iraqi governments said they would not bow to the demands of militants threatening to kill british hostage despite tear ##ful pleas from the captive and his family . \n",
      "Original summary:  iraq uk govts say will not give in to kidnappers \n",
      "Predicted summary:   hurricane ivan churns toward graveyard\n",
      "\n",
      "# 6 News:  reuters congo government spokesman denied \\ tuesday that rival army factions were fighting each other in \\ the east of the country and insisted the clashes were between \\ congo ##lese and rwanda ##n forces . \n",
      "Original summary:  congo says its troops are fighting rwandan forces reuters \n",
      "Predicted summary:   radcliffe wins women 39\n",
      "\n",
      "# 7 News:  af ##p the dollar dipped amid concerns about the us position with the rest of the world following data showing record current account deficit in the second quarter . \n",
      "Original summary:  dollar dips on us current account concerns afp \n",
      "Predicted summary:   radcliffe wins women 39\n",
      "\n",
      "# 8 News:  the hague - - russia and the european union failed yesterday to complete negotiations on quo ##t strategic partnership quo ##t because of disagreements over security and other issues at summit overshadowed by the ukraine political crisis . \n",
      "Original summary:  eu russia fail to reach accord at summit \n",
      "Predicted summary:   no 12 000 in japan\n",
      "\n",
      "# 9 News:  britain # 39 ambassador to iraq has appealed for information that would lead to the recovery of the remains of former hostage ken big ##ley . \n",
      "Original summary:  uk appeals for bigley 39 remains \n",
      "Predicted summary:   hurricane ivan churns toward fla senate ap\n",
      "\n",
      "# 10 News:  lebanon # 39 cabinet has approved bill to amend the constitution and allow the president emile la ##ho ##ud to stay in power for another three years . \n",
      "Original summary:  move to bolster lebanon president \n",
      "Predicted summary:   hewitt advances to lead in japan\n",
      "\n",
      "# 11 News:  a convoy carrying afghan president hamid ka ##rza ##i vice presidential running - mate came under attack wednesday in northeastern afghanistan the presidential palace and other officials said the third attack on ka ##rza ##i supporters ahead of \n",
      "Original summary:  convoy of karzai running mate is attacked \n",
      "Predicted summary:   no 13 in japan 39 jimenez wins world cup\n",
      "\n",
      "# 12 News:  the greek airline ##r forced to make an emergency landing at stan ##sted airport following bomb threat has been given the all - clear by police today . \n",
      "Original summary:  bomb threat plane given all clear \n",
      "Predicted summary:   the brink of the world cup\n",
      "\n",
      "# 13 News:  a british det ##aine ##e said he has been abused in guantanamo adding he witnessed the deaths of two other detainees at the hands of us military personnel according to letter sent to his lawyers . \n",
      "Original summary:  briton sheds more light on guantanamo hell \n",
      "Predicted summary:   no 19 alabama st defeats unlv in ot\n",
      "\n",
      "# 14 News:  reuters democratic presidential nominee \\ john kerry on monday called the invasion of iraq the wrong war \\ in the wrong place at the wrong time and said his goal was to \\ withdraw u . s . \n",
      "Original summary:  kerry on iraq wrong war wrong place wrong time reuters \n",
      "Predicted summary:   radcliffe wins women 39\n",
      "\n",
      "# 15 News:  baghdad iraq sept . 20 2004 militant group posted video on the internet pu ##rp ##ort ##ing to show militants saw ##ing off the heads of three iraqi members of kurdish party for cooper ##ating with us forces \n",
      "Original summary:  video shows hostages beheaded in iraq \n",
      "Predicted summary:   no 13 in japan to play in japan\n",
      "\n",
      "# 16 News:  israeli helicopters fired eight rockets in gaza city in response to an earlier attack by hamas movement against an israeli army post on the border between the gaza strip and egypt . \n",
      "Original summary:  will not talk to palestinian leaders until the fighting lt gt lt b gt \n",
      "Predicted summary:   fla keys to haiti dolphins for hurricane frances\n",
      "\n",
      "# 17 News:  british forces are to carry out an evacuation of british nationals from the strife - torn west african state of ivory coast it was announced today . \n",
      "Original summary:  troops to evacuate britons from ivory coast \n",
      "Predicted summary:   oil prices fall as oil prices fall\n",
      "\n",
      "# 18 News:  ap militants filed out of the imam ali shrine closed the doors behind them and turned over the keys to iraq top shi ##ite cleric friday symbol ##izing their acceptance of peace deal to end three weeks of \n",
      "Original summary:  iraq militants leave shrine in peace deal ap \n",
      "Predicted summary:   hurricane ivan churns toward caribbean\n",
      "\n",
      "# 19 News:  a military funeral for the palestinian president ya ##sser ara ##fat will be held in the egyptian capital cairo this morning . after the funeral president ara ##fat # 39 coffin will be flown by helicopter to rama \n",
      "Original summary:  cairo hosting arafat funeral \n",
      "Predicted summary:   hurricane ivan churns toward caribbean\n",
      "\n",
      "# 20 News:  new delhi - - powerful bomb killed at least 16 people many of them school ##child ##ren and wounded about 40 others as they assembled for an independence day parade yesterday in the northeastern state of assam authorities \n",
      "Original summary:  bomb at parade in india leaves 16 dead 40 hurt \n",
      "Predicted summary:   fla keys to haiti dolphins for hurricane frances\n",
      "\n"
     ]
    }
   ],
   "source": [
    "for i in range(0, 20):\n",
    "    print(f\"# {i+1} News: \", seq2text(val_input_ids[i]))\n",
    "    print(\"Original summary: \", seq2summary(title_val[i]))\n",
    "    print(\"Predicted summary: \", decode_sequence_for_basic_seq2seq_model([val_input_ids[i].numpy().reshape(1, MAX_TEXT_LEN), val_attention_mask[i].numpy().reshape(1, MAX_TEXT_LEN),\n",
    "                                                                          val_token_type_ids[i].numpy().reshape(1, MAX_TEXT_LEN)], encoder_model_bert, decoder_model_bert))\n",
    "    print()"
   ]
  },
  {
   "cell_type": "code",
   "execution_count": null,
   "id": "ktUCCPqHT94r",
   "metadata": {
    "id": "ktUCCPqHT94r"
   },
   "outputs": [],
   "source": [
    "tf.keras.backend.clear_session()"
   ]
  },
  {
   "cell_type": "markdown",
   "id": "ADxFjQ2_BTPy",
   "metadata": {
    "id": "ADxFjQ2_BTPy"
   },
   "source": [
    "We can see that we don't have the exact same output as the title. \n",
    "For better performance we can make further researches bulding a BERT (as encoder) and Transformer XL (as decoder). Using Beam search or try with pointer generator."
   ]
  },
  {
   "cell_type": "markdown",
   "id": "wrapped-harris",
   "metadata": {},
   "source": [
    "#### Another option with less coding and bulding bloacks: BART model"
   ]
  },
  {
   "cell_type": "markdown",
   "id": "mwW9BTqUFImC",
   "metadata": {
    "id": "mwW9BTqUFImC"
   },
   "source": [
    "There is also fast pipeline provided by Huggingface, which can save you headaches dealing with hidden_states and connecting networks. It works quite well !"
   ]
  },
  {
   "cell_type": "code",
   "execution_count": 137,
   "id": "aJ64eVSeDJKc",
   "metadata": {
    "colab": {
     "base_uri": "https://localhost:8080/",
     "height": 265,
     "referenced_widgets": [
      "b7baa95f491c4c3a89577b5e846b3f52",
      "94eabed152c441abbb650339fd3ee9c9",
      "a7d84da23db344709b9ced8ba4e4bb06",
      "f5ec4c7abbbe4bedbb92849b3f97b4fc",
      "a6648728e87447c183e2cbbc3bfed012",
      "1a75ada13e574a2997f3ffe5a1e131ae",
      "fd18adc54a5e4392b40e5cb6957ad4c8",
      "8d25b2048ed64bab8c934b73dc8574b2",
      "6221ba71f38c4c939ec6e2f4f80a180d",
      "76174aa660494049a4f6fccfcdebf5be",
      "6a26c2ae61474034a9650dee008a0196",
      "a3fcc16baa0d41f09a46b13e57323075",
      "42d0d74e7251425f8a568d6f139198c2",
      "cf97ef828ea44424b799f1ca39647586",
      "f0e56e8c384e47ce91d9199bb6029786",
      "db104b8ca09c412299dbcaf61731cf9f",
      "6913b5d741804a6693b761858b94f42a",
      "883eed21126b4b7d8066d4bfa8c742eb",
      "f66f8c837b7544749aaffcd7579ece7a",
      "dbf9f976a2ee48f999488f832cfd5fbf",
      "f8eee88868e6442e8d3fb92144a88b0c",
      "614bff0d042641f8b882e9f4a504f3c3",
      "5fb0b3785d10428091994fb740093670",
      "46939880000a48b79b516273786a90ff",
      "8e13fd5b7aad460ea0b54ddbe25372b1",
      "e864e21e36c64c4ea4a29d64e0c2e32b",
      "1f021b369c894c0c97d7f4c8e9748314",
      "27755d2227d440f7a8bff6a9e5e39477",
      "4d96360ebfdc4e4fa0174d83e6bbdfcc",
      "7444542bcea64066b8d6449ab30798bc",
      "bc0d1be2830d401584bbe73fed864537",
      "ac8d5087f14a45e2b10871f506271726",
      "e535ffcbc8dd43deb078a532842a4059",
      "ebd2316767ef402783c1e11f3d473605",
      "6c24b508766447f89565714751701e23",
      "20e7f99e52714e8fb1024463ba4b1b99",
      "a430b9088bdf4fb9982aea2ba0b27256",
      "c437f139e5624a318a1b14666fc985f7",
      "97510a5873604de28708df6b6906cb31",
      "308928df3387484b8a36585b8151cfd4"
     ]
    },
    "id": "aJ64eVSeDJKc",
    "outputId": "f920b6ed-b00e-4b20-95f5-603d92b25d43"
   },
   "outputs": [
    {
     "data": {
      "application/vnd.jupyter.widget-view+json": {
       "model_id": "b7baa95f491c4c3a89577b5e846b3f52",
       "version_major": 2,
       "version_minor": 0
      },
      "text/plain": [
       "HBox(children=(FloatProgress(value=0.0, description='Downloading', max=1621.0, style=ProgressStyle(description…"
      ]
     },
     "metadata": {
      "tags": []
     },
     "output_type": "display_data"
    },
    {
     "name": "stdout",
     "output_type": "stream",
     "text": [
      "\n"
     ]
    },
    {
     "data": {
      "application/vnd.jupyter.widget-view+json": {
       "model_id": "6221ba71f38c4c939ec6e2f4f80a180d",
       "version_major": 2,
       "version_minor": 0
      },
      "text/plain": [
       "HBox(children=(FloatProgress(value=0.0, description='Downloading', max=1222317369.0, style=ProgressStyle(descr…"
      ]
     },
     "metadata": {
      "tags": []
     },
     "output_type": "display_data"
    },
    {
     "name": "stdout",
     "output_type": "stream",
     "text": [
      "\n"
     ]
    },
    {
     "data": {
      "application/vnd.jupyter.widget-view+json": {
       "model_id": "6913b5d741804a6693b761858b94f42a",
       "version_major": 2,
       "version_minor": 0
      },
      "text/plain": [
       "HBox(children=(FloatProgress(value=0.0, description='Downloading', max=898822.0, style=ProgressStyle(descripti…"
      ]
     },
     "metadata": {
      "tags": []
     },
     "output_type": "display_data"
    },
    {
     "name": "stdout",
     "output_type": "stream",
     "text": [
      "\n"
     ]
    },
    {
     "data": {
      "application/vnd.jupyter.widget-view+json": {
       "model_id": "8e13fd5b7aad460ea0b54ddbe25372b1",
       "version_major": 2,
       "version_minor": 0
      },
      "text/plain": [
       "HBox(children=(FloatProgress(value=0.0, description='Downloading', max=456318.0, style=ProgressStyle(descripti…"
      ]
     },
     "metadata": {
      "tags": []
     },
     "output_type": "display_data"
    },
    {
     "name": "stdout",
     "output_type": "stream",
     "text": [
      "\n"
     ]
    },
    {
     "data": {
      "application/vnd.jupyter.widget-view+json": {
       "model_id": "e535ffcbc8dd43deb078a532842a4059",
       "version_major": 2,
       "version_minor": 0
      },
      "text/plain": [
       "HBox(children=(FloatProgress(value=0.0, description='Downloading', max=26.0, style=ProgressStyle(description_w…"
      ]
     },
     "metadata": {
      "tags": []
     },
     "output_type": "display_data"
    },
    {
     "name": "stdout",
     "output_type": "stream",
     "text": [
      "\n"
     ]
    }
   ],
   "source": [
    "summarizer = pipeline('summarization')"
   ]
  },
  {
   "cell_type": "code",
   "execution_count": 142,
   "id": "iqTqOiwwDUx2",
   "metadata": {
    "colab": {
     "base_uri": "https://localhost:8080/"
    },
    "id": "iqTqOiwwDUx2",
    "outputId": "d38ad207-e7ca-4388-d4f5-95611f16719b"
   },
   "outputs": [
    {
     "name": "stderr",
     "output_type": "stream",
     "text": [
      "Your min_length is set to 56, but you input_length is only 24. You might consider decreasing min_length manually, e.g. summarizer('...', min_length=10)\n"
     ]
    },
    {
     "name": "stdout",
     "output_type": "stream",
     "text": [
      "# 1 News:  the ioc wants suspended olympic member ivan slavkov to be thrown out of the organisation.\n",
      "Original summary:  ioc recommends slavkov expulsion\n"
     ]
    },
    {
     "name": "stderr",
     "output_type": "stream",
     "text": [
      "Your min_length is set to 56, but you input_length is only 25. You might consider decreasing min_length manually, e.g. summarizer('...', min_length=10)\n"
     ]
    },
    {
     "name": "stdout",
     "output_type": "stream",
     "text": [
      "Predicted summary:  [{'summary_text': ' ioc wants suspended olympic member ivan slav'}]\n",
      "\n",
      "# 2 News:  reuters when india play pakistan it is classic hockey match their historic rivalry sucking in the whole stadium.\n",
      "Original summary:  hockey teams seek foreign secrets of success reuters \n",
      "Predicted summary:  [{'summary_text': ' When india play pakistan it is classic hockey match'}]\n",
      "\n",
      "# 3 News:  secretary of state colin l. powell said yesterday that brazil is quot serious quot and quot solid quot candidate for permanent seat in an expanded un security council although \n",
      "Original summary:  bid for un seat #39 solid #39 powell says\n",
      "Predicted summary:  [{'summary_text': ' Secretary of State colin l. powell said yesterday that'}]\n",
      "\n",
      "# 4 News:  russian president vladimir putin says his country is developing new type of nuclear missile. mr. putin spoke at an annual meeting of the armed forces #39 senior leadership.\n",
      "Original summary:  putin: russia developing new kind of nuclear missile\n",
      "Predicted summary:  [{'summary_text': ' russian president vladimir putin says his country is'}]\n",
      "\n",
      "# 5 News:  the british and iraqi governments said they would not bow to the demands of militants threatening to kill british hostage despite tearful pleas from the captive and his family.\n",
      "Original summary:  iraq uk govts say will not give in to kidnappers\n",
      "Predicted summary:  [{'summary_text': ' the british and iraqi governments said they would'}]\n",
      "\n",
      "# 6 News:  reuters congo government spokesman denied\\tuesday that rival army factions were fighting each other in\\the east of the country and insisted the clashes were between\\congolese and rwandan forces.\n",
      "Original summary:  congo says its troops are fighting rwandan forces reuters \n",
      "Predicted summary:  [{'summary_text': ' A government spokesman denied Tuesday that rival army factions were fighting each'}]\n",
      "\n",
      "# 7 News:  afp the dollar dipped amid concerns about the us position with the rest of the world following data showing record current account deficit in the second quarter.\n",
      "Original summary:  dollar dips on us current account concerns afp \n",
      "Predicted summary:  [{'summary_text': ' The dollar dipped amid concerns about the us position with the rest'}]\n",
      "\n",
      "# 8 News:  the hague -- russia and the european union failed yesterday to complete negotiations on quot strategic partnership quot because of disagreements over security and other issues at summit overshadowed by the ukraine political crisis. the two sides said they were confident final pact will be reached next may however.\n",
      "Original summary:  eu russia fail to reach accord at summit \n",
      "Predicted summary:  [{'summary_text': ' The two sides said they were confident final pact will be reached'}]\n",
      "\n",
      "# 9 News:  britain #39 ambassador to iraq has appealed for information that would lead to the recovery of the remains of former hostage ken bigley.\n",
      "Original summary:  uk appeals for bigley #39 remains\n",
      "Predicted summary:  [{'summary_text': ' britain #39 ambassador to iraq has appealed for'}]\n",
      "\n",
      "# 10 News:  lebanon #39 cabinet has approved bill to amend the constitution and allow the president emile lahoud to stay in power for another three years.\n",
      "Original summary:  move to bolster lebanon president\n",
      "Predicted summary:  [{'summary_text': ' lebanon #39 cabinet has approved bill to amend constitution'}]\n",
      "\n",
      "# 11 News:  a convoy carrying afghan president hamid karzai vice presidential running-mate came under attack wednesday in northeastern afghanistan the presidential palace and other officials said the third attack on karzai supporters ahead of landmark weekend elections.\n",
      "Original summary:  convoy of karzai running mate is attacked\n",
      "Predicted summary:  [{'summary_text': ' Third attack on karzai supporters ahead of landmark weekend elections'}]\n",
      "\n",
      "# 12 News:  the greek airliner forced to make an emergency landing at stansted airport following bomb threat has been given the all-clear by police today.\n",
      "Original summary:  bomb threat plane given all-clear\n",
      "Predicted summary:  [{'summary_text': ' Greek airliner forced to make emergency landing at stansted airport'}]\n",
      "\n",
      "# 13 News:  a british detainee said he has been abused in guantanamo adding he witnessed the deaths of two other detainees at the hands of us military personnel according to letter sent to his lawyers.\n",
      "Original summary:  briton sheds more light on guantanamo hell\n",
      "Predicted summary:  [{'summary_text': ' a british detainee said he has been abused in gu'}]\n",
      "\n",
      "# 14 News:  reuters democratic presidential nominee\\john kerry on monday called the invasion of iraq the wrong war\\in the wrong place at the wrong time and said his goal was to\\withdraw u.s. troops in first white house term.\n",
      "Original summary:  kerry on iraq: wrong war wrong place wrong time reuters \n",
      "Predicted summary:  [{'summary_text': ' democratic presidential nominee called the invasion of iraq the wrong war'}]\n",
      "\n",
      "# 15 News:  baghdad iraq sept. 20 2004 militant group posted video on the internet purporting to show militants sawing off the heads of three iraqi members of kurdish party for cooperating with us forces.\n",
      "Original summary:  video shows hostages beheaded in iraq\n",
      "Predicted summary:  [{'summary_text': ' Militant group posted video on the internet purporting to show'}]\n",
      "\n",
      "# 16 News:  israeli helicopters fired eight rockets in gaza city in response to an earlier attack by hamas movement against an israeli army post on the border between the gaza strip and egypt.\n",
      "Original summary:  sharon will not talk to palestinian leaders until the fighting lt gt ... lt /b gt \n",
      "Predicted summary:  [{'summary_text': ' israeli helicopters fired eight rockets in gaza city in'}]\n",
      "\n",
      "# 17 News:  british forces are to carry out an evacuation of british nationals from the strife-torn west african state of ivory coast it was announced today.\n",
      "Original summary:  troops to evacuate britons from ivory coast\n",
      "Predicted summary:  [{'summary_text': ' british forces are to carry out an evacuation of b'}]\n",
      "\n",
      "# 18 News:  ap militants filed out of the imam ali shrine closed the doors behind them and turned over the keys to iraq top shiite cleric friday symbolizing their acceptance of peace deal to end three weeks of devastating fighting in this holy city.\n",
      "Original summary:  iraq militants leave shrine in peace deal ap \n",
      "Predicted summary:  [{'summary_text': ' Militants file out of imam ali shrine closed doors'}]\n",
      "\n",
      "# 19 News:  a military funeral for the palestinian president yasser arafat will be held in the egyptian capital cairo this morning. after the funeral president arafat #39 coffin will be flown by helicopter to ramallah for burial.\n",
      "Original summary:  cairo hosting arafat funeral\n",
      "Predicted summary:  [{'summary_text': ' Military funeral for the palestinian president yasser ara'}]\n",
      "\n",
      "# 20 News:  new delhi -- powerful bomb killed at least 16 people many of them schoolchildren and wounded about 40 others as they assembled for an independence day parade yesterday in the northeastern state of assam authorities said.\n",
      "Original summary:  bomb at parade in india leaves 16 dead 40 hurt\n",
      "Predicted summary:  [{'summary_text': ' A powerful bomb kills at least 16 people many of them school'}]\n",
      "\n"
     ]
    }
   ],
   "source": [
    "for i in range(20):\n",
    "  print(f\"# {i+1} News: \", train.text[i])\n",
    "  print(\"Original summary: \", train.title[i])\n",
    "  print(\"Predicted summary: \", summarizer(train.text[i], max_length = MAX_SUMMARY_LEN, do_sample = False))\n",
    "  print()"
   ]
  },
  {
   "cell_type": "markdown",
   "id": "stopped-dining",
   "metadata": {
    "id": "ckHsyQfTEN3-"
   },
   "source": [
    "BART is Transformer with Encoder-Decoder Parts which is specialised for text summarization as well."
   ]
  },
  {
   "cell_type": "code",
   "execution_count": null,
   "id": "desperate-quality",
   "metadata": {},
   "outputs": [],
   "source": []
  }
 ],
 "metadata": {
  "accelerator": "GPU",
  "colab": {
   "collapsed_sections": [],
   "name": "Copy_of_Part_TWO_Text_Summarization (4).ipynb",
   "provenance": [],
   "toc_visible": true
  },
  "kernelspec": {
   "display_name": "Python 3",
   "language": "python",
   "name": "python3"
  },
  "language_info": {
   "codemirror_mode": {
    "name": "ipython",
    "version": 3
   },
   "file_extension": ".py",
   "mimetype": "text/x-python",
   "name": "python",
   "nbconvert_exporter": "python",
   "pygments_lexer": "ipython3",
   "version": "3.7.9"
  },
  "widgets": {
   "application/vnd.jupyter.widget-state+json": {
    "1a75ada13e574a2997f3ffe5a1e131ae": {
     "model_module": "@jupyter-widgets/base",
     "model_name": "LayoutModel",
     "state": {
      "_model_module": "@jupyter-widgets/base",
      "_model_module_version": "1.2.0",
      "_model_name": "LayoutModel",
      "_view_count": null,
      "_view_module": "@jupyter-widgets/base",
      "_view_module_version": "1.2.0",
      "_view_name": "LayoutView",
      "align_content": null,
      "align_items": null,
      "align_self": null,
      "border": null,
      "bottom": null,
      "display": null,
      "flex": null,
      "flex_flow": null,
      "grid_area": null,
      "grid_auto_columns": null,
      "grid_auto_flow": null,
      "grid_auto_rows": null,
      "grid_column": null,
      "grid_gap": null,
      "grid_row": null,
      "grid_template_areas": null,
      "grid_template_columns": null,
      "grid_template_rows": null,
      "height": null,
      "justify_content": null,
      "justify_items": null,
      "left": null,
      "margin": null,
      "max_height": null,
      "max_width": null,
      "min_height": null,
      "min_width": null,
      "object_fit": null,
      "object_position": null,
      "order": null,
      "overflow": null,
      "overflow_x": null,
      "overflow_y": null,
      "padding": null,
      "right": null,
      "top": null,
      "visibility": null,
      "width": null
     }
    },
    "1f021b369c894c0c97d7f4c8e9748314": {
     "model_module": "@jupyter-widgets/controls",
     "model_name": "FloatProgressModel",
     "state": {
      "_dom_classes": [],
      "_model_module": "@jupyter-widgets/controls",
      "_model_module_version": "1.5.0",
      "_model_name": "FloatProgressModel",
      "_view_count": null,
      "_view_module": "@jupyter-widgets/controls",
      "_view_module_version": "1.5.0",
      "_view_name": "ProgressView",
      "bar_style": "success",
      "description": "Downloading: 100%",
      "description_tooltip": null,
      "layout": "IPY_MODEL_7444542bcea64066b8d6449ab30798bc",
      "max": 456318,
      "min": 0,
      "orientation": "horizontal",
      "style": "IPY_MODEL_4d96360ebfdc4e4fa0174d83e6bbdfcc",
      "value": 456318
     }
    },
    "20e7f99e52714e8fb1024463ba4b1b99": {
     "model_module": "@jupyter-widgets/controls",
     "model_name": "HTMLModel",
     "state": {
      "_dom_classes": [],
      "_model_module": "@jupyter-widgets/controls",
      "_model_module_version": "1.5.0",
      "_model_name": "HTMLModel",
      "_view_count": null,
      "_view_module": "@jupyter-widgets/controls",
      "_view_module_version": "1.5.0",
      "_view_name": "HTMLView",
      "description": "",
      "description_tooltip": null,
      "layout": "IPY_MODEL_308928df3387484b8a36585b8151cfd4",
      "placeholder": "​",
      "style": "IPY_MODEL_97510a5873604de28708df6b6906cb31",
      "value": " 26.0/26.0 [00:00&lt;00:00, 184B/s]"
     }
    },
    "27755d2227d440f7a8bff6a9e5e39477": {
     "model_module": "@jupyter-widgets/controls",
     "model_name": "HTMLModel",
     "state": {
      "_dom_classes": [],
      "_model_module": "@jupyter-widgets/controls",
      "_model_module_version": "1.5.0",
      "_model_name": "HTMLModel",
      "_view_count": null,
      "_view_module": "@jupyter-widgets/controls",
      "_view_module_version": "1.5.0",
      "_view_name": "HTMLView",
      "description": "",
      "description_tooltip": null,
      "layout": "IPY_MODEL_ac8d5087f14a45e2b10871f506271726",
      "placeholder": "​",
      "style": "IPY_MODEL_bc0d1be2830d401584bbe73fed864537",
      "value": " 456k/456k [00:00&lt;00:00, 3.13MB/s]"
     }
    },
    "308928df3387484b8a36585b8151cfd4": {
     "model_module": "@jupyter-widgets/base",
     "model_name": "LayoutModel",
     "state": {
      "_model_module": "@jupyter-widgets/base",
      "_model_module_version": "1.2.0",
      "_model_name": "LayoutModel",
      "_view_count": null,
      "_view_module": "@jupyter-widgets/base",
      "_view_module_version": "1.2.0",
      "_view_name": "LayoutView",
      "align_content": null,
      "align_items": null,
      "align_self": null,
      "border": null,
      "bottom": null,
      "display": null,
      "flex": null,
      "flex_flow": null,
      "grid_area": null,
      "grid_auto_columns": null,
      "grid_auto_flow": null,
      "grid_auto_rows": null,
      "grid_column": null,
      "grid_gap": null,
      "grid_row": null,
      "grid_template_areas": null,
      "grid_template_columns": null,
      "grid_template_rows": null,
      "height": null,
      "justify_content": null,
      "justify_items": null,
      "left": null,
      "margin": null,
      "max_height": null,
      "max_width": null,
      "min_height": null,
      "min_width": null,
      "object_fit": null,
      "object_position": null,
      "order": null,
      "overflow": null,
      "overflow_x": null,
      "overflow_y": null,
      "padding": null,
      "right": null,
      "top": null,
      "visibility": null,
      "width": null
     }
    },
    "42d0d74e7251425f8a568d6f139198c2": {
     "model_module": "@jupyter-widgets/controls",
     "model_name": "ProgressStyleModel",
     "state": {
      "_model_module": "@jupyter-widgets/controls",
      "_model_module_version": "1.5.0",
      "_model_name": "ProgressStyleModel",
      "_view_count": null,
      "_view_module": "@jupyter-widgets/base",
      "_view_module_version": "1.2.0",
      "_view_name": "StyleView",
      "bar_color": null,
      "description_width": "initial"
     }
    },
    "46939880000a48b79b516273786a90ff": {
     "model_module": "@jupyter-widgets/base",
     "model_name": "LayoutModel",
     "state": {
      "_model_module": "@jupyter-widgets/base",
      "_model_module_version": "1.2.0",
      "_model_name": "LayoutModel",
      "_view_count": null,
      "_view_module": "@jupyter-widgets/base",
      "_view_module_version": "1.2.0",
      "_view_name": "LayoutView",
      "align_content": null,
      "align_items": null,
      "align_self": null,
      "border": null,
      "bottom": null,
      "display": null,
      "flex": null,
      "flex_flow": null,
      "grid_area": null,
      "grid_auto_columns": null,
      "grid_auto_flow": null,
      "grid_auto_rows": null,
      "grid_column": null,
      "grid_gap": null,
      "grid_row": null,
      "grid_template_areas": null,
      "grid_template_columns": null,
      "grid_template_rows": null,
      "height": null,
      "justify_content": null,
      "justify_items": null,
      "left": null,
      "margin": null,
      "max_height": null,
      "max_width": null,
      "min_height": null,
      "min_width": null,
      "object_fit": null,
      "object_position": null,
      "order": null,
      "overflow": null,
      "overflow_x": null,
      "overflow_y": null,
      "padding": null,
      "right": null,
      "top": null,
      "visibility": null,
      "width": null
     }
    },
    "4d96360ebfdc4e4fa0174d83e6bbdfcc": {
     "model_module": "@jupyter-widgets/controls",
     "model_name": "ProgressStyleModel",
     "state": {
      "_model_module": "@jupyter-widgets/controls",
      "_model_module_version": "1.5.0",
      "_model_name": "ProgressStyleModel",
      "_view_count": null,
      "_view_module": "@jupyter-widgets/base",
      "_view_module_version": "1.2.0",
      "_view_name": "StyleView",
      "bar_color": null,
      "description_width": "initial"
     }
    },
    "5fb0b3785d10428091994fb740093670": {
     "model_module": "@jupyter-widgets/controls",
     "model_name": "DescriptionStyleModel",
     "state": {
      "_model_module": "@jupyter-widgets/controls",
      "_model_module_version": "1.5.0",
      "_model_name": "DescriptionStyleModel",
      "_view_count": null,
      "_view_module": "@jupyter-widgets/base",
      "_view_module_version": "1.2.0",
      "_view_name": "StyleView",
      "description_width": ""
     }
    },
    "614bff0d042641f8b882e9f4a504f3c3": {
     "model_module": "@jupyter-widgets/base",
     "model_name": "LayoutModel",
     "state": {
      "_model_module": "@jupyter-widgets/base",
      "_model_module_version": "1.2.0",
      "_model_name": "LayoutModel",
      "_view_count": null,
      "_view_module": "@jupyter-widgets/base",
      "_view_module_version": "1.2.0",
      "_view_name": "LayoutView",
      "align_content": null,
      "align_items": null,
      "align_self": null,
      "border": null,
      "bottom": null,
      "display": null,
      "flex": null,
      "flex_flow": null,
      "grid_area": null,
      "grid_auto_columns": null,
      "grid_auto_flow": null,
      "grid_auto_rows": null,
      "grid_column": null,
      "grid_gap": null,
      "grid_row": null,
      "grid_template_areas": null,
      "grid_template_columns": null,
      "grid_template_rows": null,
      "height": null,
      "justify_content": null,
      "justify_items": null,
      "left": null,
      "margin": null,
      "max_height": null,
      "max_width": null,
      "min_height": null,
      "min_width": null,
      "object_fit": null,
      "object_position": null,
      "order": null,
      "overflow": null,
      "overflow_x": null,
      "overflow_y": null,
      "padding": null,
      "right": null,
      "top": null,
      "visibility": null,
      "width": null
     }
    },
    "6221ba71f38c4c939ec6e2f4f80a180d": {
     "model_module": "@jupyter-widgets/controls",
     "model_name": "HBoxModel",
     "state": {
      "_dom_classes": [],
      "_model_module": "@jupyter-widgets/controls",
      "_model_module_version": "1.5.0",
      "_model_name": "HBoxModel",
      "_view_count": null,
      "_view_module": "@jupyter-widgets/controls",
      "_view_module_version": "1.5.0",
      "_view_name": "HBoxView",
      "box_style": "",
      "children": [
       "IPY_MODEL_6a26c2ae61474034a9650dee008a0196",
       "IPY_MODEL_a3fcc16baa0d41f09a46b13e57323075"
      ],
      "layout": "IPY_MODEL_76174aa660494049a4f6fccfcdebf5be"
     }
    },
    "6913b5d741804a6693b761858b94f42a": {
     "model_module": "@jupyter-widgets/controls",
     "model_name": "HBoxModel",
     "state": {
      "_dom_classes": [],
      "_model_module": "@jupyter-widgets/controls",
      "_model_module_version": "1.5.0",
      "_model_name": "HBoxModel",
      "_view_count": null,
      "_view_module": "@jupyter-widgets/controls",
      "_view_module_version": "1.5.0",
      "_view_name": "HBoxView",
      "box_style": "",
      "children": [
       "IPY_MODEL_f66f8c837b7544749aaffcd7579ece7a",
       "IPY_MODEL_dbf9f976a2ee48f999488f832cfd5fbf"
      ],
      "layout": "IPY_MODEL_883eed21126b4b7d8066d4bfa8c742eb"
     }
    },
    "6a26c2ae61474034a9650dee008a0196": {
     "model_module": "@jupyter-widgets/controls",
     "model_name": "FloatProgressModel",
     "state": {
      "_dom_classes": [],
      "_model_module": "@jupyter-widgets/controls",
      "_model_module_version": "1.5.0",
      "_model_name": "FloatProgressModel",
      "_view_count": null,
      "_view_module": "@jupyter-widgets/controls",
      "_view_module_version": "1.5.0",
      "_view_name": "ProgressView",
      "bar_style": "success",
      "description": "Downloading: 100%",
      "description_tooltip": null,
      "layout": "IPY_MODEL_cf97ef828ea44424b799f1ca39647586",
      "max": 1222317369,
      "min": 0,
      "orientation": "horizontal",
      "style": "IPY_MODEL_42d0d74e7251425f8a568d6f139198c2",
      "value": 1222317369
     }
    },
    "6c24b508766447f89565714751701e23": {
     "model_module": "@jupyter-widgets/controls",
     "model_name": "FloatProgressModel",
     "state": {
      "_dom_classes": [],
      "_model_module": "@jupyter-widgets/controls",
      "_model_module_version": "1.5.0",
      "_model_name": "FloatProgressModel",
      "_view_count": null,
      "_view_module": "@jupyter-widgets/controls",
      "_view_module_version": "1.5.0",
      "_view_name": "ProgressView",
      "bar_style": "success",
      "description": "Downloading: 100%",
      "description_tooltip": null,
      "layout": "IPY_MODEL_c437f139e5624a318a1b14666fc985f7",
      "max": 26,
      "min": 0,
      "orientation": "horizontal",
      "style": "IPY_MODEL_a430b9088bdf4fb9982aea2ba0b27256",
      "value": 26
     }
    },
    "7444542bcea64066b8d6449ab30798bc": {
     "model_module": "@jupyter-widgets/base",
     "model_name": "LayoutModel",
     "state": {
      "_model_module": "@jupyter-widgets/base",
      "_model_module_version": "1.2.0",
      "_model_name": "LayoutModel",
      "_view_count": null,
      "_view_module": "@jupyter-widgets/base",
      "_view_module_version": "1.2.0",
      "_view_name": "LayoutView",
      "align_content": null,
      "align_items": null,
      "align_self": null,
      "border": null,
      "bottom": null,
      "display": null,
      "flex": null,
      "flex_flow": null,
      "grid_area": null,
      "grid_auto_columns": null,
      "grid_auto_flow": null,
      "grid_auto_rows": null,
      "grid_column": null,
      "grid_gap": null,
      "grid_row": null,
      "grid_template_areas": null,
      "grid_template_columns": null,
      "grid_template_rows": null,
      "height": null,
      "justify_content": null,
      "justify_items": null,
      "left": null,
      "margin": null,
      "max_height": null,
      "max_width": null,
      "min_height": null,
      "min_width": null,
      "object_fit": null,
      "object_position": null,
      "order": null,
      "overflow": null,
      "overflow_x": null,
      "overflow_y": null,
      "padding": null,
      "right": null,
      "top": null,
      "visibility": null,
      "width": null
     }
    },
    "76174aa660494049a4f6fccfcdebf5be": {
     "model_module": "@jupyter-widgets/base",
     "model_name": "LayoutModel",
     "state": {
      "_model_module": "@jupyter-widgets/base",
      "_model_module_version": "1.2.0",
      "_model_name": "LayoutModel",
      "_view_count": null,
      "_view_module": "@jupyter-widgets/base",
      "_view_module_version": "1.2.0",
      "_view_name": "LayoutView",
      "align_content": null,
      "align_items": null,
      "align_self": null,
      "border": null,
      "bottom": null,
      "display": null,
      "flex": null,
      "flex_flow": null,
      "grid_area": null,
      "grid_auto_columns": null,
      "grid_auto_flow": null,
      "grid_auto_rows": null,
      "grid_column": null,
      "grid_gap": null,
      "grid_row": null,
      "grid_template_areas": null,
      "grid_template_columns": null,
      "grid_template_rows": null,
      "height": null,
      "justify_content": null,
      "justify_items": null,
      "left": null,
      "margin": null,
      "max_height": null,
      "max_width": null,
      "min_height": null,
      "min_width": null,
      "object_fit": null,
      "object_position": null,
      "order": null,
      "overflow": null,
      "overflow_x": null,
      "overflow_y": null,
      "padding": null,
      "right": null,
      "top": null,
      "visibility": null,
      "width": null
     }
    },
    "883eed21126b4b7d8066d4bfa8c742eb": {
     "model_module": "@jupyter-widgets/base",
     "model_name": "LayoutModel",
     "state": {
      "_model_module": "@jupyter-widgets/base",
      "_model_module_version": "1.2.0",
      "_model_name": "LayoutModel",
      "_view_count": null,
      "_view_module": "@jupyter-widgets/base",
      "_view_module_version": "1.2.0",
      "_view_name": "LayoutView",
      "align_content": null,
      "align_items": null,
      "align_self": null,
      "border": null,
      "bottom": null,
      "display": null,
      "flex": null,
      "flex_flow": null,
      "grid_area": null,
      "grid_auto_columns": null,
      "grid_auto_flow": null,
      "grid_auto_rows": null,
      "grid_column": null,
      "grid_gap": null,
      "grid_row": null,
      "grid_template_areas": null,
      "grid_template_columns": null,
      "grid_template_rows": null,
      "height": null,
      "justify_content": null,
      "justify_items": null,
      "left": null,
      "margin": null,
      "max_height": null,
      "max_width": null,
      "min_height": null,
      "min_width": null,
      "object_fit": null,
      "object_position": null,
      "order": null,
      "overflow": null,
      "overflow_x": null,
      "overflow_y": null,
      "padding": null,
      "right": null,
      "top": null,
      "visibility": null,
      "width": null
     }
    },
    "8d25b2048ed64bab8c934b73dc8574b2": {
     "model_module": "@jupyter-widgets/base",
     "model_name": "LayoutModel",
     "state": {
      "_model_module": "@jupyter-widgets/base",
      "_model_module_version": "1.2.0",
      "_model_name": "LayoutModel",
      "_view_count": null,
      "_view_module": "@jupyter-widgets/base",
      "_view_module_version": "1.2.0",
      "_view_name": "LayoutView",
      "align_content": null,
      "align_items": null,
      "align_self": null,
      "border": null,
      "bottom": null,
      "display": null,
      "flex": null,
      "flex_flow": null,
      "grid_area": null,
      "grid_auto_columns": null,
      "grid_auto_flow": null,
      "grid_auto_rows": null,
      "grid_column": null,
      "grid_gap": null,
      "grid_row": null,
      "grid_template_areas": null,
      "grid_template_columns": null,
      "grid_template_rows": null,
      "height": null,
      "justify_content": null,
      "justify_items": null,
      "left": null,
      "margin": null,
      "max_height": null,
      "max_width": null,
      "min_height": null,
      "min_width": null,
      "object_fit": null,
      "object_position": null,
      "order": null,
      "overflow": null,
      "overflow_x": null,
      "overflow_y": null,
      "padding": null,
      "right": null,
      "top": null,
      "visibility": null,
      "width": null
     }
    },
    "8e13fd5b7aad460ea0b54ddbe25372b1": {
     "model_module": "@jupyter-widgets/controls",
     "model_name": "HBoxModel",
     "state": {
      "_dom_classes": [],
      "_model_module": "@jupyter-widgets/controls",
      "_model_module_version": "1.5.0",
      "_model_name": "HBoxModel",
      "_view_count": null,
      "_view_module": "@jupyter-widgets/controls",
      "_view_module_version": "1.5.0",
      "_view_name": "HBoxView",
      "box_style": "",
      "children": [
       "IPY_MODEL_1f021b369c894c0c97d7f4c8e9748314",
       "IPY_MODEL_27755d2227d440f7a8bff6a9e5e39477"
      ],
      "layout": "IPY_MODEL_e864e21e36c64c4ea4a29d64e0c2e32b"
     }
    },
    "94eabed152c441abbb650339fd3ee9c9": {
     "model_module": "@jupyter-widgets/base",
     "model_name": "LayoutModel",
     "state": {
      "_model_module": "@jupyter-widgets/base",
      "_model_module_version": "1.2.0",
      "_model_name": "LayoutModel",
      "_view_count": null,
      "_view_module": "@jupyter-widgets/base",
      "_view_module_version": "1.2.0",
      "_view_name": "LayoutView",
      "align_content": null,
      "align_items": null,
      "align_self": null,
      "border": null,
      "bottom": null,
      "display": null,
      "flex": null,
      "flex_flow": null,
      "grid_area": null,
      "grid_auto_columns": null,
      "grid_auto_flow": null,
      "grid_auto_rows": null,
      "grid_column": null,
      "grid_gap": null,
      "grid_row": null,
      "grid_template_areas": null,
      "grid_template_columns": null,
      "grid_template_rows": null,
      "height": null,
      "justify_content": null,
      "justify_items": null,
      "left": null,
      "margin": null,
      "max_height": null,
      "max_width": null,
      "min_height": null,
      "min_width": null,
      "object_fit": null,
      "object_position": null,
      "order": null,
      "overflow": null,
      "overflow_x": null,
      "overflow_y": null,
      "padding": null,
      "right": null,
      "top": null,
      "visibility": null,
      "width": null
     }
    },
    "97510a5873604de28708df6b6906cb31": {
     "model_module": "@jupyter-widgets/controls",
     "model_name": "DescriptionStyleModel",
     "state": {
      "_model_module": "@jupyter-widgets/controls",
      "_model_module_version": "1.5.0",
      "_model_name": "DescriptionStyleModel",
      "_view_count": null,
      "_view_module": "@jupyter-widgets/base",
      "_view_module_version": "1.2.0",
      "_view_name": "StyleView",
      "description_width": ""
     }
    },
    "a3fcc16baa0d41f09a46b13e57323075": {
     "model_module": "@jupyter-widgets/controls",
     "model_name": "HTMLModel",
     "state": {
      "_dom_classes": [],
      "_model_module": "@jupyter-widgets/controls",
      "_model_module_version": "1.5.0",
      "_model_name": "HTMLModel",
      "_view_count": null,
      "_view_module": "@jupyter-widgets/controls",
      "_view_module_version": "1.5.0",
      "_view_name": "HTMLView",
      "description": "",
      "description_tooltip": null,
      "layout": "IPY_MODEL_db104b8ca09c412299dbcaf61731cf9f",
      "placeholder": "​",
      "style": "IPY_MODEL_f0e56e8c384e47ce91d9199bb6029786",
      "value": " 1.22G/1.22G [00:30&lt;00:00, 39.7MB/s]"
     }
    },
    "a430b9088bdf4fb9982aea2ba0b27256": {
     "model_module": "@jupyter-widgets/controls",
     "model_name": "ProgressStyleModel",
     "state": {
      "_model_module": "@jupyter-widgets/controls",
      "_model_module_version": "1.5.0",
      "_model_name": "ProgressStyleModel",
      "_view_count": null,
      "_view_module": "@jupyter-widgets/base",
      "_view_module_version": "1.2.0",
      "_view_name": "StyleView",
      "bar_color": null,
      "description_width": "initial"
     }
    },
    "a6648728e87447c183e2cbbc3bfed012": {
     "model_module": "@jupyter-widgets/controls",
     "model_name": "ProgressStyleModel",
     "state": {
      "_model_module": "@jupyter-widgets/controls",
      "_model_module_version": "1.5.0",
      "_model_name": "ProgressStyleModel",
      "_view_count": null,
      "_view_module": "@jupyter-widgets/base",
      "_view_module_version": "1.2.0",
      "_view_name": "StyleView",
      "bar_color": null,
      "description_width": "initial"
     }
    },
    "a7d84da23db344709b9ced8ba4e4bb06": {
     "model_module": "@jupyter-widgets/controls",
     "model_name": "FloatProgressModel",
     "state": {
      "_dom_classes": [],
      "_model_module": "@jupyter-widgets/controls",
      "_model_module_version": "1.5.0",
      "_model_name": "FloatProgressModel",
      "_view_count": null,
      "_view_module": "@jupyter-widgets/controls",
      "_view_module_version": "1.5.0",
      "_view_name": "ProgressView",
      "bar_style": "success",
      "description": "Downloading: 100%",
      "description_tooltip": null,
      "layout": "IPY_MODEL_1a75ada13e574a2997f3ffe5a1e131ae",
      "max": 1621,
      "min": 0,
      "orientation": "horizontal",
      "style": "IPY_MODEL_a6648728e87447c183e2cbbc3bfed012",
      "value": 1621
     }
    },
    "ac8d5087f14a45e2b10871f506271726": {
     "model_module": "@jupyter-widgets/base",
     "model_name": "LayoutModel",
     "state": {
      "_model_module": "@jupyter-widgets/base",
      "_model_module_version": "1.2.0",
      "_model_name": "LayoutModel",
      "_view_count": null,
      "_view_module": "@jupyter-widgets/base",
      "_view_module_version": "1.2.0",
      "_view_name": "LayoutView",
      "align_content": null,
      "align_items": null,
      "align_self": null,
      "border": null,
      "bottom": null,
      "display": null,
      "flex": null,
      "flex_flow": null,
      "grid_area": null,
      "grid_auto_columns": null,
      "grid_auto_flow": null,
      "grid_auto_rows": null,
      "grid_column": null,
      "grid_gap": null,
      "grid_row": null,
      "grid_template_areas": null,
      "grid_template_columns": null,
      "grid_template_rows": null,
      "height": null,
      "justify_content": null,
      "justify_items": null,
      "left": null,
      "margin": null,
      "max_height": null,
      "max_width": null,
      "min_height": null,
      "min_width": null,
      "object_fit": null,
      "object_position": null,
      "order": null,
      "overflow": null,
      "overflow_x": null,
      "overflow_y": null,
      "padding": null,
      "right": null,
      "top": null,
      "visibility": null,
      "width": null
     }
    },
    "b7baa95f491c4c3a89577b5e846b3f52": {
     "model_module": "@jupyter-widgets/controls",
     "model_name": "HBoxModel",
     "state": {
      "_dom_classes": [],
      "_model_module": "@jupyter-widgets/controls",
      "_model_module_version": "1.5.0",
      "_model_name": "HBoxModel",
      "_view_count": null,
      "_view_module": "@jupyter-widgets/controls",
      "_view_module_version": "1.5.0",
      "_view_name": "HBoxView",
      "box_style": "",
      "children": [
       "IPY_MODEL_a7d84da23db344709b9ced8ba4e4bb06",
       "IPY_MODEL_f5ec4c7abbbe4bedbb92849b3f97b4fc"
      ],
      "layout": "IPY_MODEL_94eabed152c441abbb650339fd3ee9c9"
     }
    },
    "bc0d1be2830d401584bbe73fed864537": {
     "model_module": "@jupyter-widgets/controls",
     "model_name": "DescriptionStyleModel",
     "state": {
      "_model_module": "@jupyter-widgets/controls",
      "_model_module_version": "1.5.0",
      "_model_name": "DescriptionStyleModel",
      "_view_count": null,
      "_view_module": "@jupyter-widgets/base",
      "_view_module_version": "1.2.0",
      "_view_name": "StyleView",
      "description_width": ""
     }
    },
    "c437f139e5624a318a1b14666fc985f7": {
     "model_module": "@jupyter-widgets/base",
     "model_name": "LayoutModel",
     "state": {
      "_model_module": "@jupyter-widgets/base",
      "_model_module_version": "1.2.0",
      "_model_name": "LayoutModel",
      "_view_count": null,
      "_view_module": "@jupyter-widgets/base",
      "_view_module_version": "1.2.0",
      "_view_name": "LayoutView",
      "align_content": null,
      "align_items": null,
      "align_self": null,
      "border": null,
      "bottom": null,
      "display": null,
      "flex": null,
      "flex_flow": null,
      "grid_area": null,
      "grid_auto_columns": null,
      "grid_auto_flow": null,
      "grid_auto_rows": null,
      "grid_column": null,
      "grid_gap": null,
      "grid_row": null,
      "grid_template_areas": null,
      "grid_template_columns": null,
      "grid_template_rows": null,
      "height": null,
      "justify_content": null,
      "justify_items": null,
      "left": null,
      "margin": null,
      "max_height": null,
      "max_width": null,
      "min_height": null,
      "min_width": null,
      "object_fit": null,
      "object_position": null,
      "order": null,
      "overflow": null,
      "overflow_x": null,
      "overflow_y": null,
      "padding": null,
      "right": null,
      "top": null,
      "visibility": null,
      "width": null
     }
    },
    "cf97ef828ea44424b799f1ca39647586": {
     "model_module": "@jupyter-widgets/base",
     "model_name": "LayoutModel",
     "state": {
      "_model_module": "@jupyter-widgets/base",
      "_model_module_version": "1.2.0",
      "_model_name": "LayoutModel",
      "_view_count": null,
      "_view_module": "@jupyter-widgets/base",
      "_view_module_version": "1.2.0",
      "_view_name": "LayoutView",
      "align_content": null,
      "align_items": null,
      "align_self": null,
      "border": null,
      "bottom": null,
      "display": null,
      "flex": null,
      "flex_flow": null,
      "grid_area": null,
      "grid_auto_columns": null,
      "grid_auto_flow": null,
      "grid_auto_rows": null,
      "grid_column": null,
      "grid_gap": null,
      "grid_row": null,
      "grid_template_areas": null,
      "grid_template_columns": null,
      "grid_template_rows": null,
      "height": null,
      "justify_content": null,
      "justify_items": null,
      "left": null,
      "margin": null,
      "max_height": null,
      "max_width": null,
      "min_height": null,
      "min_width": null,
      "object_fit": null,
      "object_position": null,
      "order": null,
      "overflow": null,
      "overflow_x": null,
      "overflow_y": null,
      "padding": null,
      "right": null,
      "top": null,
      "visibility": null,
      "width": null
     }
    },
    "db104b8ca09c412299dbcaf61731cf9f": {
     "model_module": "@jupyter-widgets/base",
     "model_name": "LayoutModel",
     "state": {
      "_model_module": "@jupyter-widgets/base",
      "_model_module_version": "1.2.0",
      "_model_name": "LayoutModel",
      "_view_count": null,
      "_view_module": "@jupyter-widgets/base",
      "_view_module_version": "1.2.0",
      "_view_name": "LayoutView",
      "align_content": null,
      "align_items": null,
      "align_self": null,
      "border": null,
      "bottom": null,
      "display": null,
      "flex": null,
      "flex_flow": null,
      "grid_area": null,
      "grid_auto_columns": null,
      "grid_auto_flow": null,
      "grid_auto_rows": null,
      "grid_column": null,
      "grid_gap": null,
      "grid_row": null,
      "grid_template_areas": null,
      "grid_template_columns": null,
      "grid_template_rows": null,
      "height": null,
      "justify_content": null,
      "justify_items": null,
      "left": null,
      "margin": null,
      "max_height": null,
      "max_width": null,
      "min_height": null,
      "min_width": null,
      "object_fit": null,
      "object_position": null,
      "order": null,
      "overflow": null,
      "overflow_x": null,
      "overflow_y": null,
      "padding": null,
      "right": null,
      "top": null,
      "visibility": null,
      "width": null
     }
    },
    "dbf9f976a2ee48f999488f832cfd5fbf": {
     "model_module": "@jupyter-widgets/controls",
     "model_name": "HTMLModel",
     "state": {
      "_dom_classes": [],
      "_model_module": "@jupyter-widgets/controls",
      "_model_module_version": "1.5.0",
      "_model_name": "HTMLModel",
      "_view_count": null,
      "_view_module": "@jupyter-widgets/controls",
      "_view_module_version": "1.5.0",
      "_view_name": "HTMLView",
      "description": "",
      "description_tooltip": null,
      "layout": "IPY_MODEL_46939880000a48b79b516273786a90ff",
      "placeholder": "​",
      "style": "IPY_MODEL_5fb0b3785d10428091994fb740093670",
      "value": " 899k/899k [00:00&lt;00:00, 3.48MB/s]"
     }
    },
    "e535ffcbc8dd43deb078a532842a4059": {
     "model_module": "@jupyter-widgets/controls",
     "model_name": "HBoxModel",
     "state": {
      "_dom_classes": [],
      "_model_module": "@jupyter-widgets/controls",
      "_model_module_version": "1.5.0",
      "_model_name": "HBoxModel",
      "_view_count": null,
      "_view_module": "@jupyter-widgets/controls",
      "_view_module_version": "1.5.0",
      "_view_name": "HBoxView",
      "box_style": "",
      "children": [
       "IPY_MODEL_6c24b508766447f89565714751701e23",
       "IPY_MODEL_20e7f99e52714e8fb1024463ba4b1b99"
      ],
      "layout": "IPY_MODEL_ebd2316767ef402783c1e11f3d473605"
     }
    },
    "e864e21e36c64c4ea4a29d64e0c2e32b": {
     "model_module": "@jupyter-widgets/base",
     "model_name": "LayoutModel",
     "state": {
      "_model_module": "@jupyter-widgets/base",
      "_model_module_version": "1.2.0",
      "_model_name": "LayoutModel",
      "_view_count": null,
      "_view_module": "@jupyter-widgets/base",
      "_view_module_version": "1.2.0",
      "_view_name": "LayoutView",
      "align_content": null,
      "align_items": null,
      "align_self": null,
      "border": null,
      "bottom": null,
      "display": null,
      "flex": null,
      "flex_flow": null,
      "grid_area": null,
      "grid_auto_columns": null,
      "grid_auto_flow": null,
      "grid_auto_rows": null,
      "grid_column": null,
      "grid_gap": null,
      "grid_row": null,
      "grid_template_areas": null,
      "grid_template_columns": null,
      "grid_template_rows": null,
      "height": null,
      "justify_content": null,
      "justify_items": null,
      "left": null,
      "margin": null,
      "max_height": null,
      "max_width": null,
      "min_height": null,
      "min_width": null,
      "object_fit": null,
      "object_position": null,
      "order": null,
      "overflow": null,
      "overflow_x": null,
      "overflow_y": null,
      "padding": null,
      "right": null,
      "top": null,
      "visibility": null,
      "width": null
     }
    },
    "ebd2316767ef402783c1e11f3d473605": {
     "model_module": "@jupyter-widgets/base",
     "model_name": "LayoutModel",
     "state": {
      "_model_module": "@jupyter-widgets/base",
      "_model_module_version": "1.2.0",
      "_model_name": "LayoutModel",
      "_view_count": null,
      "_view_module": "@jupyter-widgets/base",
      "_view_module_version": "1.2.0",
      "_view_name": "LayoutView",
      "align_content": null,
      "align_items": null,
      "align_self": null,
      "border": null,
      "bottom": null,
      "display": null,
      "flex": null,
      "flex_flow": null,
      "grid_area": null,
      "grid_auto_columns": null,
      "grid_auto_flow": null,
      "grid_auto_rows": null,
      "grid_column": null,
      "grid_gap": null,
      "grid_row": null,
      "grid_template_areas": null,
      "grid_template_columns": null,
      "grid_template_rows": null,
      "height": null,
      "justify_content": null,
      "justify_items": null,
      "left": null,
      "margin": null,
      "max_height": null,
      "max_width": null,
      "min_height": null,
      "min_width": null,
      "object_fit": null,
      "object_position": null,
      "order": null,
      "overflow": null,
      "overflow_x": null,
      "overflow_y": null,
      "padding": null,
      "right": null,
      "top": null,
      "visibility": null,
      "width": null
     }
    },
    "f0e56e8c384e47ce91d9199bb6029786": {
     "model_module": "@jupyter-widgets/controls",
     "model_name": "DescriptionStyleModel",
     "state": {
      "_model_module": "@jupyter-widgets/controls",
      "_model_module_version": "1.5.0",
      "_model_name": "DescriptionStyleModel",
      "_view_count": null,
      "_view_module": "@jupyter-widgets/base",
      "_view_module_version": "1.2.0",
      "_view_name": "StyleView",
      "description_width": ""
     }
    },
    "f5ec4c7abbbe4bedbb92849b3f97b4fc": {
     "model_module": "@jupyter-widgets/controls",
     "model_name": "HTMLModel",
     "state": {
      "_dom_classes": [],
      "_model_module": "@jupyter-widgets/controls",
      "_model_module_version": "1.5.0",
      "_model_name": "HTMLModel",
      "_view_count": null,
      "_view_module": "@jupyter-widgets/controls",
      "_view_module_version": "1.5.0",
      "_view_name": "HTMLView",
      "description": "",
      "description_tooltip": null,
      "layout": "IPY_MODEL_8d25b2048ed64bab8c934b73dc8574b2",
      "placeholder": "​",
      "style": "IPY_MODEL_fd18adc54a5e4392b40e5cb6957ad4c8",
      "value": " 1.62k/1.62k [00:00&lt;00:00, 8.60kB/s]"
     }
    },
    "f66f8c837b7544749aaffcd7579ece7a": {
     "model_module": "@jupyter-widgets/controls",
     "model_name": "FloatProgressModel",
     "state": {
      "_dom_classes": [],
      "_model_module": "@jupyter-widgets/controls",
      "_model_module_version": "1.5.0",
      "_model_name": "FloatProgressModel",
      "_view_count": null,
      "_view_module": "@jupyter-widgets/controls",
      "_view_module_version": "1.5.0",
      "_view_name": "ProgressView",
      "bar_style": "success",
      "description": "Downloading: 100%",
      "description_tooltip": null,
      "layout": "IPY_MODEL_614bff0d042641f8b882e9f4a504f3c3",
      "max": 898822,
      "min": 0,
      "orientation": "horizontal",
      "style": "IPY_MODEL_f8eee88868e6442e8d3fb92144a88b0c",
      "value": 898822
     }
    },
    "f8eee88868e6442e8d3fb92144a88b0c": {
     "model_module": "@jupyter-widgets/controls",
     "model_name": "ProgressStyleModel",
     "state": {
      "_model_module": "@jupyter-widgets/controls",
      "_model_module_version": "1.5.0",
      "_model_name": "ProgressStyleModel",
      "_view_count": null,
      "_view_module": "@jupyter-widgets/base",
      "_view_module_version": "1.2.0",
      "_view_name": "StyleView",
      "bar_color": null,
      "description_width": "initial"
     }
    },
    "fd18adc54a5e4392b40e5cb6957ad4c8": {
     "model_module": "@jupyter-widgets/controls",
     "model_name": "DescriptionStyleModel",
     "state": {
      "_model_module": "@jupyter-widgets/controls",
      "_model_module_version": "1.5.0",
      "_model_name": "DescriptionStyleModel",
      "_view_count": null,
      "_view_module": "@jupyter-widgets/base",
      "_view_module_version": "1.2.0",
      "_view_name": "StyleView",
      "description_width": ""
     }
    }
   }
  }
 },
 "nbformat": 4,
 "nbformat_minor": 5
}
