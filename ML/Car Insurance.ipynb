{
 "cells": [
  {
   "cell_type": "markdown",
   "metadata": {},
   "source": [
    "# Machine Learning Project by Teodor Chakarov"
   ]
  },
  {
   "cell_type": "markdown",
   "metadata": {},
   "source": [
    "Atomobiles are big thing in everyday life of an average human. They help us being fast, flexable and independent. Though, we have a lot of social problems like air polution, traffic jams, car accidentsand etc.\n",
    "In that case every country set as regulation for required insurance, at least one, in order to drive a car. People with expensive vehicles should be obligated to do an insurance on order to drive those fast cars.\n",
    "\n",
    "Here I'm going to see how many people tend to trust an insurance company and make a prediction models for Classification and Regression problems.\n"
   ]
  },
  {
   "cell_type": "markdown",
   "metadata": {},
   "source": [
    "# Part 1 - Vehicle Insurance "
   ]
  },
  {
   "cell_type": "markdown",
   "metadata": {},
   "source": [
    "In this machine learning part, I'm going to inspect and try to build a model for an insurance company. I have a dataset which has people who use this insurance company's products for Health insurance. The dataset attribues are:\n",
    "1) Gender\n",
    "\n",
    "2) Age\n",
    "\n",
    "3) Driving License (1 - Yes, 0 - No)\n",
    "\n",
    "4) Redion Code - Unique code for the region of the customer\n",
    "\n",
    "5) Previously Insured - (0 - Person hasn't got previous vehicle insurance, 1 - Person has got previous vehicle insurance)\n",
    "\n",
    "6) Vehicle Age\n",
    "\n",
    "7) Previous Vehicle Damage\n",
    "\n",
    "8) Annual Premium - The amount customer needs to pay as premium in the year\n",
    "\n",
    "9) Policy Sales Chanel - Anonymized Code for the channel of outreaching to the customer ie. Different Agents, Over Mail, Over Phone, In Person, etc\n",
    "\n",
    "10) Vintage - Number of Days, Customer has been associated with the company\n",
    "\n",
    "11) Response - Does the customer wants to get vehicle insurance (0 - No, 1 - Yes)"
   ]
  },
  {
   "cell_type": "code",
   "execution_count": 1,
   "metadata": {},
   "outputs": [],
   "source": [
    "import pandas as pd\n",
    "import matplotlib.pyplot as plt\n",
    "import numpy as np\n",
    "%matplotlib inline\n",
    "import seaborn as sns\n"
   ]
  },
  {
   "cell_type": "code",
   "execution_count": 187,
   "metadata": {},
   "outputs": [],
   "source": [
    "np.random.seed(42)"
   ]
  },
  {
   "cell_type": "code",
   "execution_count": 2,
   "metadata": {},
   "outputs": [],
   "source": [
    "from sklearn.preprocessing import MinMaxScaler, PolynomialFeatures\n",
    "\n",
    "from sklearn.model_selection import train_test_split, StratifiedKFold, GridSearchCV\n",
    "\n",
    "from sklearn.linear_model import LogisticRegressionCV\n",
    "\n",
    "from sklearn.tree import DecisionTreeClassifier\n",
    "\n",
    "from sklearn.svm import SVC\n",
    "\n",
    "from sklearn.ensemble import RandomForestClassifier, AdaBoostClassifier, GradientBoostingClassifier\n",
    "\n",
    "from sklearn.neighbors import KNeighborsClassifier\n",
    "\n",
    "from sklearn.decomposition import PCA\n",
    "\n",
    "from sklearn.metrics import accuracy_score, f1_score, precision_score, recall_score, roc_auc_score, plot_confusion_matrix, plot_roc_curve\n",
    "\n",
    "from lightgbm import LGBMClassifier"
   ]
  },
  {
   "cell_type": "code",
   "execution_count": 3,
   "metadata": {},
   "outputs": [],
   "source": [
    "insurance = pd.read_csv(\"data/train.csv\")"
   ]
  },
  {
   "cell_type": "code",
   "execution_count": 4,
   "metadata": {},
   "outputs": [
    {
     "data": {
      "text/html": [
       "<div>\n",
       "<style scoped>\n",
       "    .dataframe tbody tr th:only-of-type {\n",
       "        vertical-align: middle;\n",
       "    }\n",
       "\n",
       "    .dataframe tbody tr th {\n",
       "        vertical-align: top;\n",
       "    }\n",
       "\n",
       "    .dataframe thead th {\n",
       "        text-align: right;\n",
       "    }\n",
       "</style>\n",
       "<table border=\"1\" class=\"dataframe\">\n",
       "  <thead>\n",
       "    <tr style=\"text-align: right;\">\n",
       "      <th></th>\n",
       "      <th>id</th>\n",
       "      <th>Gender</th>\n",
       "      <th>Age</th>\n",
       "      <th>Driving_License</th>\n",
       "      <th>Region_Code</th>\n",
       "      <th>Previously_Insured</th>\n",
       "      <th>Vehicle_Age</th>\n",
       "      <th>Vehicle_Damage</th>\n",
       "      <th>Annual_Premium</th>\n",
       "      <th>Policy_Sales_Channel</th>\n",
       "      <th>Vintage</th>\n",
       "      <th>Response</th>\n",
       "    </tr>\n",
       "  </thead>\n",
       "  <tbody>\n",
       "    <tr>\n",
       "      <th>0</th>\n",
       "      <td>1</td>\n",
       "      <td>Male</td>\n",
       "      <td>44</td>\n",
       "      <td>1</td>\n",
       "      <td>28.0</td>\n",
       "      <td>0</td>\n",
       "      <td>&gt; 2 Years</td>\n",
       "      <td>Yes</td>\n",
       "      <td>40454.0</td>\n",
       "      <td>26.0</td>\n",
       "      <td>217</td>\n",
       "      <td>1</td>\n",
       "    </tr>\n",
       "    <tr>\n",
       "      <th>1</th>\n",
       "      <td>2</td>\n",
       "      <td>Male</td>\n",
       "      <td>76</td>\n",
       "      <td>1</td>\n",
       "      <td>3.0</td>\n",
       "      <td>0</td>\n",
       "      <td>1-2 Year</td>\n",
       "      <td>No</td>\n",
       "      <td>33536.0</td>\n",
       "      <td>26.0</td>\n",
       "      <td>183</td>\n",
       "      <td>0</td>\n",
       "    </tr>\n",
       "    <tr>\n",
       "      <th>2</th>\n",
       "      <td>3</td>\n",
       "      <td>Male</td>\n",
       "      <td>47</td>\n",
       "      <td>1</td>\n",
       "      <td>28.0</td>\n",
       "      <td>0</td>\n",
       "      <td>&gt; 2 Years</td>\n",
       "      <td>Yes</td>\n",
       "      <td>38294.0</td>\n",
       "      <td>26.0</td>\n",
       "      <td>27</td>\n",
       "      <td>1</td>\n",
       "    </tr>\n",
       "    <tr>\n",
       "      <th>3</th>\n",
       "      <td>4</td>\n",
       "      <td>Male</td>\n",
       "      <td>21</td>\n",
       "      <td>1</td>\n",
       "      <td>11.0</td>\n",
       "      <td>1</td>\n",
       "      <td>&lt; 1 Year</td>\n",
       "      <td>No</td>\n",
       "      <td>28619.0</td>\n",
       "      <td>152.0</td>\n",
       "      <td>203</td>\n",
       "      <td>0</td>\n",
       "    </tr>\n",
       "    <tr>\n",
       "      <th>4</th>\n",
       "      <td>5</td>\n",
       "      <td>Female</td>\n",
       "      <td>29</td>\n",
       "      <td>1</td>\n",
       "      <td>41.0</td>\n",
       "      <td>1</td>\n",
       "      <td>&lt; 1 Year</td>\n",
       "      <td>No</td>\n",
       "      <td>27496.0</td>\n",
       "      <td>152.0</td>\n",
       "      <td>39</td>\n",
       "      <td>0</td>\n",
       "    </tr>\n",
       "  </tbody>\n",
       "</table>\n",
       "</div>"
      ],
      "text/plain": [
       "   id  Gender  Age  Driving_License  Region_Code  Previously_Insured  \\\n",
       "0   1    Male   44                1         28.0                   0   \n",
       "1   2    Male   76                1          3.0                   0   \n",
       "2   3    Male   47                1         28.0                   0   \n",
       "3   4    Male   21                1         11.0                   1   \n",
       "4   5  Female   29                1         41.0                   1   \n",
       "\n",
       "  Vehicle_Age Vehicle_Damage  Annual_Premium  Policy_Sales_Channel  Vintage  \\\n",
       "0   > 2 Years            Yes         40454.0                  26.0      217   \n",
       "1    1-2 Year             No         33536.0                  26.0      183   \n",
       "2   > 2 Years            Yes         38294.0                  26.0       27   \n",
       "3    < 1 Year             No         28619.0                 152.0      203   \n",
       "4    < 1 Year             No         27496.0                 152.0       39   \n",
       "\n",
       "   Response  \n",
       "0         1  \n",
       "1         0  \n",
       "2         1  \n",
       "3         0  \n",
       "4         0  "
      ]
     },
     "execution_count": 4,
     "metadata": {},
     "output_type": "execute_result"
    }
   ],
   "source": [
    "insurance.head()"
   ]
  },
  {
   "cell_type": "code",
   "execution_count": 5,
   "metadata": {},
   "outputs": [],
   "source": [
    "insurance = insurance.drop('id', axis = 1)"
   ]
  },
  {
   "cell_type": "code",
   "execution_count": 6,
   "metadata": {},
   "outputs": [
    {
     "data": {
      "text/html": [
       "<div>\n",
       "<style scoped>\n",
       "    .dataframe tbody tr th:only-of-type {\n",
       "        vertical-align: middle;\n",
       "    }\n",
       "\n",
       "    .dataframe tbody tr th {\n",
       "        vertical-align: top;\n",
       "    }\n",
       "\n",
       "    .dataframe thead th {\n",
       "        text-align: right;\n",
       "    }\n",
       "</style>\n",
       "<table border=\"1\" class=\"dataframe\">\n",
       "  <thead>\n",
       "    <tr style=\"text-align: right;\">\n",
       "      <th></th>\n",
       "      <th>count</th>\n",
       "      <th>mean</th>\n",
       "      <th>std</th>\n",
       "      <th>min</th>\n",
       "      <th>25%</th>\n",
       "      <th>50%</th>\n",
       "      <th>75%</th>\n",
       "      <th>max</th>\n",
       "    </tr>\n",
       "  </thead>\n",
       "  <tbody>\n",
       "    <tr>\n",
       "      <th>Age</th>\n",
       "      <td>381109.0</td>\n",
       "      <td>38.822584</td>\n",
       "      <td>15.511611</td>\n",
       "      <td>20.0</td>\n",
       "      <td>25.0</td>\n",
       "      <td>36.0</td>\n",
       "      <td>49.0</td>\n",
       "      <td>85.0</td>\n",
       "    </tr>\n",
       "    <tr>\n",
       "      <th>Driving_License</th>\n",
       "      <td>381109.0</td>\n",
       "      <td>0.997869</td>\n",
       "      <td>0.046110</td>\n",
       "      <td>0.0</td>\n",
       "      <td>1.0</td>\n",
       "      <td>1.0</td>\n",
       "      <td>1.0</td>\n",
       "      <td>1.0</td>\n",
       "    </tr>\n",
       "    <tr>\n",
       "      <th>Region_Code</th>\n",
       "      <td>381109.0</td>\n",
       "      <td>26.388807</td>\n",
       "      <td>13.229888</td>\n",
       "      <td>0.0</td>\n",
       "      <td>15.0</td>\n",
       "      <td>28.0</td>\n",
       "      <td>35.0</td>\n",
       "      <td>52.0</td>\n",
       "    </tr>\n",
       "    <tr>\n",
       "      <th>Previously_Insured</th>\n",
       "      <td>381109.0</td>\n",
       "      <td>0.458210</td>\n",
       "      <td>0.498251</td>\n",
       "      <td>0.0</td>\n",
       "      <td>0.0</td>\n",
       "      <td>0.0</td>\n",
       "      <td>1.0</td>\n",
       "      <td>1.0</td>\n",
       "    </tr>\n",
       "    <tr>\n",
       "      <th>Annual_Premium</th>\n",
       "      <td>381109.0</td>\n",
       "      <td>30564.389581</td>\n",
       "      <td>17213.155057</td>\n",
       "      <td>2630.0</td>\n",
       "      <td>24405.0</td>\n",
       "      <td>31669.0</td>\n",
       "      <td>39400.0</td>\n",
       "      <td>540165.0</td>\n",
       "    </tr>\n",
       "    <tr>\n",
       "      <th>Policy_Sales_Channel</th>\n",
       "      <td>381109.0</td>\n",
       "      <td>112.034295</td>\n",
       "      <td>54.203995</td>\n",
       "      <td>1.0</td>\n",
       "      <td>29.0</td>\n",
       "      <td>133.0</td>\n",
       "      <td>152.0</td>\n",
       "      <td>163.0</td>\n",
       "    </tr>\n",
       "    <tr>\n",
       "      <th>Vintage</th>\n",
       "      <td>381109.0</td>\n",
       "      <td>154.347397</td>\n",
       "      <td>83.671304</td>\n",
       "      <td>10.0</td>\n",
       "      <td>82.0</td>\n",
       "      <td>154.0</td>\n",
       "      <td>227.0</td>\n",
       "      <td>299.0</td>\n",
       "    </tr>\n",
       "    <tr>\n",
       "      <th>Response</th>\n",
       "      <td>381109.0</td>\n",
       "      <td>0.122563</td>\n",
       "      <td>0.327936</td>\n",
       "      <td>0.0</td>\n",
       "      <td>0.0</td>\n",
       "      <td>0.0</td>\n",
       "      <td>0.0</td>\n",
       "      <td>1.0</td>\n",
       "    </tr>\n",
       "  </tbody>\n",
       "</table>\n",
       "</div>"
      ],
      "text/plain": [
       "                         count          mean           std     min      25%  \\\n",
       "Age                   381109.0     38.822584     15.511611    20.0     25.0   \n",
       "Driving_License       381109.0      0.997869      0.046110     0.0      1.0   \n",
       "Region_Code           381109.0     26.388807     13.229888     0.0     15.0   \n",
       "Previously_Insured    381109.0      0.458210      0.498251     0.0      0.0   \n",
       "Annual_Premium        381109.0  30564.389581  17213.155057  2630.0  24405.0   \n",
       "Policy_Sales_Channel  381109.0    112.034295     54.203995     1.0     29.0   \n",
       "Vintage               381109.0    154.347397     83.671304    10.0     82.0   \n",
       "Response              381109.0      0.122563      0.327936     0.0      0.0   \n",
       "\n",
       "                          50%      75%       max  \n",
       "Age                      36.0     49.0      85.0  \n",
       "Driving_License           1.0      1.0       1.0  \n",
       "Region_Code              28.0     35.0      52.0  \n",
       "Previously_Insured        0.0      1.0       1.0  \n",
       "Annual_Premium        31669.0  39400.0  540165.0  \n",
       "Policy_Sales_Channel    133.0    152.0     163.0  \n",
       "Vintage                 154.0    227.0     299.0  \n",
       "Response                  0.0      0.0       1.0  "
      ]
     },
     "execution_count": 6,
     "metadata": {},
     "output_type": "execute_result"
    }
   ],
   "source": [
    "insurance.describe().T"
   ]
  },
  {
   "cell_type": "code",
   "execution_count": 7,
   "metadata": {},
   "outputs": [
    {
     "data": {
      "text/plain": [
       "Gender                  0\n",
       "Age                     0\n",
       "Driving_License         0\n",
       "Region_Code             0\n",
       "Previously_Insured      0\n",
       "Vehicle_Age             0\n",
       "Vehicle_Damage          0\n",
       "Annual_Premium          0\n",
       "Policy_Sales_Channel    0\n",
       "Vintage                 0\n",
       "Response                0\n",
       "dtype: int64"
      ]
     },
     "execution_count": 7,
     "metadata": {},
     "output_type": "execute_result"
    }
   ],
   "source": [
    "insurance.isna().sum()"
   ]
  },
  {
   "cell_type": "code",
   "execution_count": 8,
   "metadata": {},
   "outputs": [
    {
     "data": {
      "text/plain": [
       "Gender                   object\n",
       "Age                       int64\n",
       "Driving_License           int64\n",
       "Region_Code             float64\n",
       "Previously_Insured        int64\n",
       "Vehicle_Age              object\n",
       "Vehicle_Damage           object\n",
       "Annual_Premium          float64\n",
       "Policy_Sales_Channel    float64\n",
       "Vintage                   int64\n",
       "Response                  int64\n",
       "dtype: object"
      ]
     },
     "execution_count": 8,
     "metadata": {},
     "output_type": "execute_result"
    }
   ],
   "source": [
    "insurance.dtypes"
   ]
  },
  {
   "cell_type": "markdown",
   "metadata": {},
   "source": [
    "## Data Exploration\n",
    "\n",
    "\n",
    "I'm going briefly to explore the dataset, try to see correlations and how the data is acting between the columns "
   ]
  },
  {
   "cell_type": "code",
   "execution_count": 9,
   "metadata": {},
   "outputs": [
    {
     "name": "stdout",
     "output_type": "stream",
     "text": [
      "Number of observations are (381109, 11)\n"
     ]
    }
   ],
   "source": [
    "print(f\"Number of observations are {insurance.shape}\")"
   ]
  },
  {
   "cell_type": "code",
   "execution_count": 10,
   "metadata": {},
   "outputs": [
    {
     "data": {
      "image/png": "[encoded data removed]",
      "text/plain": [
       "<Figure size 576x576 with 1 Axes>"
      ]
     },
     "metadata": {},
     "output_type": "display_data"
    }
   ],
   "source": [
    "colors = ['blue', 'red']\n",
    "plt.title('Insurance Clients based on Gender',fontsize=15)\n",
    "circle = plt.Circle((0, 0), 0.6, color = 'white')\n",
    "insurance['Gender'].value_counts().plot(kind='pie', figsize=(8, 8), rot=1, colors=colors, autopct = '%.2f%%')\n",
    "plt.axis('off')\n",
    "plt.legend()\n",
    "plt.show()"
   ]
  },
  {
   "cell_type": "markdown",
   "metadata": {},
   "source": [
    "We can see almost equal distibution between men and women"
   ]
  },
  {
   "cell_type": "code",
   "execution_count": 11,
   "metadata": {},
   "outputs": [
    {
     "data": {
      "image/png": "[encoded data removed]",
      "text/plain": [
       "<Figure size 576x576 with 1 Axes>"
      ]
     },
     "metadata": {
      "needs_background": "light"
     },
     "output_type": "display_data"
    }
   ],
   "source": [
    "plt.title('Vehicle age distribution',fontsize=15)\n",
    "insurance['Vehicle_Age'].value_counts().plot(kind='bar', figsize=(8, 8))\n",
    "plt.xlabel('Years of a car')\n",
    "plt.ylabel('Count')\n",
    "plt.legend()\n",
    "plt.show()"
   ]
  },
  {
   "cell_type": "markdown",
   "metadata": {},
   "source": [
    "### Customers with previous insurance"
   ]
  },
  {
   "cell_type": "code",
   "execution_count": 12,
   "metadata": {},
   "outputs": [
    {
     "data": {
      "text/html": [
       "<div>\n",
       "<style scoped>\n",
       "    .dataframe tbody tr th:only-of-type {\n",
       "        vertical-align: middle;\n",
       "    }\n",
       "\n",
       "    .dataframe tbody tr th {\n",
       "        vertical-align: top;\n",
       "    }\n",
       "\n",
       "    .dataframe thead th {\n",
       "        text-align: right;\n",
       "    }\n",
       "</style>\n",
       "<table border=\"1\" class=\"dataframe\">\n",
       "  <thead>\n",
       "    <tr style=\"text-align: right;\">\n",
       "      <th></th>\n",
       "      <th></th>\n",
       "      <th>Age</th>\n",
       "      <th>Driving_License</th>\n",
       "      <th>Region_Code</th>\n",
       "      <th>Vehicle_Age</th>\n",
       "      <th>Vehicle_Damage</th>\n",
       "      <th>Annual_Premium</th>\n",
       "      <th>Policy_Sales_Channel</th>\n",
       "      <th>Vintage</th>\n",
       "      <th>Response</th>\n",
       "    </tr>\n",
       "    <tr>\n",
       "      <th>Gender</th>\n",
       "      <th>Previously_Insured</th>\n",
       "      <th></th>\n",
       "      <th></th>\n",
       "      <th></th>\n",
       "      <th></th>\n",
       "      <th></th>\n",
       "      <th></th>\n",
       "      <th></th>\n",
       "      <th></th>\n",
       "      <th></th>\n",
       "    </tr>\n",
       "  </thead>\n",
       "  <tbody>\n",
       "    <tr>\n",
       "      <th rowspan=\"2\" valign=\"top\">Female</th>\n",
       "      <th>0</th>\n",
       "      <td>87071</td>\n",
       "      <td>87071</td>\n",
       "      <td>87071</td>\n",
       "      <td>87071</td>\n",
       "      <td>87071</td>\n",
       "      <td>87071</td>\n",
       "      <td>87071</td>\n",
       "      <td>87071</td>\n",
       "      <td>87071</td>\n",
       "    </tr>\n",
       "    <tr>\n",
       "      <th>1</th>\n",
       "      <td>87949</td>\n",
       "      <td>87949</td>\n",
       "      <td>87949</td>\n",
       "      <td>87949</td>\n",
       "      <td>87949</td>\n",
       "      <td>87949</td>\n",
       "      <td>87949</td>\n",
       "      <td>87949</td>\n",
       "      <td>87949</td>\n",
       "    </tr>\n",
       "    <tr>\n",
       "      <th rowspan=\"2\" valign=\"top\">Male</th>\n",
       "      <th>0</th>\n",
       "      <td>119410</td>\n",
       "      <td>119410</td>\n",
       "      <td>119410</td>\n",
       "      <td>119410</td>\n",
       "      <td>119410</td>\n",
       "      <td>119410</td>\n",
       "      <td>119410</td>\n",
       "      <td>119410</td>\n",
       "      <td>119410</td>\n",
       "    </tr>\n",
       "    <tr>\n",
       "      <th>1</th>\n",
       "      <td>86679</td>\n",
       "      <td>86679</td>\n",
       "      <td>86679</td>\n",
       "      <td>86679</td>\n",
       "      <td>86679</td>\n",
       "      <td>86679</td>\n",
       "      <td>86679</td>\n",
       "      <td>86679</td>\n",
       "      <td>86679</td>\n",
       "    </tr>\n",
       "  </tbody>\n",
       "</table>\n",
       "</div>"
      ],
      "text/plain": [
       "                              Age  Driving_License  Region_Code  Vehicle_Age  \\\n",
       "Gender Previously_Insured                                                      \n",
       "Female 0                    87071            87071        87071        87071   \n",
       "       1                    87949            87949        87949        87949   \n",
       "Male   0                   119410           119410       119410       119410   \n",
       "       1                    86679            86679        86679        86679   \n",
       "\n",
       "                           Vehicle_Damage  Annual_Premium  \\\n",
       "Gender Previously_Insured                                   \n",
       "Female 0                            87071           87071   \n",
       "       1                            87949           87949   \n",
       "Male   0                           119410          119410   \n",
       "       1                            86679           86679   \n",
       "\n",
       "                           Policy_Sales_Channel  Vintage  Response  \n",
       "Gender Previously_Insured                                           \n",
       "Female 0                                  87071    87071     87071  \n",
       "       1                                  87949    87949     87949  \n",
       "Male   0                                 119410   119410    119410  \n",
       "       1                                  86679    86679     86679  "
      ]
     },
     "execution_count": 12,
     "metadata": {},
     "output_type": "execute_result"
    }
   ],
   "source": [
    "health = insurance.groupby(['Gender', 'Previously_Insured'], as_index='Gender').count()\n",
    "health"
   ]
  },
  {
   "cell_type": "code",
   "execution_count": 13,
   "metadata": {},
   "outputs": [
    {
     "data": {
      "image/png": "[encoded data removed]",
      "text/plain": [
       "<Figure size 576x576 with 1 Axes>"
      ]
     },
     "metadata": {},
     "output_type": "display_data"
    }
   ],
   "source": [
    "colors = ['#1849CA', 'crimson', 'green', 'pink']\n",
    "circle = plt.Circle((0, 0), 0.6, color = 'white')\n",
    "health.plot(x= 'Gender', y='Age',kind='pie', figsize=(8, 8), rot=1, colors=colors, autopct = '%.2f%%')\n",
    "plt.title('Insured by Gender')\n",
    "plt.legend()\n",
    "plt.axis('off')\n",
    "plt.show()"
   ]
  },
  {
   "cell_type": "markdown",
   "metadata": {},
   "source": [
    "Clearly men who don't have previous incuranse are more than men who do have but women are nearly equaly distributed.\n",
    "\n"
   ]
  },
  {
   "cell_type": "code",
   "execution_count": 14,
   "metadata": {},
   "outputs": [
    {
     "data": {
      "image/png": "[encoded data removed]",
      "text/plain": [
       "<Figure size 576x576 with 1 Axes>"
      ]
     },
     "metadata": {
      "needs_background": "light"
     },
     "output_type": "display_data"
    }
   ],
   "source": [
    "plt.figure(figsize=(8,6))\n",
    "plt.title('Vehicle damage by gender',fontsize=15)\n",
    "insurance['Vehicle_Damage'].value_counts().plot(kind='bar', figsize=(8, 8))\n",
    "plt.xlabel('Damaged car?')\n",
    "plt.ylabel('Count')\n",
    "plt.legend()\n",
    "plt.show()"
   ]
  },
  {
   "cell_type": "markdown",
   "metadata": {},
   "source": [
    "Here again we have equaly distribution between two categories"
   ]
  },
  {
   "cell_type": "code",
   "execution_count": 15,
   "metadata": {},
   "outputs": [],
   "source": [
    "men = insurance[insurance['Gender'] =='Male']\n",
    "female = insurance[insurance['Gender'] == 'Female']"
   ]
  },
  {
   "cell_type": "code",
   "execution_count": 16,
   "metadata": {},
   "outputs": [
    {
     "name": "stdout",
     "output_type": "stream",
     "text": [
      "(206089, 11)\n",
      "(175020, 11)\n"
     ]
    }
   ],
   "source": [
    "print(men.shape)\n",
    "print(female.shape)"
   ]
  },
  {
   "cell_type": "markdown",
   "metadata": {},
   "source": [
    "#### What did people choose for insuranse? "
   ]
  },
  {
   "cell_type": "code",
   "execution_count": 17,
   "metadata": {},
   "outputs": [],
   "source": [
    "people_without_insuranse_accept= insurance[(insurance['Previously_Insured'] == 0) & (insurance['Response'] == 1)]\n",
    "people_with_insuranse =  insurance[(insurance['Previously_Insured'] == 1) & (insurance['Response'] == 1)]"
   ]
  },
  {
   "cell_type": "code",
   "execution_count": 18,
   "metadata": {},
   "outputs": [
    {
     "name": "stdout",
     "output_type": "stream",
     "text": [
      "(46552, 11)\n",
      "(158, 11)\n"
     ]
    }
   ],
   "source": [
    "print(people_without_insuranse_accept.shape)\n",
    "print(people_with_insuranse.shape)"
   ]
  },
  {
   "cell_type": "code",
   "execution_count": 19,
   "metadata": {},
   "outputs": [
    {
     "name": "stdout",
     "output_type": "stream",
     "text": [
      "As we see people who don't have previous insurance and who will pay for one are 46552 and people who will continue paying are 158\n"
     ]
    }
   ],
   "source": [
    "print(f\"As we see people who don't have previous insurance and who will pay for one are {people_without_insuranse_accept.shape[0]} and people who will continue paying are {people_with_insuranse.shape[0]}\")"
   ]
  },
  {
   "cell_type": "code",
   "execution_count": 20,
   "metadata": {},
   "outputs": [],
   "source": [
    "people_without_insuranse_reject = insurance[( insurance['Previously_Insured'] == 0) & (insurance['Response'] == 0)]\n",
    "people_with_insuranse_reject =  insurance[(insurance['Previously_Insured'] == 1) & (insurance['Response'] == 0)]"
   ]
  },
  {
   "cell_type": "code",
   "execution_count": 21,
   "metadata": {},
   "outputs": [
    {
     "name": "stdout",
     "output_type": "stream",
     "text": [
      "(174470, 11)\n",
      "(159929, 11)\n"
     ]
    }
   ],
   "source": [
    "print(people_with_insuranse_reject.shape)\n",
    "print(people_without_insuranse_reject.shape)"
   ]
  },
  {
   "cell_type": "code",
   "execution_count": 22,
   "metadata": {},
   "outputs": [
    {
     "name": "stdout",
     "output_type": "stream",
     "text": [
      "We can see that people who don't have previous insurance and won't pay for one are 159929 and people who will stop paying are 174470\n"
     ]
    }
   ],
   "source": [
    "print(f\"We can see that people who don't have previous insurance and won't pay for one are {people_without_insuranse_reject.shape[0]} and people who will stop paying are {people_with_insuranse_reject.shape[0]}\")"
   ]
  },
  {
   "cell_type": "code",
   "execution_count": 23,
   "metadata": {},
   "outputs": [
    {
     "data": {
      "image/png": "[encoded data removed]",
      "text/plain": [
       "<Figure size 576x432 with 1 Axes>"
      ]
     },
     "metadata": {
      "needs_background": "light"
     },
     "output_type": "display_data"
    }
   ],
   "source": [
    "plt.figure(figsize=(8,6))\n",
    "\n",
    "plt.title('Are people into vehicle insurance or not')\n",
    "\n",
    "sns.countplot(x = 'Previously_Insured', hue='Response', data = insurance)\n",
    "plt.ylabel(\"Count\")\n",
    "\n",
    "plt.show()"
   ]
  },
  {
   "cell_type": "markdown",
   "metadata": {},
   "source": [
    "#### Our dataset until this point is very well balanced but here we can see that people's response about future insurance is really low. \n",
    "We can see that bigger % of people who will pay for one are people who don't have previous insurance.\n",
    "\n",
    "People's response isn't balanced. That is either people are not satisfied with the insurance company's products or they don't need one.\n"
   ]
  },
  {
   "cell_type": "markdown",
   "metadata": {},
   "source": [
    "### Distribution"
   ]
  },
  {
   "cell_type": "code",
   "execution_count": 24,
   "metadata": {},
   "outputs": [
    {
     "data": {
      "image/png": "[encoded data removed]",
      "text/plain": [
       "<Figure size 576x432 with 1 Axes>"
      ]
     },
     "metadata": {
      "needs_background": "light"
     },
     "output_type": "display_data"
    }
   ],
   "source": [
    "plt.figure(figsize=(8,6))\n",
    "plt.title('Age Distribution')\n",
    "m = sns.kdeplot(x = men['Age'], shade = True, legend = True, label = 'Male')\n",
    "w = sns.kdeplot(x = female['Age'], shade = True, legend = True, label = 'Female')\n",
    "plt.legend()\n",
    "plt.show()"
   ]
  },
  {
   "cell_type": "markdown",
   "metadata": {},
   "source": [
    "We tend to have more people in ther young adult years (20-28) and (40-45) years"
   ]
  },
  {
   "cell_type": "code",
   "execution_count": 25,
   "metadata": {},
   "outputs": [
    {
     "data": {
      "image/png": "[encoded data removed]",
      "text/plain": [
       "<Figure size 576x432 with 1 Axes>"
      ]
     },
     "metadata": {
      "needs_background": "light"
     },
     "output_type": "display_data"
    }
   ],
   "source": [
    "plt.figure(figsize=(8,6))\n",
    "\n",
    "plt.title('Vehicle Damage and customers response')\n",
    "sns.countplot(x = 'Vehicle_Damage', hue='Response', data = insurance)\n",
    "\n",
    "plt.xlabel(\"Vehicle Damage\")\n",
    "plt.ylabel(\"Count\")\n",
    "plt.show()"
   ]
  },
  {
   "cell_type": "markdown",
   "metadata": {},
   "source": [
    " We can see that people who got in a car accident will have an insurance."
   ]
  },
  {
   "cell_type": "code",
   "execution_count": 26,
   "metadata": {},
   "outputs": [
    {
     "data": {
      "image/png": "[encoded data removed]",
      "text/plain": [
       "<Figure size 576x432 with 1 Axes>"
      ]
     },
     "metadata": {
      "needs_background": "light"
     },
     "output_type": "display_data"
    }
   ],
   "source": [
    "plt.figure(figsize=(8,6))\n",
    "\n",
    "plt.title('Vehicle Insured Clients')\n",
    "vehicle_damage = insurance[['Gender', 'Response', 'Age']]\n",
    "vehicle_damage = vehicle_damage[vehicle_damage['Response'] == 1]\n",
    "men = vehicle_damage[vehicle_damage.Gender == 'Male']\n",
    "female = vehicle_damage[vehicle_damage.Gender == 'Female']\n",
    "m = sns.kdeplot(x = men['Age'], shade = True, legend = 'True', label = 'Male')\n",
    "w = sns.kdeplot(x = female['Age'], shade = True, legend = 'True', label = 'Female')\n",
    "\n",
    "plt.legend()\n",
    "plt.show()"
   ]
  },
  {
   "cell_type": "markdown",
   "metadata": {},
   "source": [
    "Age definetly afects people response about the insurance. Pople between age of 30-50 tend to look forward an insurance."
   ]
  },
  {
   "cell_type": "code",
   "execution_count": 27,
   "metadata": {},
   "outputs": [
    {
     "data": {
      "image/png": "[encoded data removed]",
      "text/plain": [
       "<Figure size 576x432 with 1 Axes>"
      ]
     },
     "metadata": {
      "needs_background": "light"
     },
     "output_type": "display_data"
    }
   ],
   "source": [
    "plt.figure(figsize=(8,6))\n",
    "\n",
    "plt.title('Vehicle Insured Clients')\n",
    "vehicle_damage = insurance[['Gender', 'Previously_Insured', 'Age']]\n",
    "vehicle_damage = vehicle_damage[vehicle_damage['Previously_Insured'] == 1]\n",
    "men = vehicle_damage[vehicle_damage.Gender == 'Male']\n",
    "female = vehicle_damage[vehicle_damage.Gender == 'Female']\n",
    "m = sns.kdeplot(x = men['Age'], shade = True, legend = 'True', label = 'Male')\n",
    "w = sns.kdeplot(x = female['Age'], shade = True, legend = 'True', label = 'Female')\n",
    "\n",
    "plt.legend()\n",
    "plt.show()"
   ]
  },
  {
   "cell_type": "markdown",
   "metadata": {},
   "source": [
    "More of the perviously insuranced clients are at young age."
   ]
  },
  {
   "cell_type": "markdown",
   "metadata": {},
   "source": [
    "### In conclusion:\n",
    "1) In general our dataset is well balanced except people's response about new insurnace.\n",
    "\n",
    "2) Age, Car Accidents, Previously damaged cars, previous insuranced client are in relations with their response\n",
    "\n",
    "3) We have to make sure in the machine learning part to stratify the Response equaly in the training and testing set!"
   ]
  },
  {
   "cell_type": "markdown",
   "metadata": {},
   "source": [
    "## Preparing for Machine Learning"
   ]
  },
  {
   "cell_type": "markdown",
   "metadata": {},
   "source": [
    "We need to transform our string columns to categorical numbers in order to use them for algorithms"
   ]
  },
  {
   "cell_type": "code",
   "execution_count": 28,
   "metadata": {},
   "outputs": [
    {
     "data": {
      "text/html": [
       "<div>\n",
       "<style scoped>\n",
       "    .dataframe tbody tr th:only-of-type {\n",
       "        vertical-align: middle;\n",
       "    }\n",
       "\n",
       "    .dataframe tbody tr th {\n",
       "        vertical-align: top;\n",
       "    }\n",
       "\n",
       "    .dataframe thead th {\n",
       "        text-align: right;\n",
       "    }\n",
       "</style>\n",
       "<table border=\"1\" class=\"dataframe\">\n",
       "  <thead>\n",
       "    <tr style=\"text-align: right;\">\n",
       "      <th></th>\n",
       "      <th>Gender</th>\n",
       "      <th>Age</th>\n",
       "      <th>Driving_License</th>\n",
       "      <th>Region_Code</th>\n",
       "      <th>Previously_Insured</th>\n",
       "      <th>Vehicle_Age</th>\n",
       "      <th>Vehicle_Damage</th>\n",
       "      <th>Annual_Premium</th>\n",
       "      <th>Policy_Sales_Channel</th>\n",
       "      <th>Vintage</th>\n",
       "      <th>Response</th>\n",
       "    </tr>\n",
       "  </thead>\n",
       "  <tbody>\n",
       "    <tr>\n",
       "      <th>0</th>\n",
       "      <td>Male</td>\n",
       "      <td>44</td>\n",
       "      <td>1</td>\n",
       "      <td>28.0</td>\n",
       "      <td>0</td>\n",
       "      <td>&gt; 2 Years</td>\n",
       "      <td>Yes</td>\n",
       "      <td>40454.0</td>\n",
       "      <td>26.0</td>\n",
       "      <td>217</td>\n",
       "      <td>1</td>\n",
       "    </tr>\n",
       "    <tr>\n",
       "      <th>1</th>\n",
       "      <td>Male</td>\n",
       "      <td>76</td>\n",
       "      <td>1</td>\n",
       "      <td>3.0</td>\n",
       "      <td>0</td>\n",
       "      <td>1-2 Year</td>\n",
       "      <td>No</td>\n",
       "      <td>33536.0</td>\n",
       "      <td>26.0</td>\n",
       "      <td>183</td>\n",
       "      <td>0</td>\n",
       "    </tr>\n",
       "    <tr>\n",
       "      <th>2</th>\n",
       "      <td>Male</td>\n",
       "      <td>47</td>\n",
       "      <td>1</td>\n",
       "      <td>28.0</td>\n",
       "      <td>0</td>\n",
       "      <td>&gt; 2 Years</td>\n",
       "      <td>Yes</td>\n",
       "      <td>38294.0</td>\n",
       "      <td>26.0</td>\n",
       "      <td>27</td>\n",
       "      <td>1</td>\n",
       "    </tr>\n",
       "    <tr>\n",
       "      <th>3</th>\n",
       "      <td>Male</td>\n",
       "      <td>21</td>\n",
       "      <td>1</td>\n",
       "      <td>11.0</td>\n",
       "      <td>1</td>\n",
       "      <td>&lt; 1 Year</td>\n",
       "      <td>No</td>\n",
       "      <td>28619.0</td>\n",
       "      <td>152.0</td>\n",
       "      <td>203</td>\n",
       "      <td>0</td>\n",
       "    </tr>\n",
       "    <tr>\n",
       "      <th>4</th>\n",
       "      <td>Female</td>\n",
       "      <td>29</td>\n",
       "      <td>1</td>\n",
       "      <td>41.0</td>\n",
       "      <td>1</td>\n",
       "      <td>&lt; 1 Year</td>\n",
       "      <td>No</td>\n",
       "      <td>27496.0</td>\n",
       "      <td>152.0</td>\n",
       "      <td>39</td>\n",
       "      <td>0</td>\n",
       "    </tr>\n",
       "  </tbody>\n",
       "</table>\n",
       "</div>"
      ],
      "text/plain": [
       "   Gender  Age  Driving_License  Region_Code  Previously_Insured Vehicle_Age  \\\n",
       "0    Male   44                1         28.0                   0   > 2 Years   \n",
       "1    Male   76                1          3.0                   0    1-2 Year   \n",
       "2    Male   47                1         28.0                   0   > 2 Years   \n",
       "3    Male   21                1         11.0                   1    < 1 Year   \n",
       "4  Female   29                1         41.0                   1    < 1 Year   \n",
       "\n",
       "  Vehicle_Damage  Annual_Premium  Policy_Sales_Channel  Vintage  Response  \n",
       "0            Yes         40454.0                  26.0      217         1  \n",
       "1             No         33536.0                  26.0      183         0  \n",
       "2            Yes         38294.0                  26.0       27         1  \n",
       "3             No         28619.0                 152.0      203         0  \n",
       "4             No         27496.0                 152.0       39         0  "
      ]
     },
     "execution_count": 28,
     "metadata": {},
     "output_type": "execute_result"
    }
   ],
   "source": [
    "insurance.head()"
   ]
  },
  {
   "cell_type": "code",
   "execution_count": 29,
   "metadata": {},
   "outputs": [
    {
     "data": {
      "text/plain": [
       "(381109, 11)"
      ]
     },
     "execution_count": 29,
     "metadata": {},
     "output_type": "execute_result"
    }
   ],
   "source": [
    "insurance.shape"
   ]
  },
  {
   "cell_type": "code",
   "execution_count": 30,
   "metadata": {},
   "outputs": [],
   "source": [
    "insurance_categorical = pd.get_dummies(insurance)"
   ]
  },
  {
   "cell_type": "code",
   "execution_count": 31,
   "metadata": {},
   "outputs": [],
   "source": [
    "insurance_categorical.columns = ['Age', 'Driving_License' , 'Region_Code', 'Previously_Insured',\n",
    "                                 'Annual_Premium', 'Policy_Sales_Channel', 'Vintage', 'Response',\n",
    "                                 'Gender_Female', 'Gender_Male','Vehicle_Age_1-2', 'Vehicle_Age_<1',\n",
    "                                 'Vehicle_Age_>2', 'Vehicle_Damage_No', 'Vehicle_Damage_Yes']"
   ]
  },
  {
   "cell_type": "code",
   "execution_count": 32,
   "metadata": {},
   "outputs": [
    {
     "data": {
      "text/html": [
       "<div>\n",
       "<style scoped>\n",
       "    .dataframe tbody tr th:only-of-type {\n",
       "        vertical-align: middle;\n",
       "    }\n",
       "\n",
       "    .dataframe tbody tr th {\n",
       "        vertical-align: top;\n",
       "    }\n",
       "\n",
       "    .dataframe thead th {\n",
       "        text-align: right;\n",
       "    }\n",
       "</style>\n",
       "<table border=\"1\" class=\"dataframe\">\n",
       "  <thead>\n",
       "    <tr style=\"text-align: right;\">\n",
       "      <th></th>\n",
       "      <th>Age</th>\n",
       "      <th>Driving_License</th>\n",
       "      <th>Region_Code</th>\n",
       "      <th>Previously_Insured</th>\n",
       "      <th>Annual_Premium</th>\n",
       "      <th>Policy_Sales_Channel</th>\n",
       "      <th>Vintage</th>\n",
       "      <th>Response</th>\n",
       "      <th>Gender_Female</th>\n",
       "      <th>Gender_Male</th>\n",
       "      <th>Vehicle_Age_1-2</th>\n",
       "      <th>Vehicle_Age_&lt;1</th>\n",
       "      <th>Vehicle_Age_&gt;2</th>\n",
       "      <th>Vehicle_Damage_No</th>\n",
       "      <th>Vehicle_Damage_Yes</th>\n",
       "    </tr>\n",
       "  </thead>\n",
       "  <tbody>\n",
       "    <tr>\n",
       "      <th>0</th>\n",
       "      <td>44</td>\n",
       "      <td>1</td>\n",
       "      <td>28.0</td>\n",
       "      <td>0</td>\n",
       "      <td>40454.0</td>\n",
       "      <td>26.0</td>\n",
       "      <td>217</td>\n",
       "      <td>1</td>\n",
       "      <td>0</td>\n",
       "      <td>1</td>\n",
       "      <td>0</td>\n",
       "      <td>0</td>\n",
       "      <td>1</td>\n",
       "      <td>0</td>\n",
       "      <td>1</td>\n",
       "    </tr>\n",
       "    <tr>\n",
       "      <th>1</th>\n",
       "      <td>76</td>\n",
       "      <td>1</td>\n",
       "      <td>3.0</td>\n",
       "      <td>0</td>\n",
       "      <td>33536.0</td>\n",
       "      <td>26.0</td>\n",
       "      <td>183</td>\n",
       "      <td>0</td>\n",
       "      <td>0</td>\n",
       "      <td>1</td>\n",
       "      <td>1</td>\n",
       "      <td>0</td>\n",
       "      <td>0</td>\n",
       "      <td>1</td>\n",
       "      <td>0</td>\n",
       "    </tr>\n",
       "    <tr>\n",
       "      <th>2</th>\n",
       "      <td>47</td>\n",
       "      <td>1</td>\n",
       "      <td>28.0</td>\n",
       "      <td>0</td>\n",
       "      <td>38294.0</td>\n",
       "      <td>26.0</td>\n",
       "      <td>27</td>\n",
       "      <td>1</td>\n",
       "      <td>0</td>\n",
       "      <td>1</td>\n",
       "      <td>0</td>\n",
       "      <td>0</td>\n",
       "      <td>1</td>\n",
       "      <td>0</td>\n",
       "      <td>1</td>\n",
       "    </tr>\n",
       "    <tr>\n",
       "      <th>3</th>\n",
       "      <td>21</td>\n",
       "      <td>1</td>\n",
       "      <td>11.0</td>\n",
       "      <td>1</td>\n",
       "      <td>28619.0</td>\n",
       "      <td>152.0</td>\n",
       "      <td>203</td>\n",
       "      <td>0</td>\n",
       "      <td>0</td>\n",
       "      <td>1</td>\n",
       "      <td>0</td>\n",
       "      <td>1</td>\n",
       "      <td>0</td>\n",
       "      <td>1</td>\n",
       "      <td>0</td>\n",
       "    </tr>\n",
       "    <tr>\n",
       "      <th>4</th>\n",
       "      <td>29</td>\n",
       "      <td>1</td>\n",
       "      <td>41.0</td>\n",
       "      <td>1</td>\n",
       "      <td>27496.0</td>\n",
       "      <td>152.0</td>\n",
       "      <td>39</td>\n",
       "      <td>0</td>\n",
       "      <td>1</td>\n",
       "      <td>0</td>\n",
       "      <td>0</td>\n",
       "      <td>1</td>\n",
       "      <td>0</td>\n",
       "      <td>1</td>\n",
       "      <td>0</td>\n",
       "    </tr>\n",
       "  </tbody>\n",
       "</table>\n",
       "</div>"
      ],
      "text/plain": [
       "   Age  Driving_License  Region_Code  Previously_Insured  Annual_Premium  \\\n",
       "0   44                1         28.0                   0         40454.0   \n",
       "1   76                1          3.0                   0         33536.0   \n",
       "2   47                1         28.0                   0         38294.0   \n",
       "3   21                1         11.0                   1         28619.0   \n",
       "4   29                1         41.0                   1         27496.0   \n",
       "\n",
       "   Policy_Sales_Channel  Vintage  Response  Gender_Female  Gender_Male  \\\n",
       "0                  26.0      217         1              0            1   \n",
       "1                  26.0      183         0              0            1   \n",
       "2                  26.0       27         1              0            1   \n",
       "3                 152.0      203         0              0            1   \n",
       "4                 152.0       39         0              1            0   \n",
       "\n",
       "   Vehicle_Age_1-2  Vehicle_Age_<1  Vehicle_Age_>2  Vehicle_Damage_No  \\\n",
       "0                0               0               1                  0   \n",
       "1                1               0               0                  1   \n",
       "2                0               0               1                  0   \n",
       "3                0               1               0                  1   \n",
       "4                0               1               0                  1   \n",
       "\n",
       "   Vehicle_Damage_Yes  \n",
       "0                   1  \n",
       "1                   0  \n",
       "2                   1  \n",
       "3                   0  \n",
       "4                   0  "
      ]
     },
     "execution_count": 32,
     "metadata": {},
     "output_type": "execute_result"
    }
   ],
   "source": [
    "insurance_categorical.head()"
   ]
  },
  {
   "cell_type": "code",
   "execution_count": 33,
   "metadata": {},
   "outputs": [
    {
     "data": {
      "text/plain": [
       "(381109, 15)"
      ]
     },
     "execution_count": 33,
     "metadata": {},
     "output_type": "execute_result"
    }
   ],
   "source": [
    "insurance_categorical.shape"
   ]
  },
  {
   "cell_type": "markdown",
   "metadata": {},
   "source": [
    "### Feature Selection\n",
    "\n",
    "We are going to see the correlations and try to exclude some of the unimportant features in this dataset "
   ]
  },
  {
   "cell_type": "code",
   "execution_count": 34,
   "metadata": {},
   "outputs": [
    {
     "data": {
      "image/png": "[encoded data removed]",
      "text/plain": [
       "<Figure size 1080x720 with 2 Axes>"
      ]
     },
     "metadata": {
      "needs_background": "light"
     },
     "output_type": "display_data"
    }
   ],
   "source": [
    "plt.figure(figsize=(15,10))\n",
    "sns.heatmap(insurance_categorical.corr(), annot = True, fmt = '.1g')\n",
    "\n",
    "plt.show()"
   ]
  },
  {
   "cell_type": "markdown",
   "metadata": {},
   "source": [
    "So here we can clearly see the correlations in the datast.\n",
    "\n",
    "Vintage, Annual Premium are in not strong correlation with any of the other features so we can exclude them in this feature selection.\n",
    "\n",
    "Region code don't have strong relations as well but for now i think it is part of the bigger picture and i'm going to use it.\n",
    "\n",
    "I don't see features (except dummies features) over 0.9 as well to exclude them because of high variance."
   ]
  },
  {
   "cell_type": "code",
   "execution_count": null,
   "metadata": {},
   "outputs": [],
   "source": []
  },
  {
   "cell_type": "code",
   "execution_count": 35,
   "metadata": {},
   "outputs": [],
   "source": [
    "insurance_categorical = insurance_categorical[['Age', 'Driving_License', 'Region_Code', 'Previously_Insured',\n",
    "                   'Policy_Sales_Channel', 'Gender_Female', \"Gender_Male\",\n",
    "                   'Vehicle_Age_1-2', 'Vehicle_Age_<1', 'Vehicle_Age_>2', 'Vehicle_Damage_No',\n",
    "                          'Vehicle_Damage_Yes', 'Response']]\n"
   ]
  },
  {
   "cell_type": "code",
   "execution_count": 36,
   "metadata": {},
   "outputs": [
    {
     "data": {
      "text/html": [
       "<div>\n",
       "<style scoped>\n",
       "    .dataframe tbody tr th:only-of-type {\n",
       "        vertical-align: middle;\n",
       "    }\n",
       "\n",
       "    .dataframe tbody tr th {\n",
       "        vertical-align: top;\n",
       "    }\n",
       "\n",
       "    .dataframe thead th {\n",
       "        text-align: right;\n",
       "    }\n",
       "</style>\n",
       "<table border=\"1\" class=\"dataframe\">\n",
       "  <thead>\n",
       "    <tr style=\"text-align: right;\">\n",
       "      <th></th>\n",
       "      <th>Age</th>\n",
       "      <th>Driving_License</th>\n",
       "      <th>Region_Code</th>\n",
       "      <th>Previously_Insured</th>\n",
       "      <th>Policy_Sales_Channel</th>\n",
       "      <th>Gender_Female</th>\n",
       "      <th>Gender_Male</th>\n",
       "      <th>Vehicle_Age_1-2</th>\n",
       "      <th>Vehicle_Age_&lt;1</th>\n",
       "      <th>Vehicle_Age_&gt;2</th>\n",
       "      <th>Vehicle_Damage_No</th>\n",
       "      <th>Vehicle_Damage_Yes</th>\n",
       "      <th>Response</th>\n",
       "    </tr>\n",
       "  </thead>\n",
       "  <tbody>\n",
       "    <tr>\n",
       "      <th>0</th>\n",
       "      <td>44</td>\n",
       "      <td>1</td>\n",
       "      <td>28.0</td>\n",
       "      <td>0</td>\n",
       "      <td>26.0</td>\n",
       "      <td>0</td>\n",
       "      <td>1</td>\n",
       "      <td>0</td>\n",
       "      <td>0</td>\n",
       "      <td>1</td>\n",
       "      <td>0</td>\n",
       "      <td>1</td>\n",
       "      <td>1</td>\n",
       "    </tr>\n",
       "    <tr>\n",
       "      <th>1</th>\n",
       "      <td>76</td>\n",
       "      <td>1</td>\n",
       "      <td>3.0</td>\n",
       "      <td>0</td>\n",
       "      <td>26.0</td>\n",
       "      <td>0</td>\n",
       "      <td>1</td>\n",
       "      <td>1</td>\n",
       "      <td>0</td>\n",
       "      <td>0</td>\n",
       "      <td>1</td>\n",
       "      <td>0</td>\n",
       "      <td>0</td>\n",
       "    </tr>\n",
       "    <tr>\n",
       "      <th>2</th>\n",
       "      <td>47</td>\n",
       "      <td>1</td>\n",
       "      <td>28.0</td>\n",
       "      <td>0</td>\n",
       "      <td>26.0</td>\n",
       "      <td>0</td>\n",
       "      <td>1</td>\n",
       "      <td>0</td>\n",
       "      <td>0</td>\n",
       "      <td>1</td>\n",
       "      <td>0</td>\n",
       "      <td>1</td>\n",
       "      <td>1</td>\n",
       "    </tr>\n",
       "    <tr>\n",
       "      <th>3</th>\n",
       "      <td>21</td>\n",
       "      <td>1</td>\n",
       "      <td>11.0</td>\n",
       "      <td>1</td>\n",
       "      <td>152.0</td>\n",
       "      <td>0</td>\n",
       "      <td>1</td>\n",
       "      <td>0</td>\n",
       "      <td>1</td>\n",
       "      <td>0</td>\n",
       "      <td>1</td>\n",
       "      <td>0</td>\n",
       "      <td>0</td>\n",
       "    </tr>\n",
       "    <tr>\n",
       "      <th>4</th>\n",
       "      <td>29</td>\n",
       "      <td>1</td>\n",
       "      <td>41.0</td>\n",
       "      <td>1</td>\n",
       "      <td>152.0</td>\n",
       "      <td>1</td>\n",
       "      <td>0</td>\n",
       "      <td>0</td>\n",
       "      <td>1</td>\n",
       "      <td>0</td>\n",
       "      <td>1</td>\n",
       "      <td>0</td>\n",
       "      <td>0</td>\n",
       "    </tr>\n",
       "  </tbody>\n",
       "</table>\n",
       "</div>"
      ],
      "text/plain": [
       "   Age  Driving_License  Region_Code  Previously_Insured  \\\n",
       "0   44                1         28.0                   0   \n",
       "1   76                1          3.0                   0   \n",
       "2   47                1         28.0                   0   \n",
       "3   21                1         11.0                   1   \n",
       "4   29                1         41.0                   1   \n",
       "\n",
       "   Policy_Sales_Channel  Gender_Female  Gender_Male  Vehicle_Age_1-2  \\\n",
       "0                  26.0              0            1                0   \n",
       "1                  26.0              0            1                1   \n",
       "2                  26.0              0            1                0   \n",
       "3                 152.0              0            1                0   \n",
       "4                 152.0              1            0                0   \n",
       "\n",
       "   Vehicle_Age_<1  Vehicle_Age_>2  Vehicle_Damage_No  Vehicle_Damage_Yes  \\\n",
       "0               0               1                  0                   1   \n",
       "1               0               0                  1                   0   \n",
       "2               0               1                  0                   1   \n",
       "3               1               0                  1                   0   \n",
       "4               1               0                  1                   0   \n",
       "\n",
       "   Response  \n",
       "0         1  \n",
       "1         0  \n",
       "2         1  \n",
       "3         0  \n",
       "4         0  "
      ]
     },
     "execution_count": 36,
     "metadata": {},
     "output_type": "execute_result"
    }
   ],
   "source": [
    "insurance_categorical.head()"
   ]
  },
  {
   "cell_type": "code",
   "execution_count": 37,
   "metadata": {},
   "outputs": [
    {
     "data": {
      "text/plain": [
       "(381109, 13)"
      ]
     },
     "execution_count": 37,
     "metadata": {},
     "output_type": "execute_result"
    }
   ],
   "source": [
    "insurance_categorical.shape"
   ]
  },
  {
   "cell_type": "markdown",
   "metadata": {},
   "source": [
    "### Normalization\n",
    "\n",
    "I am going to scale the data using standart MinMax scaler"
   ]
  },
  {
   "cell_type": "code",
   "execution_count": 38,
   "metadata": {},
   "outputs": [],
   "source": [
    "scaler = MinMaxScaler()"
   ]
  },
  {
   "cell_type": "code",
   "execution_count": 39,
   "metadata": {},
   "outputs": [],
   "source": [
    "insurance_categorical_scaled = pd.DataFrame(scaler.fit_transform(insurance_categorical), index=insurance_categorical.index,\n",
    "                                            columns=insurance_categorical.columns)"
   ]
  },
  {
   "cell_type": "code",
   "execution_count": 40,
   "metadata": {},
   "outputs": [
    {
     "data": {
      "text/html": [
       "<div>\n",
       "<style scoped>\n",
       "    .dataframe tbody tr th:only-of-type {\n",
       "        vertical-align: middle;\n",
       "    }\n",
       "\n",
       "    .dataframe tbody tr th {\n",
       "        vertical-align: top;\n",
       "    }\n",
       "\n",
       "    .dataframe thead th {\n",
       "        text-align: right;\n",
       "    }\n",
       "</style>\n",
       "<table border=\"1\" class=\"dataframe\">\n",
       "  <thead>\n",
       "    <tr style=\"text-align: right;\">\n",
       "      <th></th>\n",
       "      <th>count</th>\n",
       "      <th>mean</th>\n",
       "      <th>std</th>\n",
       "      <th>min</th>\n",
       "      <th>25%</th>\n",
       "      <th>50%</th>\n",
       "      <th>75%</th>\n",
       "      <th>max</th>\n",
       "    </tr>\n",
       "  </thead>\n",
       "  <tbody>\n",
       "    <tr>\n",
       "      <th>Age</th>\n",
       "      <td>381109.0</td>\n",
       "      <td>0.289578</td>\n",
       "      <td>0.238640</td>\n",
       "      <td>0.0</td>\n",
       "      <td>0.076923</td>\n",
       "      <td>0.246154</td>\n",
       "      <td>0.446154</td>\n",
       "      <td>1.0</td>\n",
       "    </tr>\n",
       "    <tr>\n",
       "      <th>Driving_License</th>\n",
       "      <td>381109.0</td>\n",
       "      <td>0.997869</td>\n",
       "      <td>0.046110</td>\n",
       "      <td>0.0</td>\n",
       "      <td>1.000000</td>\n",
       "      <td>1.000000</td>\n",
       "      <td>1.000000</td>\n",
       "      <td>1.0</td>\n",
       "    </tr>\n",
       "    <tr>\n",
       "      <th>Region_Code</th>\n",
       "      <td>381109.0</td>\n",
       "      <td>0.507477</td>\n",
       "      <td>0.254421</td>\n",
       "      <td>0.0</td>\n",
       "      <td>0.288462</td>\n",
       "      <td>0.538462</td>\n",
       "      <td>0.673077</td>\n",
       "      <td>1.0</td>\n",
       "    </tr>\n",
       "    <tr>\n",
       "      <th>Previously_Insured</th>\n",
       "      <td>381109.0</td>\n",
       "      <td>0.458210</td>\n",
       "      <td>0.498251</td>\n",
       "      <td>0.0</td>\n",
       "      <td>0.000000</td>\n",
       "      <td>0.000000</td>\n",
       "      <td>1.000000</td>\n",
       "      <td>1.0</td>\n",
       "    </tr>\n",
       "    <tr>\n",
       "      <th>Policy_Sales_Channel</th>\n",
       "      <td>381109.0</td>\n",
       "      <td>0.685397</td>\n",
       "      <td>0.334593</td>\n",
       "      <td>0.0</td>\n",
       "      <td>0.172840</td>\n",
       "      <td>0.814815</td>\n",
       "      <td>0.932099</td>\n",
       "      <td>1.0</td>\n",
       "    </tr>\n",
       "    <tr>\n",
       "      <th>Gender_Female</th>\n",
       "      <td>381109.0</td>\n",
       "      <td>0.459239</td>\n",
       "      <td>0.498336</td>\n",
       "      <td>0.0</td>\n",
       "      <td>0.000000</td>\n",
       "      <td>0.000000</td>\n",
       "      <td>1.000000</td>\n",
       "      <td>1.0</td>\n",
       "    </tr>\n",
       "    <tr>\n",
       "      <th>Gender_Male</th>\n",
       "      <td>381109.0</td>\n",
       "      <td>0.540761</td>\n",
       "      <td>0.498336</td>\n",
       "      <td>0.0</td>\n",
       "      <td>0.000000</td>\n",
       "      <td>1.000000</td>\n",
       "      <td>1.000000</td>\n",
       "      <td>1.0</td>\n",
       "    </tr>\n",
       "    <tr>\n",
       "      <th>Vehicle_Age_1-2</th>\n",
       "      <td>381109.0</td>\n",
       "      <td>0.525613</td>\n",
       "      <td>0.499344</td>\n",
       "      <td>0.0</td>\n",
       "      <td>0.000000</td>\n",
       "      <td>1.000000</td>\n",
       "      <td>1.000000</td>\n",
       "      <td>1.0</td>\n",
       "    </tr>\n",
       "    <tr>\n",
       "      <th>Vehicle_Age_&lt;1</th>\n",
       "      <td>381109.0</td>\n",
       "      <td>0.432385</td>\n",
       "      <td>0.495408</td>\n",
       "      <td>0.0</td>\n",
       "      <td>0.000000</td>\n",
       "      <td>0.000000</td>\n",
       "      <td>1.000000</td>\n",
       "      <td>1.0</td>\n",
       "    </tr>\n",
       "    <tr>\n",
       "      <th>Vehicle_Age_&gt;2</th>\n",
       "      <td>381109.0</td>\n",
       "      <td>0.042001</td>\n",
       "      <td>0.200592</td>\n",
       "      <td>0.0</td>\n",
       "      <td>0.000000</td>\n",
       "      <td>0.000000</td>\n",
       "      <td>0.000000</td>\n",
       "      <td>1.0</td>\n",
       "    </tr>\n",
       "    <tr>\n",
       "      <th>Vehicle_Damage_No</th>\n",
       "      <td>381109.0</td>\n",
       "      <td>0.495123</td>\n",
       "      <td>0.499977</td>\n",
       "      <td>0.0</td>\n",
       "      <td>0.000000</td>\n",
       "      <td>0.000000</td>\n",
       "      <td>1.000000</td>\n",
       "      <td>1.0</td>\n",
       "    </tr>\n",
       "    <tr>\n",
       "      <th>Vehicle_Damage_Yes</th>\n",
       "      <td>381109.0</td>\n",
       "      <td>0.504877</td>\n",
       "      <td>0.499977</td>\n",
       "      <td>0.0</td>\n",
       "      <td>0.000000</td>\n",
       "      <td>1.000000</td>\n",
       "      <td>1.000000</td>\n",
       "      <td>1.0</td>\n",
       "    </tr>\n",
       "    <tr>\n",
       "      <th>Response</th>\n",
       "      <td>381109.0</td>\n",
       "      <td>0.122563</td>\n",
       "      <td>0.327936</td>\n",
       "      <td>0.0</td>\n",
       "      <td>0.000000</td>\n",
       "      <td>0.000000</td>\n",
       "      <td>0.000000</td>\n",
       "      <td>1.0</td>\n",
       "    </tr>\n",
       "  </tbody>\n",
       "</table>\n",
       "</div>"
      ],
      "text/plain": [
       "                         count      mean       std  min       25%       50%  \\\n",
       "Age                   381109.0  0.289578  0.238640  0.0  0.076923  0.246154   \n",
       "Driving_License       381109.0  0.997869  0.046110  0.0  1.000000  1.000000   \n",
       "Region_Code           381109.0  0.507477  0.254421  0.0  0.288462  0.538462   \n",
       "Previously_Insured    381109.0  0.458210  0.498251  0.0  0.000000  0.000000   \n",
       "Policy_Sales_Channel  381109.0  0.685397  0.334593  0.0  0.172840  0.814815   \n",
       "Gender_Female         381109.0  0.459239  0.498336  0.0  0.000000  0.000000   \n",
       "Gender_Male           381109.0  0.540761  0.498336  0.0  0.000000  1.000000   \n",
       "Vehicle_Age_1-2       381109.0  0.525613  0.499344  0.0  0.000000  1.000000   \n",
       "Vehicle_Age_<1        381109.0  0.432385  0.495408  0.0  0.000000  0.000000   \n",
       "Vehicle_Age_>2        381109.0  0.042001  0.200592  0.0  0.000000  0.000000   \n",
       "Vehicle_Damage_No     381109.0  0.495123  0.499977  0.0  0.000000  0.000000   \n",
       "Vehicle_Damage_Yes    381109.0  0.504877  0.499977  0.0  0.000000  1.000000   \n",
       "Response              381109.0  0.122563  0.327936  0.0  0.000000  0.000000   \n",
       "\n",
       "                           75%  max  \n",
       "Age                   0.446154  1.0  \n",
       "Driving_License       1.000000  1.0  \n",
       "Region_Code           0.673077  1.0  \n",
       "Previously_Insured    1.000000  1.0  \n",
       "Policy_Sales_Channel  0.932099  1.0  \n",
       "Gender_Female         1.000000  1.0  \n",
       "Gender_Male           1.000000  1.0  \n",
       "Vehicle_Age_1-2       1.000000  1.0  \n",
       "Vehicle_Age_<1        1.000000  1.0  \n",
       "Vehicle_Age_>2        0.000000  1.0  \n",
       "Vehicle_Damage_No     1.000000  1.0  \n",
       "Vehicle_Damage_Yes    1.000000  1.0  \n",
       "Response              0.000000  1.0  "
      ]
     },
     "execution_count": 40,
     "metadata": {},
     "output_type": "execute_result"
    }
   ],
   "source": [
    "insurance_categorical_scaled.describe().T"
   ]
  },
  {
   "cell_type": "code",
   "execution_count": 41,
   "metadata": {},
   "outputs": [
    {
     "data": {
      "text/plain": [
       "array([0.41765109, 0.64786341, 0.82789257, 0.87086048, 0.90906795,\n",
       "       0.93942138, 0.96653054, 0.99090964, 0.99900758, 1.        ,\n",
       "       1.        , 1.        , 1.        ])"
      ]
     },
     "execution_count": 41,
     "metadata": {},
     "output_type": "execute_result"
    }
   ],
   "source": [
    "pca = PCA()\n",
    "pca_data = pca.fit_transform(insurance_categorical_scaled)\n",
    "np.cumsum(pca.explained_variance_ratio_)"
   ]
  },
  {
   "cell_type": "markdown",
   "metadata": {},
   "source": [
    "We can see a how 'heavy' each column is fot the future machine learning. I will try without droping some of the columns first and then I will drop some of them.\n",
    "I want to see how we can interact and what results are we going to have for each hypothesis."
   ]
  },
  {
   "cell_type": "markdown",
   "metadata": {},
   "source": [
    "### Split data\n",
    "\n",
    "Since we have 381109 observations i'm going to split with training/testing sets like 70/30 and will use a Cross-validation with 8 splits of the training set.\n",
    "\n",
    "I'm going to stratify 'Response' because as we saw, people who respond with 'No' are more than 'Yes' and we want to split them equaly."
   ]
  },
  {
   "cell_type": "code",
   "execution_count": 42,
   "metadata": {},
   "outputs": [],
   "source": [
    "insurance_categorical_scaled_attribues = insurance_categorical_scaled.drop('Response', axis = 1)\n",
    "insurance_categorical_scaled_target = insurance_categorical_scaled['Response']"
   ]
  },
  {
   "cell_type": "code",
   "execution_count": 43,
   "metadata": {},
   "outputs": [
    {
     "name": "stdout",
     "output_type": "stream",
     "text": [
      "(381109, 12)\n",
      "(381109,)\n"
     ]
    }
   ],
   "source": [
    "print(insurance_categorical_scaled_attribues.shape)\n",
    "print(insurance_categorical_scaled_target.shape)"
   ]
  },
  {
   "cell_type": "code",
   "execution_count": 44,
   "metadata": {},
   "outputs": [],
   "source": [
    "insurance_attrributes_train, insurance_attrributes_test,insurance_target_train, insurance_target_test = train_test_split(insurance_categorical_scaled_attribues,\n",
    "                                                                                                                         insurance_categorical_scaled_target,\n",
    "                                                                                                                         train_size = 0.7, stratify = insurance_categorical_scaled_target,\n",
    "                                                                                                                        random_state = 42)"
   ]
  },
  {
   "cell_type": "code",
   "execution_count": 45,
   "metadata": {},
   "outputs": [
    {
     "name": "stdout",
     "output_type": "stream",
     "text": [
      "(266776, 12)\n",
      "(114333, 12)\n",
      "(266776,)\n",
      "(114333,)\n"
     ]
    }
   ],
   "source": [
    "print(insurance_attrributes_train.shape)\n",
    "print(insurance_attrributes_test.shape)\n",
    "print(insurance_target_train.shape)\n",
    "print(insurance_target_test.shape)"
   ]
  },
  {
   "cell_type": "code",
   "execution_count": 46,
   "metadata": {},
   "outputs": [],
   "source": [
    "k_fold = StratifiedKFold(n_splits = 5)"
   ]
  },
  {
   "cell_type": "markdown",
   "metadata": {},
   "source": [
    "## Machine Larning algorithms"
   ]
  },
  {
   "cell_type": "markdown",
   "metadata": {},
   "source": [
    "The problem can be classified as Binary Classification\n",
    "\n",
    "Im going to try to see the best algorithm using gridSearch (for hyerparameter tuning), base linear classification algorithms and Ensemble methods as well.\n"
   ]
  },
  {
   "cell_type": "markdown",
   "metadata": {},
   "source": [
    "The functions that i will use are:\n",
    "\n",
    "    1) GetModelScores - here i fit and train the model and give scores of both training and testing sets\n",
    "    \n",
    "    2) GetOnlyScores - here i will get only scores of the given model "
   ]
  },
  {
   "cell_type": "code",
   "execution_count": 47,
   "metadata": {},
   "outputs": [],
   "source": [
    "def GetModelScores (estimator, X_train, X_test, y_train, y_test):\n",
    "    scores_train = pd.DataFrame(columns= ['Accuracy','F1 Score','Precision','Recall','ROC_AUC'])\n",
    "    scores_test = pd.DataFrame(columns= ['Accuracy','F1 Score','Precision','Recall','ROC_AUC'])\n",
    "    \n",
    "    model = estimator\n",
    "    model.fit(X_train, y_train)\n",
    "    \n",
    "    prediction_train = model.predict(X_train)\n",
    "    prediction_test = model.predict(X_test)\n",
    "    \n",
    "    try:\n",
    "        score_train = model.predict_proba(X_train)[:,1]\n",
    "        roc_train= roc_auc_score(y_train, score_train, average = \"weighted\")\n",
    "    except:\n",
    "        roc_train = 0\n",
    "        \n",
    "    try:\n",
    "        score_test = model.predict_proba(X_test)[:,1]\n",
    "        roc_test= roc_auc_score(y_test, score_test, average = \"weighted\")\n",
    "    except:\n",
    "        roc_test = 0\n",
    "    \n",
    "    \n",
    "    \n",
    "    scores_train['Accuracy'] = accuracy_score(y_train, prediction_train)*100,\n",
    "    scores_train['F1 Score'] = f1_score(y_train, prediction_train, average = \"weighted\")*100,\n",
    "    scores_train['Precision'] = precision_score(y_train, prediction_train, average = \"weighted\")*100,\n",
    "    scores_train['Recall'] = recall_score(y_train, prediction_train, average = \"weighted\")*100,\n",
    "    scores_train['ROC_AUC'] = roc_train*100\n",
    "    \n",
    "       \n",
    "    scores_test['Accuracy'] = accuracy_score(y_test, prediction_test)*100,\n",
    "    scores_test['F1 Score'] = f1_score(y_test, prediction_test, average = \"weighted\")*100,\n",
    "    scores_test['Precision'] = precision_score(y_test, prediction_test, average = \"weighted\")*100,\n",
    "    scores_test['Recall'] = recall_score(y_test, prediction_test, average = \"weighted\")*100,\n",
    "    scores_test['ROC_AUC'] = roc_test*100\n",
    "    \n",
    "    print(scores_train)\n",
    "    print(scores_test)"
   ]
  },
  {
   "cell_type": "code",
   "execution_count": 48,
   "metadata": {},
   "outputs": [],
   "source": [
    "def GetOnlyScores (estimator, y_test, X_test, y_train, X_train):\n",
    "    scores_train = pd.DataFrame(columns= ['Accuracy','F1 Score','Precision','Recall','ROC_AUC'])\n",
    "    scores_test = pd.DataFrame(columns= ['Accuracy','F1 Score','Precision','Recall','ROC_AUC'])\n",
    "    \n",
    "    prediction_train = estimator.predict(X_train)\n",
    "    prediction_test = estimator.predict(X_test)\n",
    "    \n",
    "    try:\n",
    "        score_train = estimator.predict_proba(X_train)[:,1]\n",
    "        roc_train= roc_auc_score(y_train, score_train, average = \"weighted\")\n",
    "    except:\n",
    "        roc_train = 0\n",
    "        \n",
    "    try:\n",
    "        score_test = estimator.predict_proba(X_test)[:,1]\n",
    "        roc_test= roc_auc_score(y_test, score_test, average = \"weighted\")\n",
    "    except:\n",
    "        roc_test = 0\n",
    "    \n",
    "   \n",
    "    scores_train['Accuracy'] = accuracy_score(y_train, prediction_train)*100,\n",
    "    scores_train['F1 Score'] = f1_score(y_train, prediction_train, average = \"weighted\")*100,\n",
    "    scores_train['Precision'] = precision_score(y_train, prediction_train, average = \"weighted\")*100,\n",
    "    scores_train['Recall'] = recall_score(y_train, prediction_train, average = \"weighted\")*100,\n",
    "    scores_train['ROC_AUC'] = roc_train*100\n",
    "       \n",
    "    scores_test['Accuracy'] = accuracy_score(y_test, prediction_test)*100,\n",
    "    scores_test['F1 Score'] = f1_score(y_test, prediction_test, average = \"weighted\")*100,\n",
    "    scores_test['Precision'] = precision_score(y_test, prediction_test, average = \"weighted\")*100,\n",
    "    scores_test['Recall'] = recall_score(y_test, prediction_test, average = \"weighted\")*100,\n",
    "    scores_test['ROC_AUC'] = roc_test*100\n",
    "\n",
    "    \n",
    "    print(scores_train)\n",
    "    print(scores_test)"
   ]
  },
  {
   "cell_type": "markdown",
   "metadata": {},
   "source": [
    "### H0: Using all the attributes "
   ]
  },
  {
   "cell_type": "markdown",
   "metadata": {},
   "source": [
    "I'm going to see only basic algorithms withount hyperparameters and see the scores of them.\n",
    "\n",
    "#### 1) Logistic Regression"
   ]
  },
  {
   "cell_type": "code",
   "execution_count": 49,
   "metadata": {},
   "outputs": [
    {
     "name": "stderr",
     "output_type": "stream",
     "text": [
      "E:\\programi\\Anaconda Python\\lib\\site-packages\\sklearn\\metrics\\_classification.py:1221: UndefinedMetricWarning: Precision is ill-defined and being set to 0.0 in labels with no predicted samples. Use `zero_division` parameter to control this behavior.\n",
      "  _warn_prf(average, modifier, msg_start, len(result))\n"
     ]
    },
    {
     "name": "stdout",
     "output_type": "stream",
     "text": [
      "   Accuracy   F1 Score  Precision    Recall    ROC_AUC\n",
      "0  87.74365  82.015537  76.989481  87.74365  81.589065\n",
      "    Accuracy   F1 Score  Precision     Recall    ROC_AUC\n",
      "0  87.743696  82.015603  76.989562  87.743696  81.623501\n"
     ]
    }
   ],
   "source": [
    "GetModelScores(LogisticRegressionCV(), insurance_attrributes_train, insurance_attrributes_test, insurance_target_train, insurance_target_test)"
   ]
  },
  {
   "cell_type": "markdown",
   "metadata": {},
   "source": [
    "#### 2)Decision Tree "
   ]
  },
  {
   "cell_type": "code",
   "execution_count": 50,
   "metadata": {},
   "outputs": [
    {
     "name": "stdout",
     "output_type": "stream",
     "text": [
      "    Accuracy   F1 Score  Precision     Recall    ROC_AUC\n",
      "0  90.340211  88.153597   89.59233  90.340211  92.984219\n",
      "    Accuracy   F1 Score  Precision     Recall    ROC_AUC\n",
      "0  86.111621  83.285384  81.844917  86.111621  75.872191\n"
     ]
    }
   ],
   "source": [
    "GetModelScores(DecisionTreeClassifier(),insurance_attrributes_train, insurance_attrributes_test, insurance_target_train, insurance_target_test)"
   ]
  },
  {
   "cell_type": "markdown",
   "metadata": {},
   "source": [
    "3) Random Forest"
   ]
  },
  {
   "cell_type": "code",
   "execution_count": 51,
   "metadata": {},
   "outputs": [
    {
     "name": "stdout",
     "output_type": "stream",
     "text": [
      "    Accuracy  F1 Score  Precision     Recall    ROC_AUC\n",
      "0  90.339461  88.50126  89.240187  90.339461  92.734743\n",
      "    Accuracy   F1 Score  Precision     Recall    ROC_AUC\n",
      "0  86.336403  83.542926  82.225673  86.336403  82.001257\n"
     ]
    }
   ],
   "source": [
    "GetModelScores(RandomForestClassifier(), insurance_attrributes_train, insurance_attrributes_test, insurance_target_train, insurance_target_test)"
   ]
  },
  {
   "cell_type": "markdown",
   "metadata": {},
   "source": [
    "4) K-Neighbors"
   ]
  },
  {
   "cell_type": "code",
   "execution_count": 52,
   "metadata": {},
   "outputs": [],
   "source": [
    "#GetModelScores(KNeighborsClassifier(), insurance_attrributes_train, insurance_attrributes_test, insurance_target_train, insurance_target_test)"
   ]
  },
  {
   "cell_type": "markdown",
   "metadata": {},
   "source": [
    "#### I made a SVC but it is really slow because of the big data: Accuracy: 0.877, F1 Score: 0.820, Precision: 0.771, Recall: 0.877"
   ]
  },
  {
   "cell_type": "markdown",
   "metadata": {},
   "source": [
    "Based of the ROC Score i will perform Hyperparameter Tuning on Logistic Regression and Random Forest with Grid Search"
   ]
  },
  {
   "cell_type": "markdown",
   "metadata": {},
   "source": [
    "#### 1) Logistic Regression"
   ]
  },
  {
   "cell_type": "code",
   "execution_count": 53,
   "metadata": {},
   "outputs": [],
   "source": [
    "parameters = {\n",
    "    'Cs': [0.001, 0.01, 1, 10, 100],\n",
    "    \"max_iter\": [30, 50, 70]\n",
    "}"
   ]
  },
  {
   "cell_type": "code",
   "execution_count": 54,
   "metadata": {},
   "outputs": [],
   "source": [
    "grid_logistic = GridSearchCV(LogisticRegressionCV(), param_grid = parameters, scoring = 'roc_auc', cv = k_fold, n_jobs =-1)"
   ]
  },
  {
   "cell_type": "code",
   "execution_count": 55,
   "metadata": {
    "scrolled": true
   },
   "outputs": [
    {
     "name": "stderr",
     "output_type": "stream",
     "text": [
      "E:\\programi\\Anaconda Python\\lib\\site-packages\\sklearn\\linear_model\\_logistic.py:764: ConvergenceWarning: lbfgs failed to converge (status=1):\n",
      "STOP: TOTAL NO. of ITERATIONS REACHED LIMIT.\n",
      "\n",
      "Increase the number of iterations (max_iter) or scale the data as shown in:\n",
      "    https://scikit-learn.org/stable/modules/preprocessing.html\n",
      "Please also refer to the documentation for alternative solver options:\n",
      "    https://scikit-learn.org/stable/modules/linear_model.html#logistic-regression\n",
      "  extra_warning_msg=_LOGISTIC_SOLVER_CONVERGENCE_MSG)\n",
      "E:\\programi\\Anaconda Python\\lib\\site-packages\\sklearn\\linear_model\\_logistic.py:764: ConvergenceWarning: lbfgs failed to converge (status=1):\n",
      "STOP: TOTAL NO. of ITERATIONS REACHED LIMIT.\n",
      "\n",
      "Increase the number of iterations (max_iter) or scale the data as shown in:\n",
      "    https://scikit-learn.org/stable/modules/preprocessing.html\n",
      "Please also refer to the documentation for alternative solver options:\n",
      "    https://scikit-learn.org/stable/modules/linear_model.html#logistic-regression\n",
      "  extra_warning_msg=_LOGISTIC_SOLVER_CONVERGENCE_MSG)\n",
      "E:\\programi\\Anaconda Python\\lib\\site-packages\\sklearn\\linear_model\\_logistic.py:764: ConvergenceWarning: lbfgs failed to converge (status=1):\n",
      "STOP: TOTAL NO. of ITERATIONS REACHED LIMIT.\n",
      "\n",
      "Increase the number of iterations (max_iter) or scale the data as shown in:\n",
      "    https://scikit-learn.org/stable/modules/preprocessing.html\n",
      "Please also refer to the documentation for alternative solver options:\n",
      "    https://scikit-learn.org/stable/modules/linear_model.html#logistic-regression\n",
      "  extra_warning_msg=_LOGISTIC_SOLVER_CONVERGENCE_MSG)\n",
      "E:\\programi\\Anaconda Python\\lib\\site-packages\\sklearn\\linear_model\\_logistic.py:764: ConvergenceWarning: lbfgs failed to converge (status=1):\n",
      "STOP: TOTAL NO. of ITERATIONS REACHED LIMIT.\n",
      "\n",
      "Increase the number of iterations (max_iter) or scale the data as shown in:\n",
      "    https://scikit-learn.org/stable/modules/preprocessing.html\n",
      "Please also refer to the documentation for alternative solver options:\n",
      "    https://scikit-learn.org/stable/modules/linear_model.html#logistic-regression\n",
      "  extra_warning_msg=_LOGISTIC_SOLVER_CONVERGENCE_MSG)\n",
      "E:\\programi\\Anaconda Python\\lib\\site-packages\\sklearn\\linear_model\\_logistic.py:764: ConvergenceWarning: lbfgs failed to converge (status=1):\n",
      "STOP: TOTAL NO. of ITERATIONS REACHED LIMIT.\n",
      "\n",
      "Increase the number of iterations (max_iter) or scale the data as shown in:\n",
      "    https://scikit-learn.org/stable/modules/preprocessing.html\n",
      "Please also refer to the documentation for alternative solver options:\n",
      "    https://scikit-learn.org/stable/modules/linear_model.html#logistic-regression\n",
      "  extra_warning_msg=_LOGISTIC_SOLVER_CONVERGENCE_MSG)\n",
      "E:\\programi\\Anaconda Python\\lib\\site-packages\\sklearn\\linear_model\\_logistic.py:764: ConvergenceWarning: lbfgs failed to converge (status=1):\n",
      "STOP: TOTAL NO. of ITERATIONS REACHED LIMIT.\n",
      "\n",
      "Increase the number of iterations (max_iter) or scale the data as shown in:\n",
      "    https://scikit-learn.org/stable/modules/preprocessing.html\n",
      "Please also refer to the documentation for alternative solver options:\n",
      "    https://scikit-learn.org/stable/modules/linear_model.html#logistic-regression\n",
      "  extra_warning_msg=_LOGISTIC_SOLVER_CONVERGENCE_MSG)\n",
      "E:\\programi\\Anaconda Python\\lib\\site-packages\\sklearn\\linear_model\\_logistic.py:764: ConvergenceWarning: lbfgs failed to converge (status=1):\n",
      "STOP: TOTAL NO. of ITERATIONS REACHED LIMIT.\n",
      "\n",
      "Increase the number of iterations (max_iter) or scale the data as shown in:\n",
      "    https://scikit-learn.org/stable/modules/preprocessing.html\n",
      "Please also refer to the documentation for alternative solver options:\n",
      "    https://scikit-learn.org/stable/modules/linear_model.html#logistic-regression\n",
      "  extra_warning_msg=_LOGISTIC_SOLVER_CONVERGENCE_MSG)\n",
      "E:\\programi\\Anaconda Python\\lib\\site-packages\\sklearn\\linear_model\\_logistic.py:764: ConvergenceWarning: lbfgs failed to converge (status=1):\n",
      "STOP: TOTAL NO. of ITERATIONS REACHED LIMIT.\n",
      "\n",
      "Increase the number of iterations (max_iter) or scale the data as shown in:\n",
      "    https://scikit-learn.org/stable/modules/preprocessing.html\n",
      "Please also refer to the documentation for alternative solver options:\n",
      "    https://scikit-learn.org/stable/modules/linear_model.html#logistic-regression\n",
      "  extra_warning_msg=_LOGISTIC_SOLVER_CONVERGENCE_MSG)\n",
      "E:\\programi\\Anaconda Python\\lib\\site-packages\\sklearn\\linear_model\\_logistic.py:764: ConvergenceWarning: lbfgs failed to converge (status=1):\n",
      "STOP: TOTAL NO. of ITERATIONS REACHED LIMIT.\n",
      "\n",
      "Increase the number of iterations (max_iter) or scale the data as shown in:\n",
      "    https://scikit-learn.org/stable/modules/preprocessing.html\n",
      "Please also refer to the documentation for alternative solver options:\n",
      "    https://scikit-learn.org/stable/modules/linear_model.html#logistic-regression\n",
      "  extra_warning_msg=_LOGISTIC_SOLVER_CONVERGENCE_MSG)\n",
      "E:\\programi\\Anaconda Python\\lib\\site-packages\\sklearn\\linear_model\\_logistic.py:764: ConvergenceWarning: lbfgs failed to converge (status=1):\n",
      "STOP: TOTAL NO. of ITERATIONS REACHED LIMIT.\n",
      "\n",
      "Increase the number of iterations (max_iter) or scale the data as shown in:\n",
      "    https://scikit-learn.org/stable/modules/preprocessing.html\n",
      "Please also refer to the documentation for alternative solver options:\n",
      "    https://scikit-learn.org/stable/modules/linear_model.html#logistic-regression\n",
      "  extra_warning_msg=_LOGISTIC_SOLVER_CONVERGENCE_MSG)\n",
      "E:\\programi\\Anaconda Python\\lib\\site-packages\\sklearn\\linear_model\\_logistic.py:764: ConvergenceWarning: lbfgs failed to converge (status=1):\n",
      "STOP: TOTAL NO. of ITERATIONS REACHED LIMIT.\n",
      "\n",
      "Increase the number of iterations (max_iter) or scale the data as shown in:\n",
      "    https://scikit-learn.org/stable/modules/preprocessing.html\n",
      "Please also refer to the documentation for alternative solver options:\n",
      "    https://scikit-learn.org/stable/modules/linear_model.html#logistic-regression\n",
      "  extra_warning_msg=_LOGISTIC_SOLVER_CONVERGENCE_MSG)\n",
      "E:\\programi\\Anaconda Python\\lib\\site-packages\\sklearn\\linear_model\\_logistic.py:764: ConvergenceWarning: lbfgs failed to converge (status=1):\n",
      "STOP: TOTAL NO. of ITERATIONS REACHED LIMIT.\n",
      "\n",
      "Increase the number of iterations (max_iter) or scale the data as shown in:\n",
      "    https://scikit-learn.org/stable/modules/preprocessing.html\n",
      "Please also refer to the documentation for alternative solver options:\n",
      "    https://scikit-learn.org/stable/modules/linear_model.html#logistic-regression\n",
      "  extra_warning_msg=_LOGISTIC_SOLVER_CONVERGENCE_MSG)\n",
      "E:\\programi\\Anaconda Python\\lib\\site-packages\\sklearn\\linear_model\\_logistic.py:764: ConvergenceWarning: lbfgs failed to converge (status=1):\n",
      "STOP: TOTAL NO. of ITERATIONS REACHED LIMIT.\n",
      "\n",
      "Increase the number of iterations (max_iter) or scale the data as shown in:\n",
      "    https://scikit-learn.org/stable/modules/preprocessing.html\n",
      "Please also refer to the documentation for alternative solver options:\n",
      "    https://scikit-learn.org/stable/modules/linear_model.html#logistic-regression\n",
      "  extra_warning_msg=_LOGISTIC_SOLVER_CONVERGENCE_MSG)\n"
     ]
    },
    {
     "data": {
      "text/plain": [
       "GridSearchCV(cv=StratifiedKFold(n_splits=5, random_state=None, shuffle=False),\n",
       "             estimator=LogisticRegressionCV(), n_jobs=-1,\n",
       "             param_grid={'Cs': [0, 1, 5], 'max_iter': [30, 50, 70]},\n",
       "             scoring='roc_auc')"
      ]
     },
     "execution_count": 55,
     "metadata": {},
     "output_type": "execute_result"
    }
   ],
   "source": [
    "grid_logistic.fit(insurance_attrributes_train, insurance_target_train)"
   ]
  },
  {
   "cell_type": "code",
   "execution_count": 56,
   "metadata": {
    "scrolled": true
   },
   "outputs": [
    {
     "data": {
      "text/plain": [
       "LogisticRegressionCV(Cs=5, max_iter=30)"
      ]
     },
     "execution_count": 56,
     "metadata": {},
     "output_type": "execute_result"
    }
   ],
   "source": [
    "grid_logistic.best_estimator_"
   ]
  },
  {
   "cell_type": "code",
   "execution_count": 57,
   "metadata": {},
   "outputs": [
    {
     "data": {
      "text/plain": [
       "{'mean_fit_time': array([ 0.49776154,  0.46309805,  0.47682352,  5.2885602 ,  4.96693912,\n",
       "         4.61797304, 26.4103394 , 28.06392841, 24.71973085]),\n",
       " 'std_fit_time': array([0.02088864, 0.02414118, 0.01552854, 0.31092411, 0.84451059,\n",
       "        0.37866111, 1.17668541, 2.13838843, 1.34967427]),\n",
       " 'mean_score_time': array([0.        , 0.        , 0.        , 0.07450371, 0.07925324,\n",
       "        0.06145482, 0.05664582, 0.05644884, 0.02913022]),\n",
       " 'std_score_time': array([0.        , 0.        , 0.        , 0.0061943 , 0.02452215,\n",
       "        0.01217321, 0.00419529, 0.01474117, 0.00657447]),\n",
       " 'param_Cs': masked_array(data=[0, 0, 0, 1, 1, 1, 5, 5, 5],\n",
       "              mask=[False, False, False, False, False, False, False, False,\n",
       "                    False],\n",
       "        fill_value='?',\n",
       "             dtype=object),\n",
       " 'param_max_iter': masked_array(data=[30, 50, 70, 30, 50, 70, 30, 50, 70],\n",
       "              mask=[False, False, False, False, False, False, False, False,\n",
       "                    False],\n",
       "        fill_value='?',\n",
       "             dtype=object),\n",
       " 'params': [{'Cs': 0, 'max_iter': 30},\n",
       "  {'Cs': 0, 'max_iter': 50},\n",
       "  {'Cs': 0, 'max_iter': 70},\n",
       "  {'Cs': 1, 'max_iter': 30},\n",
       "  {'Cs': 1, 'max_iter': 50},\n",
       "  {'Cs': 1, 'max_iter': 70},\n",
       "  {'Cs': 5, 'max_iter': 30},\n",
       "  {'Cs': 5, 'max_iter': 50},\n",
       "  {'Cs': 5, 'max_iter': 70}],\n",
       " 'split0_test_score': array([       nan,        nan,        nan, 0.81351167, 0.81351167,\n",
       "        0.81351167, 0.81351167, 0.81351167, 0.81351167]),\n",
       " 'split1_test_score': array([       nan,        nan,        nan, 0.80872173, 0.80872173,\n",
       "        0.80872173, 0.80872173, 0.80872173, 0.80872173]),\n",
       " 'split2_test_score': array([       nan,        nan,        nan, 0.8109727 , 0.8109727 ,\n",
       "        0.8109727 , 0.83651637, 0.83651476, 0.83651476]),\n",
       " 'split3_test_score': array([       nan,        nan,        nan, 0.80981883, 0.80981883,\n",
       "        0.80981883, 0.80981883, 0.80981883, 0.80981883]),\n",
       " 'split4_test_score': array([       nan,        nan,        nan, 0.81588504, 0.81588504,\n",
       "        0.81588504, 0.81588504, 0.81588504, 0.81588504]),\n",
       " 'mean_test_score': array([       nan,        nan,        nan, 0.81178199, 0.81178199,\n",
       "        0.81178199, 0.81689073, 0.8168904 , 0.8168904 ]),\n",
       " 'std_test_score': array([       nan,        nan,        nan, 0.00259619, 0.00259619,\n",
       "        0.00259619, 0.01014238, 0.01014176, 0.01014176]),\n",
       " 'rank_test_score': array([7, 8, 9, 4, 4, 4, 1, 2, 2])}"
      ]
     },
     "execution_count": 57,
     "metadata": {},
     "output_type": "execute_result"
    }
   ],
   "source": [
    "grid_logistic.cv_results_"
   ]
  },
  {
   "cell_type": "code",
   "execution_count": 58,
   "metadata": {},
   "outputs": [
    {
     "name": "stderr",
     "output_type": "stream",
     "text": [
      "E:\\programi\\Anaconda Python\\lib\\site-packages\\sklearn\\metrics\\_classification.py:1221: UndefinedMetricWarning: Precision is ill-defined and being set to 0.0 in labels with no predicted samples. Use `zero_division` parameter to control this behavior.\n",
      "  _warn_prf(average, modifier, msg_start, len(result))\n"
     ]
    },
    {
     "name": "stdout",
     "output_type": "stream",
     "text": [
      "   Accuracy   F1 Score  Precision    Recall    ROC_AUC\n",
      "0  87.74365  82.015537  76.989481  87.74365  81.589065\n",
      "    Accuracy   F1 Score  Precision     Recall    ROC_AUC\n",
      "0  87.743696  82.015603  76.989562  87.743696  81.623501\n"
     ]
    }
   ],
   "source": [
    "GetOnlyScores(grid_logistic, insurance_target_test, insurance_attrributes_test,\n",
    "              insurance_target_train, insurance_attrributes_train)"
   ]
  },
  {
   "cell_type": "markdown",
   "metadata": {},
   "source": [
    "We can see mean_test_score is the same like ROC_AUC form testing set which is good mark its not overfitting for sure"
   ]
  },
  {
   "cell_type": "markdown",
   "metadata": {},
   "source": [
    "#### 2) Random Forest"
   ]
  },
  {
   "cell_type": "code",
   "execution_count": 59,
   "metadata": {},
   "outputs": [],
   "source": [
    "parameters = {\n",
    "    \"n_estimators\": [50, 200, 400],\n",
    "    \"max_depth\": [10, 50, 70]\n",
    "}"
   ]
  },
  {
   "cell_type": "code",
   "execution_count": 60,
   "metadata": {},
   "outputs": [
    {
     "data": {
      "text/plain": [
       "RandomForestClassifier(max_depth=10, n_estimators=400)"
      ]
     },
     "execution_count": 60,
     "metadata": {},
     "output_type": "execute_result"
    }
   ],
   "source": [
    "grid_forest = GridSearchCV(RandomForestClassifier(), parameters, scoring = 'roc_auc', cv = k_fold, n_jobs =-1)\n",
    "grid_forest.fit(insurance_attrributes_train, insurance_target_train)\n",
    "\n",
    "grid_forest.best_estimator_\n"
   ]
  },
  {
   "cell_type": "code",
   "execution_count": 61,
   "metadata": {},
   "outputs": [
    {
     "data": {
      "text/plain": [
       "{'mean_fit_time': array([ 22.00956697,  85.46010351, 166.74729424,  27.99320359,\n",
       "        112.04047241, 229.12753773,  30.96114445, 106.37997966,\n",
       "        175.32476029]),\n",
       " 'std_fit_time': array([0.13470963, 1.56418593, 3.05414705, 1.49888433, 3.64845302,\n",
       "        4.45535574, 1.88103708, 5.77008564, 5.62158315]),\n",
       " 'mean_score_time': array([ 0.67179742,  3.39563074,  5.9375772 ,  1.5132638 ,  7.64443617,\n",
       "        15.67943964,  2.02094278,  5.63474431,  7.67189159]),\n",
       " 'std_score_time': array([0.02884264, 0.16665151, 0.69797526, 0.06576681, 1.00163154,\n",
       "        2.99695218, 0.1562234 , 0.27013901, 1.21861975]),\n",
       " 'param_max_depth': masked_array(data=[10, 10, 10, 50, 50, 50, 70, 70, 70],\n",
       "              mask=[False, False, False, False, False, False, False, False,\n",
       "                    False],\n",
       "        fill_value='?',\n",
       "             dtype=object),\n",
       " 'param_n_estimators': masked_array(data=[50, 200, 400, 50, 200, 400, 50, 200, 400],\n",
       "              mask=[False, False, False, False, False, False, False, False,\n",
       "                    False],\n",
       "        fill_value='?',\n",
       "             dtype=object),\n",
       " 'params': [{'max_depth': 10, 'n_estimators': 50},\n",
       "  {'max_depth': 10, 'n_estimators': 200},\n",
       "  {'max_depth': 10, 'n_estimators': 400},\n",
       "  {'max_depth': 50, 'n_estimators': 50},\n",
       "  {'max_depth': 50, 'n_estimators': 200},\n",
       "  {'max_depth': 50, 'n_estimators': 400},\n",
       "  {'max_depth': 70, 'n_estimators': 50},\n",
       "  {'max_depth': 70, 'n_estimators': 200},\n",
       "  {'max_depth': 70, 'n_estimators': 400}],\n",
       " 'split0_test_score': array([0.8527171 , 0.8531325 , 0.85314069, 0.81357434, 0.81932603,\n",
       "        0.82185184, 0.81284671, 0.81933839, 0.82091953]),\n",
       " 'split1_test_score': array([0.85153648, 0.8515072 , 0.85171124, 0.81340286, 0.81929609,\n",
       "        0.82038324, 0.81214608, 0.8192515 , 0.82093378]),\n",
       " 'split2_test_score': array([0.85338637, 0.85341343, 0.85347682, 0.8081146 , 0.81542398,\n",
       "        0.81862525, 0.80925561, 0.81629484, 0.8187409 ]),\n",
       " 'split3_test_score': array([0.85337127, 0.85369757, 0.85386772, 0.81253089, 0.81923441,\n",
       "        0.82041251, 0.81200528, 0.8182389 , 0.82092725]),\n",
       " 'split4_test_score': array([0.85716111, 0.85783413, 0.85782664, 0.81552256, 0.82176848,\n",
       "        0.82405023, 0.8154433 , 0.82171209, 0.82352563]),\n",
       " 'mean_test_score': array([0.85363447, 0.85391697, 0.85400462, 0.81262905, 0.8190098 ,\n",
       "        0.82106461, 0.8123394 , 0.81896714, 0.82100942]),\n",
       " 'std_test_score': array([0.00188739, 0.00210087, 0.00204505, 0.00245987, 0.00203474,\n",
       "        0.00180962, 0.00197739, 0.00175642, 0.00151645]),\n",
       " 'rank_test_score': array([3, 2, 1, 8, 6, 4, 9, 7, 5])}"
      ]
     },
     "execution_count": 61,
     "metadata": {},
     "output_type": "execute_result"
    }
   ],
   "source": [
    "grid_forest.cv_results_"
   ]
  },
  {
   "cell_type": "code",
   "execution_count": 62,
   "metadata": {},
   "outputs": [
    {
     "name": "stdout",
     "output_type": "stream",
     "text": [
      "    Accuracy   F1 Score  Precision     Recall   ROC_AUC\n",
      "0  87.764641  82.071678    88.0381  87.764641  86.05699\n",
      "    Accuracy   F1 Score  Precision     Recall    ROC_AUC\n",
      "0  87.748944  82.045298  84.541739  87.748944  85.526354\n"
     ]
    }
   ],
   "source": [
    "GetOnlyScores(grid_forest, insurance_target_test, insurance_attrributes_test, \n",
    "              insurance_target_train, insurance_attrributes_train)"
   ]
  },
  {
   "cell_type": "code",
   "execution_count": 63,
   "metadata": {},
   "outputs": [
    {
     "name": "stdout",
     "output_type": "stream",
     "text": [
      "We see that the ROC score is better than logistic regression also the F1_score so for now we can stop with Random Forest with RandomForestClassifier(max_depth=10, n_estimators=400)\n"
     ]
    }
   ],
   "source": [
    "print(f'We see that the ROC score is better than logistic regression also the F1_score so for now we can stop with Random Forest with {grid_forest.best_estimator_}')"
   ]
  },
  {
   "cell_type": "code",
   "execution_count": 64,
   "metadata": {},
   "outputs": [
    {
     "data": {
      "text/plain": [
       "<sklearn.metrics._plot.confusion_matrix.ConfusionMatrixDisplay at 0x1d30d8359c8>"
      ]
     },
     "execution_count": 64,
     "metadata": {},
     "output_type": "execute_result"
    },
    {
     "data": {
      "image/png": "[encoded data removed]",
      "text/plain": [
       "<Figure size 432x288 with 2 Axes>"
      ]
     },
     "metadata": {
      "needs_background": "light"
     },
     "output_type": "display_data"
    }
   ],
   "source": [
    "plot_confusion_matrix(grid_forest, insurance_attrributes_test, insurance_target_test, normalize='pred')"
   ]
  },
  {
   "cell_type": "markdown",
   "metadata": {},
   "source": [
    "Because of the high unbalanced target variable we have less than 50% True Positives"
   ]
  },
  {
   "cell_type": "markdown",
   "metadata": {},
   "source": [
    "### H1: Machine Learning without high correlation attributes\n",
    "\n",
    "Here i will see the results if i drop some of the columns with high corr. That way I can perform manuall demensionality reduction to get better results"
   ]
  },
  {
   "cell_type": "code",
   "execution_count": 65,
   "metadata": {},
   "outputs": [],
   "source": [
    "insurance_lower_dim = insurance_categorical.drop(['Gender_Female', 'Vehicle_Age_<1', 'Vehicle_Damage_No'], axis = 1)"
   ]
  },
  {
   "cell_type": "code",
   "execution_count": 66,
   "metadata": {},
   "outputs": [
    {
     "data": {
      "text/plain": [
       "(381109, 10)"
      ]
     },
     "execution_count": 66,
     "metadata": {},
     "output_type": "execute_result"
    }
   ],
   "source": [
    "insurance_lower_dim.shape"
   ]
  },
  {
   "cell_type": "code",
   "execution_count": 67,
   "metadata": {},
   "outputs": [],
   "source": [
    "insurance_dim_target = insurance_lower_dim.Response\n",
    "insurance_dim_attributes = insurance_lower_dim.drop('Response', axis=1)"
   ]
  },
  {
   "cell_type": "code",
   "execution_count": 68,
   "metadata": {},
   "outputs": [],
   "source": [
    "scaler = MinMaxScaler()"
   ]
  },
  {
   "cell_type": "code",
   "execution_count": 69,
   "metadata": {},
   "outputs": [],
   "source": [
    "insurance_lower_dim_scaled = scaler.fit_transform(insurance_dim_attributes)"
   ]
  },
  {
   "cell_type": "code",
   "execution_count": 70,
   "metadata": {},
   "outputs": [
    {
     "data": {
      "text/plain": [
       "(381109, 9)"
      ]
     },
     "execution_count": 70,
     "metadata": {},
     "output_type": "execute_result"
    }
   ],
   "source": [
    "insurance_lower_dim_scaled.shape"
   ]
  },
  {
   "cell_type": "code",
   "execution_count": 71,
   "metadata": {},
   "outputs": [],
   "source": [
    "dim_scaled_attributes_train, dim_scaled_attributes_test,dim_target_train, dim_target_test = train_test_split(insurance_lower_dim_scaled, insurance_dim_target,\n",
    "                                                                                                            test_size = 0.3,stratify = insurance_dim_target,\n",
    "                                                                                                            random_state = 42)\n"
   ]
  },
  {
   "cell_type": "code",
   "execution_count": 72,
   "metadata": {},
   "outputs": [
    {
     "name": "stdout",
     "output_type": "stream",
     "text": [
      "(266776, 9)\n",
      "(114333, 9)\n",
      "(266776,)\n",
      "(114333,)\n"
     ]
    }
   ],
   "source": [
    "print(dim_scaled_attributes_train.shape)\n",
    "print(dim_scaled_attributes_test.shape)\n",
    "print(dim_target_train.shape)\n",
    "print(dim_target_test.shape)"
   ]
  },
  {
   "cell_type": "markdown",
   "metadata": {},
   "source": [
    "#### Random Forest Classifier for dimension reduction dataset"
   ]
  },
  {
   "cell_type": "code",
   "execution_count": 73,
   "metadata": {},
   "outputs": [
    {
     "name": "stdout",
     "output_type": "stream",
     "text": [
      "    Accuracy  F1 Score  Precision     Recall    ROC_AUC\n",
      "0  90.345084  88.50307  89.253069  90.345084  92.802507\n",
      "    Accuracy   F1 Score  Precision     Recall    ROC_AUC\n",
      "0  86.322409  83.512551  82.182071  86.322409  81.904248\n"
     ]
    }
   ],
   "source": [
    "GetModelScores(RandomForestClassifier(), dim_scaled_attributes_train, dim_scaled_attributes_test,dim_target_train, dim_target_test)"
   ]
  },
  {
   "cell_type": "markdown",
   "metadata": {},
   "source": [
    "#### Logistic Regression for dimension reduction dataset"
   ]
  },
  {
   "cell_type": "code",
   "execution_count": 74,
   "metadata": {},
   "outputs": [
    {
     "name": "stdout",
     "output_type": "stream",
     "text": [
      "    Accuracy  F1 Score  Precision     Recall    ROC_AUC\n",
      "0  87.744025  82.01645   89.24612  87.744025  83.640006\n",
      "    Accuracy   F1 Score  Precision     Recall    ROC_AUC\n",
      "0  87.742821  82.015167  76.989468  87.742821  83.503801\n"
     ]
    }
   ],
   "source": [
    "GetModelScores(LogisticRegressionCV(cv = k_fold), dim_scaled_attributes_train, dim_scaled_attributes_test,dim_target_train, dim_target_test)"
   ]
  },
  {
   "cell_type": "markdown",
   "metadata": {},
   "source": [
    "### Conclusion between H0 and H1\n",
    "\n",
    "I am going to use the smaller dataset since the performance is the same as the 13 attributes one. \n",
    "That way i can prevent future overfitting and will learn fastter."
   ]
  },
  {
   "cell_type": "markdown",
   "metadata": {},
   "source": [
    "### BOOSTING \n",
    "\n",
    "I want to see if i use boosting ML algorithms, can i get better results for the classes "
   ]
  },
  {
   "cell_type": "markdown",
   "metadata": {},
   "source": [
    "#### AdaBoostClassifier"
   ]
  },
  {
   "cell_type": "code",
   "execution_count": 75,
   "metadata": {},
   "outputs": [
    {
     "name": "stdout",
     "output_type": "stream",
     "text": [
      "    Accuracy   F1 Score  Precision     Recall    ROC_AUC\n",
      "0  87.735778  82.017425  79.640643  87.735778  85.276039\n",
      "    Accuracy   F1 Score  Precision     Recall    ROC_AUC\n",
      "0  87.740197  82.025716  81.759582  87.740197  85.134191\n"
     ]
    }
   ],
   "source": [
    "GetModelScores(AdaBoostClassifier(), dim_scaled_attributes_train, dim_scaled_attributes_test,dim_target_train, dim_target_test)"
   ]
  },
  {
   "cell_type": "markdown",
   "metadata": {},
   "source": [
    "#### GradientBoostingClassifier"
   ]
  },
  {
   "cell_type": "code",
   "execution_count": 76,
   "metadata": {},
   "outputs": [
    {
     "name": "stdout",
     "output_type": "stream",
     "text": [
      "   Accuracy   F1 Score  Precision   Recall    ROC_AUC\n",
      "0   87.7444  82.018817  85.161455  87.7444  85.647952\n",
      "    Accuracy   F1 Score  Precision     Recall    ROC_AUC\n",
      "0  87.741947  82.016427  80.054029  87.741947  85.498782\n"
     ]
    }
   ],
   "source": [
    "GetModelScores(GradientBoostingClassifier(), dim_scaled_attributes_train, dim_scaled_attributes_test,dim_target_train, dim_target_test)"
   ]
  },
  {
   "cell_type": "markdown",
   "metadata": {},
   "source": [
    "#### LGBMClassifier"
   ]
  },
  {
   "cell_type": "code",
   "execution_count": 77,
   "metadata": {},
   "outputs": [
    {
     "name": "stdout",
     "output_type": "stream",
     "text": [
      "    Accuracy   F1 Score  Precision     Recall   ROC_AUC\n",
      "0  87.758644  82.074442   85.54011  87.758644  86.23847\n",
      "    Accuracy   F1 Score  Precision     Recall    ROC_AUC\n",
      "0  87.747195  82.066331  83.588836  87.747195  85.673912\n"
     ]
    }
   ],
   "source": [
    "GetModelScores(LGBMClassifier(), dim_scaled_attributes_train, dim_scaled_attributes_test,dim_target_train, dim_target_test)"
   ]
  },
  {
   "cell_type": "markdown",
   "metadata": {},
   "source": [
    "#### We can see that LGBMClassifier is the best boosting algorithm and it is really fast with big data. I'm going to perform hyperparameter Tuning"
   ]
  },
  {
   "cell_type": "code",
   "execution_count": 180,
   "metadata": {},
   "outputs": [],
   "source": [
    "parameters_grid = {\n",
    "             'num_leaves': [5, 10, 50], \n",
    "             'n_estimators': [200, 400, 600],\n",
    "             'reg_lambda': [5, 50, 100]\n",
    "        }"
   ]
  },
  {
   "cell_type": "code",
   "execution_count": 181,
   "metadata": {},
   "outputs": [],
   "source": [
    "grid_booster = GridSearchCV(LGBMClassifier(), parameters_grid, scoring = 'roc_auc',\n",
    "                            n_jobs = -1, cv = k_fold)"
   ]
  },
  {
   "cell_type": "code",
   "execution_count": 182,
   "metadata": {},
   "outputs": [
    {
     "data": {
      "text/plain": [
       "GridSearchCV(cv=StratifiedKFold(n_splits=5, random_state=None, shuffle=False),\n",
       "             estimator=LGBMClassifier(), n_jobs=-1,\n",
       "             param_grid={'n_estimators': [200, 400, 600],\n",
       "                         'num_leaves': [5, 10, 50],\n",
       "                         'reg_lambda': [5, 50, 100]},\n",
       "             scoring='roc_auc')"
      ]
     },
     "execution_count": 182,
     "metadata": {},
     "output_type": "execute_result"
    }
   ],
   "source": [
    "grid_booster.fit(dim_scaled_attributes_train, dim_target_train)"
   ]
  },
  {
   "cell_type": "code",
   "execution_count": 183,
   "metadata": {},
   "outputs": [
    {
     "name": "stdout",
     "output_type": "stream",
     "text": [
      "Here we can see with hyperparameters: LGBMClassifier(n_estimators=600, num_leaves=10, reg_lambda=50) we have best scores for:\n"
     ]
    }
   ],
   "source": [
    "print(f'Here we can see with hyperparameters: {grid_booster.best_estimator_} we have best scores for:')"
   ]
  },
  {
   "cell_type": "code",
   "execution_count": 184,
   "metadata": {},
   "outputs": [
    {
     "name": "stdout",
     "output_type": "stream",
     "text": [
      "    Accuracy   F1 Score  Precision     Recall    ROC_AUC\n",
      "0  87.769889  82.223388   84.09314  87.769889  86.226088\n",
      "    Accuracy   F1 Score  Precision     Recall    ROC_AUC\n",
      "0  87.748069  82.189907  83.330402  87.748069  85.733341\n"
     ]
    }
   ],
   "source": [
    "GetOnlyScores(grid_booster, dim_target_test, dim_scaled_attributes_test,dim_target_train, dim_scaled_attributes_train)"
   ]
  },
  {
   "cell_type": "code",
   "execution_count": 185,
   "metadata": {},
   "outputs": [
    {
     "data": {
      "image/png": "[encoded data removed]",
      "text/plain": [
       "<Figure size 432x288 with 2 Axes>"
      ]
     },
     "metadata": {
      "needs_background": "light"
     },
     "output_type": "display_data"
    }
   ],
   "source": [
    "plot_confusion_matrix(grid_booster, dim_scaled_attributes_test, dim_target_test, normalize='pred')\n",
    "plt.show()"
   ]
  },
  {
   "cell_type": "markdown",
   "metadata": {},
   "source": [
    "We see that Negative response we have 88 % but Positives are 47%. That's because we have unbalanced Response.\n",
    "To get better scores in this matrix I'm going to perform Oversampling"
   ]
  },
  {
   "cell_type": "markdown",
   "metadata": {},
   "source": [
    "### H2: UNDER- AND OVER-SAMPLING"
   ]
  },
  {
   "cell_type": "markdown",
   "metadata": {},
   "source": [
    "I'm going to use combined method SMOTETomek to see how good the model is going to perform."
   ]
  },
  {
   "cell_type": "code",
   "execution_count": 84,
   "metadata": {},
   "outputs": [],
   "source": [
    "from imblearn.combine import SMOTETomek"
   ]
  },
  {
   "cell_type": "code",
   "execution_count": 85,
   "metadata": {},
   "outputs": [
    {
     "data": {
      "text/plain": [
       "0    334399\n",
       "1     46710\n",
       "Name: Response, dtype: int64"
      ]
     },
     "execution_count": 85,
     "metadata": {},
     "output_type": "execute_result"
    }
   ],
   "source": [
    "insurance_lower_dim.Response.value_counts()"
   ]
  },
  {
   "cell_type": "markdown",
   "metadata": {},
   "source": [
    "We can see original distribution of the target labels "
   ]
  },
  {
   "cell_type": "code",
   "execution_count": 86,
   "metadata": {},
   "outputs": [],
   "source": [
    "oversample_attributes = insurance_lower_dim.drop('Response', axis = 1)\n",
    "oversample_target = insurance_lower_dim.Response"
   ]
  },
  {
   "cell_type": "code",
   "execution_count": 87,
   "metadata": {},
   "outputs": [],
   "source": [
    "balance_data = SMOTETomek()"
   ]
  },
  {
   "cell_type": "code",
   "execution_count": 88,
   "metadata": {},
   "outputs": [],
   "source": [
    "oversample_attributes_res, oversample_target_res = balance_data.fit_resample(oversample_attributes, oversample_target)"
   ]
  },
  {
   "cell_type": "code",
   "execution_count": 89,
   "metadata": {},
   "outputs": [
    {
     "data": {
      "text/plain": [
       "1    333939\n",
       "0    333939\n",
       "Name: Response, dtype: int64"
      ]
     },
     "execution_count": 89,
     "metadata": {},
     "output_type": "execute_result"
    }
   ],
   "source": [
    "oversample_target_res.value_counts()"
   ]
  },
  {
   "cell_type": "markdown",
   "metadata": {},
   "source": [
    "We can see that the positive response are equal to the negative one because i performed oversampling and got liitle bit undersampling of attributes"
   ]
  },
  {
   "cell_type": "code",
   "execution_count": 90,
   "metadata": {},
   "outputs": [],
   "source": [
    "sc = MinMaxScaler()"
   ]
  },
  {
   "cell_type": "code",
   "execution_count": 91,
   "metadata": {},
   "outputs": [],
   "source": [
    "oversample_target = sc.fit_transform(oversample_attributes_res)"
   ]
  },
  {
   "cell_type": "code",
   "execution_count": 92,
   "metadata": {},
   "outputs": [],
   "source": [
    "oversample_attributes_train, oversample_attributes_test, oversample_target_train, oversample_target_test = train_test_split(oversample_attributes_res,\n",
    "                                                                                             oversample_target_res, test_size = 0.3, \n",
    "                                                                                            random_state = 42)"
   ]
  },
  {
   "cell_type": "markdown",
   "metadata": {},
   "source": [
    "#### GridSearch with LGBMClassifier"
   ]
  },
  {
   "cell_type": "code",
   "execution_count": 93,
   "metadata": {},
   "outputs": [],
   "source": [
    "mod_params = {\n",
    "              'n_estimators':[400, 600, 800],\n",
    "              'num_leaves': [10, 50, 80],\n",
    "              'reg_lambda': [0.001, 1, 5, 10]\n",
    "}"
   ]
  },
  {
   "cell_type": "code",
   "execution_count": 94,
   "metadata": {},
   "outputs": [],
   "source": [
    "mod = GridSearchCV(LGBMClassifier(), mod_params, scoring = 'roc_auc', cv = k_fold)"
   ]
  },
  {
   "cell_type": "code",
   "execution_count": 95,
   "metadata": {},
   "outputs": [
    {
     "data": {
      "text/plain": [
       "GridSearchCV(cv=StratifiedKFold(n_splits=5, random_state=None, shuffle=False),\n",
       "             estimator=LGBMClassifier(),\n",
       "             param_grid={'n_estimators': [400, 600, 800],\n",
       "                         'num_leaves': [10, 50, 80],\n",
       "                         'reg_lambda': [0.001, 1, 5, 10]},\n",
       "             scoring='roc_auc')"
      ]
     },
     "execution_count": 95,
     "metadata": {},
     "output_type": "execute_result"
    }
   ],
   "source": [
    "mod.fit(oversample_attributes_train, oversample_target_train)"
   ]
  },
  {
   "cell_type": "code",
   "execution_count": 96,
   "metadata": {},
   "outputs": [
    {
     "data": {
      "text/plain": [
       "LGBMClassifier(n_estimators=800, num_leaves=80, reg_lambda=0.001)"
      ]
     },
     "execution_count": 96,
     "metadata": {},
     "output_type": "execute_result"
    }
   ],
   "source": [
    "mod.best_estimator_"
   ]
  },
  {
   "cell_type": "code",
   "execution_count": 97,
   "metadata": {},
   "outputs": [
    {
     "name": "stdout",
     "output_type": "stream",
     "text": [
      "    Accuracy   F1 Score  Precision     Recall   ROC_AUC\n",
      "0  84.713827  84.564811   86.10725  84.713827  91.66507\n",
      "    Accuracy   F1 Score  Precision     Recall    ROC_AUC\n",
      "0  83.556926  83.389787  84.966517  83.556926  90.630414\n"
     ]
    }
   ],
   "source": [
    "GetOnlyScores(mod, oversample_target_test, oversample_attributes_test, oversample_target_train, oversample_attributes_train)"
   ]
  },
  {
   "cell_type": "code",
   "execution_count": 98,
   "metadata": {},
   "outputs": [
    {
     "data": {
      "image/png": "[encoded data removed]",
      "text/plain": [
       "<Figure size 432x288 with 2 Axes>"
      ]
     },
     "metadata": {
      "needs_background": "light"
     },
     "output_type": "display_data"
    }
   ],
   "source": [
    "plot_confusion_matrix(mod, oversample_attributes_test, oversample_target_test, normalize='pred')\n",
    "plt.show()"
   ]
  },
  {
   "cell_type": "code",
   "execution_count": 99,
   "metadata": {},
   "outputs": [
    {
     "data": {
      "image/png": "[encoded data removed]",
      "text/plain": [
       "<Figure size 432x288 with 1 Axes>"
      ]
     },
     "metadata": {
      "needs_background": "light"
     },
     "output_type": "display_data"
    }
   ],
   "source": [
    "plot_roc_curve(mod, oversample_attributes_test, oversample_target_test, name = \"Certainty of the algorithm\")\n",
    "plt.show()"
   ]
  },
  {
   "cell_type": "markdown",
   "metadata": {},
   "source": [
    "We can see how certain the model is in predicting the output classes. By looking at the graph we can see our cureve is going up more than going to False Positive (right) side"
   ]
  },
  {
   "cell_type": "markdown",
   "metadata": {},
   "source": [
    "### CONCLUSION\n",
    "\n",
    "We can see we have less scores in comparison to parameter-tuned LGBMClassifier but the roc_auc score is better, also the confusion matrix gives us better results. For now i'm satisfied with our last model in which we performed:\n",
    "\n",
    "1) MinMax regularization\n",
    "\n",
    "2) Feature Selection in which we exclude from the original 15 to 10 columns \n",
    "\n",
    "3) Perform an over- and under-sampling in which we deal with unbalanced dataset\n",
    "\n",
    "4) We chose the best ML algorithm and it's boosting algorithm LGBMClassifier. It is fast with big data and we got the best scores with it.\n",
    "\n",
    "5) We perform Grid Search with Cross Validation in which we got best estimators.\n",
    "\n",
    "6) And at last we combined all of these steps to get 91% True Negatives and 76 % True Positives"
   ]
  },
  {
   "cell_type": "markdown",
   "metadata": {},
   "source": [
    "# Part 2 - Car Price Prediction"
   ]
  },
  {
   "cell_type": "markdown",
   "metadata": {},
   "source": [
    "In this second part I'm going to predict car prices based on:\n",
    "\n",
    "1) Car Model\n",
    "\n",
    "2) Year of production\n",
    "\n",
    "3) Selling Price\n",
    "\n",
    "4) KM driven\n",
    "\n",
    "5) Fuel type\n",
    "\n",
    "6) Seller Type (Individual, Dealer, Trustmark Dealer)\n",
    "\n",
    "7) Transmission Type\n",
    "\n",
    "8) Owner (First Owner, Second Owner, Third Owner, Fourth & Above Owner, Test Drive Car)\n",
    "\n",
    "9) Mileage\n",
    "\n",
    "10) Engine Power\n",
    "\n",
    "11) Max Power\n",
    "\n",
    "12) Torque\n",
    "\n",
    "13) Number of seats"
   ]
  },
  {
   "cell_type": "markdown",
   "metadata": {},
   "source": [
    "The main method will be Regression and we are going to predict number base on the given attributes."
   ]
  },
  {
   "cell_type": "code",
   "execution_count": 100,
   "metadata": {},
   "outputs": [],
   "source": [
    "car = pd.read_csv('data/vehicle.csv')"
   ]
  },
  {
   "cell_type": "code",
   "execution_count": 101,
   "metadata": {},
   "outputs": [
    {
     "name": "stdout",
     "output_type": "stream",
     "text": [
      "<class 'pandas.core.frame.DataFrame'>\n",
      "RangeIndex: 8128 entries, 0 to 8127\n",
      "Data columns (total 13 columns):\n",
      " #   Column         Non-Null Count  Dtype  \n",
      "---  ------         --------------  -----  \n",
      " 0   name           8128 non-null   object \n",
      " 1   year           8128 non-null   int64  \n",
      " 2   selling_price  8128 non-null   int64  \n",
      " 3   km_driven      8128 non-null   int64  \n",
      " 4   fuel           8128 non-null   object \n",
      " 5   seller_type    8128 non-null   object \n",
      " 6   transmission   8128 non-null   object \n",
      " 7   owner          8128 non-null   object \n",
      " 8   mileage        7907 non-null   object \n",
      " 9   engine         7907 non-null   object \n",
      " 10  max_power      7913 non-null   object \n",
      " 11  torque         7906 non-null   object \n",
      " 12  seats          7907 non-null   float64\n",
      "dtypes: float64(1), int64(3), object(9)\n",
      "memory usage: 825.6+ KB\n"
     ]
    }
   ],
   "source": [
    "car.info()"
   ]
  },
  {
   "cell_type": "code",
   "execution_count": 102,
   "metadata": {},
   "outputs": [
    {
     "data": {
      "text/plain": [
       "name               0\n",
       "year               0\n",
       "selling_price      0\n",
       "km_driven          0\n",
       "fuel               0\n",
       "seller_type        0\n",
       "transmission       0\n",
       "owner              0\n",
       "mileage          221\n",
       "engine           221\n",
       "max_power        215\n",
       "torque           222\n",
       "seats            221\n",
       "dtype: int64"
      ]
     },
     "execution_count": 102,
     "metadata": {},
     "output_type": "execute_result"
    }
   ],
   "source": [
    "car.isna().sum()"
   ]
  },
  {
   "cell_type": "code",
   "execution_count": 103,
   "metadata": {},
   "outputs": [
    {
     "data": {
      "text/html": [
       "<div>\n",
       "<style scoped>\n",
       "    .dataframe tbody tr th:only-of-type {\n",
       "        vertical-align: middle;\n",
       "    }\n",
       "\n",
       "    .dataframe tbody tr th {\n",
       "        vertical-align: top;\n",
       "    }\n",
       "\n",
       "    .dataframe thead th {\n",
       "        text-align: right;\n",
       "    }\n",
       "</style>\n",
       "<table border=\"1\" class=\"dataframe\">\n",
       "  <thead>\n",
       "    <tr style=\"text-align: right;\">\n",
       "      <th></th>\n",
       "      <th>name</th>\n",
       "      <th>year</th>\n",
       "      <th>selling_price</th>\n",
       "      <th>km_driven</th>\n",
       "      <th>fuel</th>\n",
       "      <th>seller_type</th>\n",
       "      <th>transmission</th>\n",
       "      <th>owner</th>\n",
       "      <th>mileage</th>\n",
       "      <th>engine</th>\n",
       "      <th>max_power</th>\n",
       "      <th>torque</th>\n",
       "      <th>seats</th>\n",
       "    </tr>\n",
       "  </thead>\n",
       "  <tbody>\n",
       "    <tr>\n",
       "      <th>0</th>\n",
       "      <td>Maruti Swift Dzire VDI</td>\n",
       "      <td>2014</td>\n",
       "      <td>450000</td>\n",
       "      <td>145500</td>\n",
       "      <td>Diesel</td>\n",
       "      <td>Individual</td>\n",
       "      <td>Manual</td>\n",
       "      <td>First Owner</td>\n",
       "      <td>23.4 kmpl</td>\n",
       "      <td>1248 CC</td>\n",
       "      <td>74 bhp</td>\n",
       "      <td>190Nm@ 2000rpm</td>\n",
       "      <td>5.0</td>\n",
       "    </tr>\n",
       "    <tr>\n",
       "      <th>1</th>\n",
       "      <td>Skoda Rapid 1.5 TDI Ambition</td>\n",
       "      <td>2014</td>\n",
       "      <td>370000</td>\n",
       "      <td>120000</td>\n",
       "      <td>Diesel</td>\n",
       "      <td>Individual</td>\n",
       "      <td>Manual</td>\n",
       "      <td>Second Owner</td>\n",
       "      <td>21.14 kmpl</td>\n",
       "      <td>1498 CC</td>\n",
       "      <td>103.52 bhp</td>\n",
       "      <td>250Nm@ 1500-2500rpm</td>\n",
       "      <td>5.0</td>\n",
       "    </tr>\n",
       "    <tr>\n",
       "      <th>2</th>\n",
       "      <td>Honda City 2017-2020 EXi</td>\n",
       "      <td>2006</td>\n",
       "      <td>158000</td>\n",
       "      <td>140000</td>\n",
       "      <td>Petrol</td>\n",
       "      <td>Individual</td>\n",
       "      <td>Manual</td>\n",
       "      <td>Third Owner</td>\n",
       "      <td>17.7 kmpl</td>\n",
       "      <td>1497 CC</td>\n",
       "      <td>78 bhp</td>\n",
       "      <td>12.7@ 2,700(kgm@ rpm)</td>\n",
       "      <td>5.0</td>\n",
       "    </tr>\n",
       "    <tr>\n",
       "      <th>3</th>\n",
       "      <td>Hyundai i20 Sportz Diesel</td>\n",
       "      <td>2010</td>\n",
       "      <td>225000</td>\n",
       "      <td>127000</td>\n",
       "      <td>Diesel</td>\n",
       "      <td>Individual</td>\n",
       "      <td>Manual</td>\n",
       "      <td>First Owner</td>\n",
       "      <td>23.0 kmpl</td>\n",
       "      <td>1396 CC</td>\n",
       "      <td>90 bhp</td>\n",
       "      <td>22.4 kgm at 1750-2750rpm</td>\n",
       "      <td>5.0</td>\n",
       "    </tr>\n",
       "    <tr>\n",
       "      <th>4</th>\n",
       "      <td>Maruti Swift VXI BSIII</td>\n",
       "      <td>2007</td>\n",
       "      <td>130000</td>\n",
       "      <td>120000</td>\n",
       "      <td>Petrol</td>\n",
       "      <td>Individual</td>\n",
       "      <td>Manual</td>\n",
       "      <td>First Owner</td>\n",
       "      <td>16.1 kmpl</td>\n",
       "      <td>1298 CC</td>\n",
       "      <td>88.2 bhp</td>\n",
       "      <td>11.5@ 4,500(kgm@ rpm)</td>\n",
       "      <td>5.0</td>\n",
       "    </tr>\n",
       "  </tbody>\n",
       "</table>\n",
       "</div>"
      ],
      "text/plain": [
       "                           name  year  selling_price  km_driven    fuel  \\\n",
       "0        Maruti Swift Dzire VDI  2014         450000     145500  Diesel   \n",
       "1  Skoda Rapid 1.5 TDI Ambition  2014         370000     120000  Diesel   \n",
       "2      Honda City 2017-2020 EXi  2006         158000     140000  Petrol   \n",
       "3     Hyundai i20 Sportz Diesel  2010         225000     127000  Diesel   \n",
       "4        Maruti Swift VXI BSIII  2007         130000     120000  Petrol   \n",
       "\n",
       "  seller_type transmission         owner     mileage   engine   max_power  \\\n",
       "0  Individual       Manual   First Owner   23.4 kmpl  1248 CC      74 bhp   \n",
       "1  Individual       Manual  Second Owner  21.14 kmpl  1498 CC  103.52 bhp   \n",
       "2  Individual       Manual   Third Owner   17.7 kmpl  1497 CC      78 bhp   \n",
       "3  Individual       Manual   First Owner   23.0 kmpl  1396 CC      90 bhp   \n",
       "4  Individual       Manual   First Owner   16.1 kmpl  1298 CC    88.2 bhp   \n",
       "\n",
       "                     torque  seats  \n",
       "0            190Nm@ 2000rpm    5.0  \n",
       "1       250Nm@ 1500-2500rpm    5.0  \n",
       "2     12.7@ 2,700(kgm@ rpm)    5.0  \n",
       "3  22.4 kgm at 1750-2750rpm    5.0  \n",
       "4     11.5@ 4,500(kgm@ rpm)    5.0  "
      ]
     },
     "execution_count": 103,
     "metadata": {},
     "output_type": "execute_result"
    }
   ],
   "source": [
    "car.head(5)"
   ]
  },
  {
   "cell_type": "markdown",
   "metadata": {},
   "source": [
    "We can see we have NaN value which are 222 of alll values. I will remove them anyway because i cant't replace them with 0 or random number."
   ]
  },
  {
   "cell_type": "code",
   "execution_count": 104,
   "metadata": {},
   "outputs": [
    {
     "data": {
      "text/plain": [
       "(8128, 13)"
      ]
     },
     "execution_count": 104,
     "metadata": {},
     "output_type": "execute_result"
    }
   ],
   "source": [
    "car.shape"
   ]
  },
  {
   "cell_type": "code",
   "execution_count": 105,
   "metadata": {},
   "outputs": [],
   "source": [
    "car = car.dropna()"
   ]
  },
  {
   "cell_type": "markdown",
   "metadata": {},
   "source": [
    "#### Inspecting all the columns unique values and making them int/float"
   ]
  },
  {
   "cell_type": "code",
   "execution_count": 106,
   "metadata": {},
   "outputs": [],
   "source": [
    "car.mileage = car.mileage.str.extract(\"(\\d+)\").astype(float)"
   ]
  },
  {
   "cell_type": "code",
   "execution_count": 107,
   "metadata": {},
   "outputs": [
    {
     "data": {
      "text/plain": [
       "array(['Diesel', 'Petrol', 'LPG', 'CNG'], dtype=object)"
      ]
     },
     "execution_count": 107,
     "metadata": {},
     "output_type": "execute_result"
    }
   ],
   "source": [
    "car.fuel.unique()"
   ]
  },
  {
   "cell_type": "code",
   "execution_count": 108,
   "metadata": {},
   "outputs": [
    {
     "data": {
      "text/plain": [
       "array(['Individual', 'Dealer', 'Trustmark Dealer'], dtype=object)"
      ]
     },
     "execution_count": 108,
     "metadata": {},
     "output_type": "execute_result"
    }
   ],
   "source": [
    "car.seller_type.unique()"
   ]
  },
  {
   "cell_type": "code",
   "execution_count": 109,
   "metadata": {},
   "outputs": [
    {
     "data": {
      "text/plain": [
       "array(['Manual', 'Automatic'], dtype=object)"
      ]
     },
     "execution_count": 109,
     "metadata": {},
     "output_type": "execute_result"
    }
   ],
   "source": [
    "car.transmission.unique()"
   ]
  },
  {
   "cell_type": "code",
   "execution_count": 110,
   "metadata": {},
   "outputs": [
    {
     "data": {
      "text/plain": [
       "array(['First Owner', 'Second Owner', 'Third Owner',\n",
       "       'Fourth & Above Owner', 'Test Drive Car'], dtype=object)"
      ]
     },
     "execution_count": 110,
     "metadata": {},
     "output_type": "execute_result"
    }
   ],
   "source": [
    "car.owner.unique()"
   ]
  },
  {
   "cell_type": "code",
   "execution_count": 111,
   "metadata": {},
   "outputs": [],
   "source": [
    "car.engine = car.engine.str.extract(\"(\\d+)\").astype(float)"
   ]
  },
  {
   "cell_type": "code",
   "execution_count": 112,
   "metadata": {},
   "outputs": [],
   "source": [
    "car.max_power = car.max_power.str.extract(\"(\\d+)\").astype(float)"
   ]
  },
  {
   "cell_type": "code",
   "execution_count": 113,
   "metadata": {},
   "outputs": [
    {
     "data": {
      "text/plain": [
       "name              object\n",
       "year               int64\n",
       "selling_price      int64\n",
       "km_driven          int64\n",
       "fuel              object\n",
       "seller_type       object\n",
       "transmission      object\n",
       "owner             object\n",
       "mileage          float64\n",
       "engine           float64\n",
       "max_power        float64\n",
       "torque            object\n",
       "seats            float64\n",
       "dtype: object"
      ]
     },
     "execution_count": 113,
     "metadata": {},
     "output_type": "execute_result"
    }
   ],
   "source": [
    "car.dtypes"
   ]
  },
  {
   "cell_type": "markdown",
   "metadata": {},
   "source": [
    "I'm going to get rid of Torque and Name because I dont want to do for now unstructured analys."
   ]
  },
  {
   "cell_type": "code",
   "execution_count": 114,
   "metadata": {},
   "outputs": [],
   "source": [
    "car_data = car[['year', 'selling_price', 'km_driven', 'fuel', 'seller_type', 'transmission', 'owner','mileage', 'engine', 'max_power', 'seats']]"
   ]
  },
  {
   "cell_type": "code",
   "execution_count": 115,
   "metadata": {},
   "outputs": [
    {
     "data": {
      "text/html": [
       "<div>\n",
       "<style scoped>\n",
       "    .dataframe tbody tr th:only-of-type {\n",
       "        vertical-align: middle;\n",
       "    }\n",
       "\n",
       "    .dataframe tbody tr th {\n",
       "        vertical-align: top;\n",
       "    }\n",
       "\n",
       "    .dataframe thead th {\n",
       "        text-align: right;\n",
       "    }\n",
       "</style>\n",
       "<table border=\"1\" class=\"dataframe\">\n",
       "  <thead>\n",
       "    <tr style=\"text-align: right;\">\n",
       "      <th></th>\n",
       "      <th>year</th>\n",
       "      <th>selling_price</th>\n",
       "      <th>km_driven</th>\n",
       "      <th>fuel</th>\n",
       "      <th>seller_type</th>\n",
       "      <th>transmission</th>\n",
       "      <th>owner</th>\n",
       "      <th>mileage</th>\n",
       "      <th>engine</th>\n",
       "      <th>max_power</th>\n",
       "      <th>seats</th>\n",
       "    </tr>\n",
       "  </thead>\n",
       "  <tbody>\n",
       "    <tr>\n",
       "      <th>0</th>\n",
       "      <td>2014</td>\n",
       "      <td>450000</td>\n",
       "      <td>145500</td>\n",
       "      <td>Diesel</td>\n",
       "      <td>Individual</td>\n",
       "      <td>Manual</td>\n",
       "      <td>First Owner</td>\n",
       "      <td>23.0</td>\n",
       "      <td>1248.0</td>\n",
       "      <td>74.0</td>\n",
       "      <td>5.0</td>\n",
       "    </tr>\n",
       "    <tr>\n",
       "      <th>1</th>\n",
       "      <td>2014</td>\n",
       "      <td>370000</td>\n",
       "      <td>120000</td>\n",
       "      <td>Diesel</td>\n",
       "      <td>Individual</td>\n",
       "      <td>Manual</td>\n",
       "      <td>Second Owner</td>\n",
       "      <td>21.0</td>\n",
       "      <td>1498.0</td>\n",
       "      <td>103.0</td>\n",
       "      <td>5.0</td>\n",
       "    </tr>\n",
       "    <tr>\n",
       "      <th>2</th>\n",
       "      <td>2006</td>\n",
       "      <td>158000</td>\n",
       "      <td>140000</td>\n",
       "      <td>Petrol</td>\n",
       "      <td>Individual</td>\n",
       "      <td>Manual</td>\n",
       "      <td>Third Owner</td>\n",
       "      <td>17.0</td>\n",
       "      <td>1497.0</td>\n",
       "      <td>78.0</td>\n",
       "      <td>5.0</td>\n",
       "    </tr>\n",
       "    <tr>\n",
       "      <th>3</th>\n",
       "      <td>2010</td>\n",
       "      <td>225000</td>\n",
       "      <td>127000</td>\n",
       "      <td>Diesel</td>\n",
       "      <td>Individual</td>\n",
       "      <td>Manual</td>\n",
       "      <td>First Owner</td>\n",
       "      <td>23.0</td>\n",
       "      <td>1396.0</td>\n",
       "      <td>90.0</td>\n",
       "      <td>5.0</td>\n",
       "    </tr>\n",
       "    <tr>\n",
       "      <th>4</th>\n",
       "      <td>2007</td>\n",
       "      <td>130000</td>\n",
       "      <td>120000</td>\n",
       "      <td>Petrol</td>\n",
       "      <td>Individual</td>\n",
       "      <td>Manual</td>\n",
       "      <td>First Owner</td>\n",
       "      <td>16.0</td>\n",
       "      <td>1298.0</td>\n",
       "      <td>88.0</td>\n",
       "      <td>5.0</td>\n",
       "    </tr>\n",
       "    <tr>\n",
       "      <th>...</th>\n",
       "      <td>...</td>\n",
       "      <td>...</td>\n",
       "      <td>...</td>\n",
       "      <td>...</td>\n",
       "      <td>...</td>\n",
       "      <td>...</td>\n",
       "      <td>...</td>\n",
       "      <td>...</td>\n",
       "      <td>...</td>\n",
       "      <td>...</td>\n",
       "      <td>...</td>\n",
       "    </tr>\n",
       "    <tr>\n",
       "      <th>8123</th>\n",
       "      <td>2013</td>\n",
       "      <td>320000</td>\n",
       "      <td>110000</td>\n",
       "      <td>Petrol</td>\n",
       "      <td>Individual</td>\n",
       "      <td>Manual</td>\n",
       "      <td>First Owner</td>\n",
       "      <td>18.0</td>\n",
       "      <td>1197.0</td>\n",
       "      <td>82.0</td>\n",
       "      <td>5.0</td>\n",
       "    </tr>\n",
       "    <tr>\n",
       "      <th>8124</th>\n",
       "      <td>2007</td>\n",
       "      <td>135000</td>\n",
       "      <td>119000</td>\n",
       "      <td>Diesel</td>\n",
       "      <td>Individual</td>\n",
       "      <td>Manual</td>\n",
       "      <td>Fourth &amp; Above Owner</td>\n",
       "      <td>16.0</td>\n",
       "      <td>1493.0</td>\n",
       "      <td>110.0</td>\n",
       "      <td>5.0</td>\n",
       "    </tr>\n",
       "    <tr>\n",
       "      <th>8125</th>\n",
       "      <td>2009</td>\n",
       "      <td>382000</td>\n",
       "      <td>120000</td>\n",
       "      <td>Diesel</td>\n",
       "      <td>Individual</td>\n",
       "      <td>Manual</td>\n",
       "      <td>First Owner</td>\n",
       "      <td>19.0</td>\n",
       "      <td>1248.0</td>\n",
       "      <td>73.0</td>\n",
       "      <td>5.0</td>\n",
       "    </tr>\n",
       "    <tr>\n",
       "      <th>8126</th>\n",
       "      <td>2013</td>\n",
       "      <td>290000</td>\n",
       "      <td>25000</td>\n",
       "      <td>Diesel</td>\n",
       "      <td>Individual</td>\n",
       "      <td>Manual</td>\n",
       "      <td>First Owner</td>\n",
       "      <td>23.0</td>\n",
       "      <td>1396.0</td>\n",
       "      <td>70.0</td>\n",
       "      <td>5.0</td>\n",
       "    </tr>\n",
       "    <tr>\n",
       "      <th>8127</th>\n",
       "      <td>2013</td>\n",
       "      <td>290000</td>\n",
       "      <td>25000</td>\n",
       "      <td>Diesel</td>\n",
       "      <td>Individual</td>\n",
       "      <td>Manual</td>\n",
       "      <td>First Owner</td>\n",
       "      <td>23.0</td>\n",
       "      <td>1396.0</td>\n",
       "      <td>70.0</td>\n",
       "      <td>5.0</td>\n",
       "    </tr>\n",
       "  </tbody>\n",
       "</table>\n",
       "<p>7906 rows × 11 columns</p>\n",
       "</div>"
      ],
      "text/plain": [
       "      year  selling_price  km_driven    fuel seller_type transmission  \\\n",
       "0     2014         450000     145500  Diesel  Individual       Manual   \n",
       "1     2014         370000     120000  Diesel  Individual       Manual   \n",
       "2     2006         158000     140000  Petrol  Individual       Manual   \n",
       "3     2010         225000     127000  Diesel  Individual       Manual   \n",
       "4     2007         130000     120000  Petrol  Individual       Manual   \n",
       "...    ...            ...        ...     ...         ...          ...   \n",
       "8123  2013         320000     110000  Petrol  Individual       Manual   \n",
       "8124  2007         135000     119000  Diesel  Individual       Manual   \n",
       "8125  2009         382000     120000  Diesel  Individual       Manual   \n",
       "8126  2013         290000      25000  Diesel  Individual       Manual   \n",
       "8127  2013         290000      25000  Diesel  Individual       Manual   \n",
       "\n",
       "                     owner  mileage  engine  max_power  seats  \n",
       "0              First Owner     23.0  1248.0       74.0    5.0  \n",
       "1             Second Owner     21.0  1498.0      103.0    5.0  \n",
       "2              Third Owner     17.0  1497.0       78.0    5.0  \n",
       "3              First Owner     23.0  1396.0       90.0    5.0  \n",
       "4              First Owner     16.0  1298.0       88.0    5.0  \n",
       "...                    ...      ...     ...        ...    ...  \n",
       "8123           First Owner     18.0  1197.0       82.0    5.0  \n",
       "8124  Fourth & Above Owner     16.0  1493.0      110.0    5.0  \n",
       "8125           First Owner     19.0  1248.0       73.0    5.0  \n",
       "8126           First Owner     23.0  1396.0       70.0    5.0  \n",
       "8127           First Owner     23.0  1396.0       70.0    5.0  \n",
       "\n",
       "[7906 rows x 11 columns]"
      ]
     },
     "execution_count": 115,
     "metadata": {},
     "output_type": "execute_result"
    }
   ],
   "source": [
    "car_data"
   ]
  },
  {
   "cell_type": "markdown",
   "metadata": {},
   "source": [
    "## Basic Data Exploration \n",
    "\n",
    "#### 1) Count for each column"
   ]
  },
  {
   "cell_type": "code",
   "execution_count": 116,
   "metadata": {},
   "outputs": [
    {
     "data": {
      "image/png": "[encoded data removed]",
      "text/plain": [
       "<Figure size 1440x720 with 1 Axes>"
      ]
     },
     "metadata": {
      "needs_background": "light"
     },
     "output_type": "display_data"
    }
   ],
   "source": [
    "plt.figure(figsize=(20,10))\n",
    "sns.countplot(x='year', data = car_data, order=car_data['year'].value_counts().iloc[:20].index)\n",
    "\n",
    "plt.xlabel('Car Years')\n",
    "plt.title('Year of the Cars')\n",
    "plt.show()"
   ]
  },
  {
   "cell_type": "code",
   "execution_count": 117,
   "metadata": {},
   "outputs": [
    {
     "data": {
      "image/png": "[encoded data removed]",
      "text/plain": [
       "<Figure size 1440x720 with 1 Axes>"
      ]
     },
     "metadata": {
      "needs_background": "light"
     },
     "output_type": "display_data"
    }
   ],
   "source": [
    "plt.figure(figsize=(20,10))\n",
    "sns.countplot(x='fuel', data = car_data, order=car_data['fuel'].value_counts().index)\n",
    "\n",
    "plt.xlabel('Fuel Type')\n",
    "plt.title('Count of different fuel type cars')\n",
    "plt.show()"
   ]
  },
  {
   "cell_type": "code",
   "execution_count": 118,
   "metadata": {},
   "outputs": [
    {
     "data": {
      "image/png": "[encoded data removed]",
      "text/plain": [
       "<Figure size 1440x720 with 1 Axes>"
      ]
     },
     "metadata": {
      "needs_background": "light"
     },
     "output_type": "display_data"
    }
   ],
   "source": [
    "plt.figure(figsize=(20,10))\n",
    "sns.countplot(x='seller_type', data = car_data, order=car_data['seller_type'].value_counts().index)\n",
    "\n",
    "plt.xlabel('Sellers')\n",
    "plt.title('Seller types')\n",
    "plt.show()"
   ]
  },
  {
   "cell_type": "code",
   "execution_count": 119,
   "metadata": {},
   "outputs": [
    {
     "data": {
      "image/png": "[encoded data removed]",
      "text/plain": [
       "<Figure size 1440x720 with 1 Axes>"
      ]
     },
     "metadata": {
      "needs_background": "light"
     },
     "output_type": "display_data"
    }
   ],
   "source": [
    "plt.figure(figsize=(20,10))\n",
    "sns.countplot(x='transmission', data = car_data, order=car_data['transmission'].value_counts().index)\n",
    "\n",
    "plt.xlabel('Transmission')\n",
    "plt.title('Transmission types')\n",
    "plt.show()"
   ]
  },
  {
   "cell_type": "code",
   "execution_count": 120,
   "metadata": {},
   "outputs": [
    {
     "data": {
      "image/png": "[encoded data removed]",
      "text/plain": [
       "<Figure size 1440x720 with 1 Axes>"
      ]
     },
     "metadata": {
      "needs_background": "light"
     },
     "output_type": "display_data"
    }
   ],
   "source": [
    "plt.figure(figsize=(20,10))\n",
    "sns.countplot(x='owner', data = car_data, order=car_data['owner'].value_counts().index)\n",
    "\n",
    "plt.xlabel('Owners')\n",
    "plt.title('Owner by car')\n",
    "plt.show()"
   ]
  },
  {
   "cell_type": "markdown",
   "metadata": {},
   "source": [
    "#### 2) Selling price as dependent variable"
   ]
  },
  {
   "cell_type": "code",
   "execution_count": 121,
   "metadata": {},
   "outputs": [
    {
     "data": {
      "image/png": "[encoded data removed]",
      "text/plain": [
       "<Figure size 1440x1080 with 4 Axes>"
      ]
     },
     "metadata": {
      "needs_background": "light"
     },
     "output_type": "display_data"
    }
   ],
   "source": [
    "f, axes = plt.subplots(2, 2, figsize=(20,15))\n",
    "\n",
    "sns.barplot(x= 'transmission', y = 'selling_price', data =  car_data, ax=axes[0,0])\n",
    "sns.barplot(x= 'fuel', y = 'selling_price', data =  car_data, ax=axes[0,1])\n",
    "sns.barplot(x= 'seller_type', y = 'selling_price', data =  car_data, ax=axes[1,0])\n",
    "sns.barplot(x= 'owner', y = 'selling_price', data =  car_data, ax=axes[1,1])\n",
    "\n",
    "plt.show()"
   ]
  },
  {
   "cell_type": "code",
   "execution_count": 122,
   "metadata": {},
   "outputs": [
    {
     "data": {
      "image/png": "[encoded data removed]",
      "text/plain": [
       "<Figure size 519.125x432 with 1 Axes>"
      ]
     },
     "metadata": {
      "needs_background": "light"
     },
     "output_type": "display_data"
    }
   ],
   "source": [
    "sns.lmplot(x='km_driven',y='selling_price', hue = 'transmission', data=car_data, height=6)\n",
    "\n",
    "plt.title('Dependancy between price and Driven distance')\n",
    "plt.show()"
   ]
  },
  {
   "cell_type": "markdown",
   "metadata": {},
   "source": [
    "We can see that as more km one car was driven, its price is getting lower "
   ]
  },
  {
   "cell_type": "code",
   "execution_count": 123,
   "metadata": {},
   "outputs": [
    {
     "name": "stderr",
     "output_type": "stream",
     "text": [
      "E:\\programi\\Anaconda Python\\lib\\site-packages\\ipykernel_launcher.py:1: SettingWithCopyWarning: \n",
      "A value is trying to be set on a copy of a slice from a DataFrame.\n",
      "Try using .loc[row_indexer,col_indexer] = value instead\n",
      "\n",
      "See the caveats in the documentation: https://pandas.pydata.org/pandas-docs/stable/user_guide/indexing.html#returning-a-view-versus-a-copy\n",
      "  \"\"\"Entry point for launching an IPython kernel.\n"
     ]
    }
   ],
   "source": [
    "car_data['year'] = 2020 - car_data['year']"
   ]
  },
  {
   "cell_type": "code",
   "execution_count": 124,
   "metadata": {},
   "outputs": [
    {
     "data": {
      "image/png": "[encoded data removed]",
      "text/plain": [
       "<Figure size 432x432 with 1 Axes>"
      ]
     },
     "metadata": {
      "needs_background": "light"
     },
     "output_type": "display_data"
    }
   ],
   "source": [
    "sns.lmplot(x='selling_price', y='year', data=car_data, height=6)\n",
    "\n",
    "plt.title('Dependancy between price and Age of the car')\n",
    "plt.show()"
   ]
  },
  {
   "cell_type": "markdown",
   "metadata": {},
   "source": [
    "Here also as the car year goes up the selling price is getting lower "
   ]
  },
  {
   "cell_type": "code",
   "execution_count": 125,
   "metadata": {},
   "outputs": [
    {
     "data": {
      "image/png": "[encoded data removed]",
      "text/plain": [
       "<Figure size 720x720 with 6 Axes>"
      ]
     },
     "metadata": {
      "needs_background": "light"
     },
     "output_type": "display_data"
    }
   ],
   "source": [
    "f, axes = plt.subplots(2,3, figsize=(10,10))\n",
    "\n",
    "axes[0,0].boxplot(x= car_data.year)\n",
    "axes[0,1].boxplot(x= car_data.selling_price)\n",
    "axes[0,2].boxplot(x= car_data.km_driven)\n",
    "axes[1,0].boxplot(x= car_data.mileage)\n",
    "axes[1,1].boxplot(x= car_data.engine)\n",
    "axes[1,2].boxplot(x= car_data.max_power)\n",
    "\n",
    "plt.show()"
   ]
  },
  {
   "cell_type": "markdown",
   "metadata": {},
   "source": [
    "## Preprocessing"
   ]
  },
  {
   "cell_type": "code",
   "execution_count": 126,
   "metadata": {},
   "outputs": [],
   "source": [
    "from sklearn.pipeline import Pipeline, make_pipeline\n",
    "\n",
    "from sklearn.preprocessing import MinMaxScaler, PolynomialFeatures\n",
    "\n",
    "from sklearn.decomposition import PCA\n",
    "\n",
    "from sklearn.linear_model import LinearRegression, ElasticNetCV, LassoCV,  BayesianRidge, RANSACRegressor\n",
    "from sklearn.ensemble import RandomForestRegressor,  GradientBoostingRegressor, AdaBoostRegressor\n",
    "\n",
    "from sklearn.model_selection import KFold, cross_val_score, train_test_split, GridSearchCV\n",
    "\n",
    "from sklearn.kernel_ridge import KernelRidge\n",
    "\n",
    "from lightgbm import LGBMRegressor\n",
    "\n",
    "from sklearn.metrics import mean_squared_error,mean_absolute_error, r2_score"
   ]
  },
  {
   "cell_type": "markdown",
   "metadata": {},
   "source": [
    "I'm going to predict with Regression models the selling price and try to build a model with high R2 score."
   ]
  },
  {
   "cell_type": "code",
   "execution_count": 127,
   "metadata": {},
   "outputs": [],
   "source": [
    "car_attribures = car_data.drop('selling_price', axis = 1)\n",
    "car_target = car_data.selling_price"
   ]
  },
  {
   "cell_type": "code",
   "execution_count": 128,
   "metadata": {},
   "outputs": [],
   "source": [
    "car_attribures = pd.get_dummies(car_attribures, columns=['fuel', 'seller_type', 'transmission', 'owner'])"
   ]
  },
  {
   "cell_type": "code",
   "execution_count": 129,
   "metadata": {},
   "outputs": [],
   "source": [
    "car_attribures = car_attribures.rename(columns={'year': 'vehicle_age'})"
   ]
  },
  {
   "cell_type": "code",
   "execution_count": 130,
   "metadata": {},
   "outputs": [
    {
     "name": "stdout",
     "output_type": "stream",
     "text": [
      "(7906, 20)\n",
      "(7906,)\n"
     ]
    }
   ],
   "source": [
    "print(car_attribures.shape)\n",
    "print(car_target.shape)"
   ]
  },
  {
   "cell_type": "markdown",
   "metadata": {},
   "source": [
    "Here I'm going to preform train_test split with 20% of testing values"
   ]
  },
  {
   "cell_type": "code",
   "execution_count": 131,
   "metadata": {},
   "outputs": [],
   "source": [
    "car_attribures_train, car_attribures_test, car_target_train, car_target_test = train_test_split(car_attribures,car_target,\n",
    "                                                                                               test_size = 0.2, random_state = 42)"
   ]
  },
  {
   "cell_type": "markdown",
   "metadata": {},
   "source": [
    "#### Functions to use:\n",
    " 1) get_model_score will give me cross_validation scores, r2 scores and mean_absolute for train and test\n",
    " \n",
    " 2) get_residual_plot - will plot a graph in which im going to inspect if testing predictions are away form given ones"
   ]
  },
  {
   "cell_type": "code",
   "execution_count": 132,
   "metadata": {},
   "outputs": [],
   "source": [
    "def get_model_score(pipeline, X_train, X_test, y_train, y_test):\n",
    "    \n",
    "    pipeline.fit(X_train, y_train)\n",
    "    \n",
    "    cv = cross_val_score(pipeline, X_train, y_train, scoring = 'r2', cv = 5)\n",
    "    cv_score = cv.mean()\n",
    "    \n",
    "    r2_score_train = r2_score(y_train, pipeline.predict(X_train))\n",
    "    r2_score_test = r2_score(y_test, pipeline.predict(X_test))\n",
    "    \n",
    "    mse_train = mean_absolute_error(y_train, pipeline.predict(X_train))\n",
    "    mse_test = mean_absolute_error(y_test, pipeline.predict(X_test))\n",
    "    \n",
    "    \n",
    "    print(\"Mean CV score: \",cv_score)\n",
    "    print(\"R2 score_train: \", r2_score_train)\n",
    "    print(\"R2 score_test: \", r2_score_test)\n",
    "    print(\"Train Mean Squeare Error: \", mse_train)\n",
    "    print(\"Test Mean Squeare Error: \", mse_test)\n",
    "\n",
    "\n",
    "    "
   ]
  },
  {
   "cell_type": "code",
   "execution_count": 133,
   "metadata": {},
   "outputs": [],
   "source": [
    "def get_residual_plot(estimator, X_test, y_test):\n",
    "    test_price_predictions = estimator.predict(X_test)\n",
    "    plt.scatter(test_price_predictions, test_price_predictions - y_test)\n",
    "    plt.title('Resedual plot')\n",
    "    plt.xlabel(\"Predicted PRices\")\n",
    "    plt.ylabel(\"Residuals/Differences\")"
   ]
  },
  {
   "cell_type": "markdown",
   "metadata": {},
   "source": [
    "## Pipelines"
   ]
  },
  {
   "cell_type": "markdown",
   "metadata": {},
   "source": [
    "I'm going to define pipelines for each regression method, using MinMaxScaler. That way is faster and automated "
   ]
  },
  {
   "cell_type": "markdown",
   "metadata": {},
   "source": [
    "### Linear Regression"
   ]
  },
  {
   "cell_type": "code",
   "execution_count": 134,
   "metadata": {},
   "outputs": [],
   "source": [
    "linear = Pipeline([\n",
    "    ('scaler', MinMaxScaler()),\n",
    "    ('lin_reg', LinearRegression())\n",
    "])"
   ]
  },
  {
   "cell_type": "markdown",
   "metadata": {},
   "source": [
    "### Lasso"
   ]
  },
  {
   "cell_type": "code",
   "execution_count": 135,
   "metadata": {},
   "outputs": [],
   "source": [
    "lasso = Pipeline([\n",
    "    ('scaler', MinMaxScaler()),\n",
    "    ('lass_reg', LassoCV(cv = 6))\n",
    "])"
   ]
  },
  {
   "cell_type": "markdown",
   "metadata": {},
   "source": [
    "### Elastic Net"
   ]
  },
  {
   "cell_type": "code",
   "execution_count": 136,
   "metadata": {},
   "outputs": [],
   "source": [
    "Enet = Pipeline([\n",
    "    ('scaler', MinMaxScaler()),\n",
    "    ('pca', PCA(n_components = 1)),\n",
    "    ('elastic_reg', ElasticNetCV(cv = 6))\n",
    "])"
   ]
  },
  {
   "cell_type": "markdown",
   "metadata": {},
   "source": [
    "### Kernel Ridge Reggersion"
   ]
  },
  {
   "cell_type": "code",
   "execution_count": 137,
   "metadata": {},
   "outputs": [],
   "source": [
    "KRR = Pipeline([\n",
    "    ('scaler', MinMaxScaler()),\n",
    "    ('kernel_r', KernelRidge())\n",
    "])"
   ]
  },
  {
   "cell_type": "markdown",
   "metadata": {},
   "source": [
    "### Gradient Boosting"
   ]
  },
  {
   "cell_type": "code",
   "execution_count": 138,
   "metadata": {},
   "outputs": [],
   "source": [
    "GBoost = Pipeline([\n",
    "    ('scaler', MinMaxScaler()),\n",
    "    ('Gradient_boost', GradientBoostingRegressor())\n",
    "])"
   ]
  },
  {
   "cell_type": "markdown",
   "metadata": {},
   "source": [
    "### Adaptive Boosting"
   ]
  },
  {
   "cell_type": "code",
   "execution_count": 139,
   "metadata": {},
   "outputs": [],
   "source": [
    "AdaBoost = Pipeline([\n",
    "    ('scaler', MinMaxScaler()),\n",
    "    ('AdaBoost_boost', AdaBoostRegressor())\n",
    "])"
   ]
  },
  {
   "cell_type": "markdown",
   "metadata": {},
   "source": [
    "### LightGBM"
   ]
  },
  {
   "cell_type": "code",
   "execution_count": 140,
   "metadata": {},
   "outputs": [],
   "source": [
    "model_lgb = Pipeline([\n",
    "    ('scaler', MinMaxScaler()),\n",
    "    ('lgbm', LGBMRegressor())\n",
    "])"
   ]
  },
  {
   "cell_type": "markdown",
   "metadata": {},
   "source": [
    "## Scores of the modles"
   ]
  },
  {
   "cell_type": "markdown",
   "metadata": {},
   "source": [
    "Let's see how each model performes without any hyperparameters. We will coose the best ones for the tuning"
   ]
  },
  {
   "cell_type": "code",
   "execution_count": 141,
   "metadata": {},
   "outputs": [
    {
     "name": "stdout",
     "output_type": "stream",
     "text": [
      "Mean CV score:  0.6783669052009733\n",
      "R2 score_train:  0.6913389814460273\n",
      "R2 score_test:  0.6535356864442702\n",
      "Train Mean Squeare Error:  276245.541246615\n",
      "Test Mean Squeare Error:  283498.512331103\n"
     ]
    }
   ],
   "source": [
    "get_model_score(linear, car_attribures_train, car_attribures_test, car_target_train, car_target_test)"
   ]
  },
  {
   "cell_type": "code",
   "execution_count": 142,
   "metadata": {},
   "outputs": [
    {
     "name": "stdout",
     "output_type": "stream",
     "text": [
      "Mean CV score:  0.6770767244778518\n",
      "R2 score_train:  0.6898307644867363\n",
      "R2 score_test:  0.6500791544832456\n",
      "Train Mean Squeare Error:  274685.9156462607\n",
      "Test Mean Squeare Error:  283010.536169633\n"
     ]
    }
   ],
   "source": [
    "get_model_score(lasso, car_attribures_train, car_attribures_test, car_target_train, car_target_test)"
   ]
  },
  {
   "cell_type": "code",
   "execution_count": 143,
   "metadata": {},
   "outputs": [
    {
     "name": "stdout",
     "output_type": "stream",
     "text": [
      "Mean CV score:  -0.0005867298143065414\n",
      "R2 score_train:  0.00018666557874846834\n",
      "R2 score_test:  0.00012379016865893266\n",
      "Train Mean Squeare Error:  427978.17671864014\n",
      "Test Mean Squeare Error:  415556.05572865065\n"
     ]
    }
   ],
   "source": [
    "get_model_score(Enet, car_attribures_train, car_attribures_test, car_target_train, car_target_test)"
   ]
  },
  {
   "cell_type": "code",
   "execution_count": 144,
   "metadata": {},
   "outputs": [
    {
     "name": "stdout",
     "output_type": "stream",
     "text": [
      "Mean CV score:  0.6815837400855389\n",
      "R2 score_train:  0.6908373087907849\n",
      "R2 score_test:  0.6525629165992037\n",
      "Train Mean Squeare Error:  274493.0448858894\n",
      "Test Mean Squeare Error:  282255.37428328797\n"
     ]
    }
   ],
   "source": [
    "get_model_score(KRR, car_attribures_train, car_attribures_test, car_target_train, car_target_test)"
   ]
  },
  {
   "cell_type": "code",
   "execution_count": 145,
   "metadata": {},
   "outputs": [
    {
     "name": "stdout",
     "output_type": "stream",
     "text": [
      "Mean CV score:  0.9518480600983926\n",
      "R2 score_train:  0.9711456305937601\n",
      "R2 score_test:  0.9533604420075364\n",
      "Train Mean Squeare Error:  86805.28334281374\n",
      "Test Mean Squeare Error:  98556.11696664483\n"
     ]
    }
   ],
   "source": [
    "get_model_score(GBoost, car_attribures_train, car_attribures_test, car_target_train, car_target_test)"
   ]
  },
  {
   "cell_type": "code",
   "execution_count": 146,
   "metadata": {},
   "outputs": [
    {
     "name": "stdout",
     "output_type": "stream",
     "text": [
      "Mean CV score:  0.8216910686888198\n",
      "R2 score_train:  0.8448104934515808\n",
      "R2 score_test:  0.8099299583357737\n",
      "Train Mean Squeare Error:  270816.25077848264\n",
      "Test Mean Squeare Error:  278809.2517513795\n"
     ]
    }
   ],
   "source": [
    "get_model_score(AdaBoost, car_attribures_train, car_attribures_test, car_target_train, car_target_test)"
   ]
  },
  {
   "cell_type": "code",
   "execution_count": 147,
   "metadata": {},
   "outputs": [
    {
     "name": "stdout",
     "output_type": "stream",
     "text": [
      "Mean CV score:  0.9583694909293501\n",
      "R2 score_train:  0.9810003061930137\n",
      "R2 score_test:  0.964800972807759\n",
      "Train Mean Squeare Error:  63817.09834466453\n",
      "Test Mean Squeare Error:  78935.8588606744\n"
     ]
    }
   ],
   "source": [
    "get_model_score(model_lgb, car_attribures_train, car_attribures_test, car_target_train, car_target_test)"
   ]
  },
  {
   "cell_type": "markdown",
   "metadata": {},
   "source": [
    "As expected we can see that boosting algorithms are the bes ones GradientBoost and LGBMRegressor.\n",
    "they have bes R2 scores for both reain and test data and mean CV score "
   ]
  },
  {
   "cell_type": "markdown",
   "metadata": {},
   "source": [
    "### Gradient Boosting Grid search"
   ]
  },
  {
   "cell_type": "code",
   "execution_count": 148,
   "metadata": {},
   "outputs": [],
   "source": [
    "param_grid = {\n",
    "    'Gradient_boost__n_estimators': [80, 160, 200], \n",
    "    'Gradient_boost__min_samples_leaf': [2, 5],\n",
    "    'Gradient_boost__max_depth': [3, 9, 18]\n",
    "    \n",
    "}"
   ]
  },
  {
   "cell_type": "code",
   "execution_count": 149,
   "metadata": {},
   "outputs": [],
   "source": [
    "ada_boost_gs = GridSearchCV(estimator = GBoost, param_grid = param_grid, scoring = 'r2', cv = 5)"
   ]
  },
  {
   "cell_type": "code",
   "execution_count": 150,
   "metadata": {},
   "outputs": [
    {
     "name": "stdout",
     "output_type": "stream",
     "text": [
      "Mean CV score:  0.9608620784720386\n",
      "R2 score_train:  0.9935855642246941\n",
      "R2 score_test:  0.9729961364122411\n",
      "Train Mean Squeare Error:  44630.527774411705\n",
      "Test Mean Squeare Error:  70776.10372878225\n"
     ]
    }
   ],
   "source": [
    "get_model_score(ada_boost_gs, car_attribures_train, car_attribures_test, car_target_train, car_target_test)"
   ]
  },
  {
   "cell_type": "code",
   "execution_count": 151,
   "metadata": {},
   "outputs": [
    {
     "data": {
      "text/plain": [
       "Pipeline(steps=[('scaler', MinMaxScaler()),\n",
       "                ('Gradient_boost',\n",
       "                 GradientBoostingRegressor(max_depth=9, min_samples_leaf=5,\n",
       "                                           n_estimators=160))])"
      ]
     },
     "execution_count": 151,
     "metadata": {},
     "output_type": "execute_result"
    }
   ],
   "source": [
    "ada_boost_gs.best_estimator_"
   ]
  },
  {
   "cell_type": "code",
   "execution_count": 152,
   "metadata": {},
   "outputs": [
    {
     "data": {
      "image/png": "[encoded data removed]",
      "text/plain": [
       "<Figure size 432x288 with 1 Axes>"
      ]
     },
     "metadata": {
      "needs_background": "light"
     },
     "output_type": "display_data"
    }
   ],
   "source": [
    "get_residual_plot(ada_boost_gs, car_attribures_test, car_target_test)"
   ]
  },
  {
   "cell_type": "markdown",
   "metadata": {},
   "source": [
    "### LGBMRegressor"
   ]
  },
  {
   "cell_type": "code",
   "execution_count": 153,
   "metadata": {},
   "outputs": [],
   "source": [
    "param_grid = {\n",
    "             'lgbm__num_leaves': [ 50, 100], \n",
    "             'lgbm__n_estimators': [800, 1000],\n",
    "             'lgbm__reg_lambda': [0.005, 0.5]\n",
    "}"
   ]
  },
  {
   "cell_type": "code",
   "execution_count": 154,
   "metadata": {},
   "outputs": [],
   "source": [
    "lgb_boost_gs = GridSearchCV(model_lgb, param_grid, scoring = 'r2', cv = 5)"
   ]
  },
  {
   "cell_type": "code",
   "execution_count": 155,
   "metadata": {},
   "outputs": [
    {
     "name": "stdout",
     "output_type": "stream",
     "text": [
      "Mean CV score:  0.9597223216542805\n",
      "R2 score_train:  0.9962690180413649\n",
      "R2 score_test:  0.9699307114379653\n",
      "Train Mean Squeare Error:  32149.475677125716\n",
      "Test Mean Squeare Error:  69901.83557545117\n"
     ]
    }
   ],
   "source": [
    "get_model_score(lgb_boost_gs, car_attribures_train, car_attribures_test, car_target_train, car_target_test)"
   ]
  },
  {
   "cell_type": "code",
   "execution_count": 156,
   "metadata": {},
   "outputs": [
    {
     "data": {
      "text/plain": [
       "Pipeline(steps=[('scaler', MinMaxScaler()),\n",
       "                ('lgbm',\n",
       "                 LGBMRegressor(n_estimators=800, num_leaves=50,\n",
       "                               reg_lambda=0.5))])"
      ]
     },
     "execution_count": 156,
     "metadata": {},
     "output_type": "execute_result"
    }
   ],
   "source": [
    "lgb_boost_gs.best_estimator_"
   ]
  },
  {
   "cell_type": "code",
   "execution_count": 157,
   "metadata": {},
   "outputs": [
    {
     "data": {
      "image/png": "[encoded data removed]",
      "text/plain": [
       "<Figure size 432x288 with 1 Axes>"
      ]
     },
     "metadata": {
      "needs_background": "light"
     },
     "output_type": "display_data"
    }
   ],
   "source": [
    "get_residual_plot(lgb_boost_gs, car_attribures_test, car_target_test)"
   ]
  },
  {
   "cell_type": "markdown",
   "metadata": {},
   "source": [
    "### Pipeline with poly"
   ]
  },
  {
   "cell_type": "code",
   "execution_count": 158,
   "metadata": {},
   "outputs": [],
   "source": [
    "model_lgb_poly = Pipeline([\n",
    "    ('scaler1', PolynomialFeatures(degree = 2, interaction_only=False)),\n",
    "    ('lgbm', LGBMRegressor())\n",
    "])"
   ]
  },
  {
   "cell_type": "code",
   "execution_count": 159,
   "metadata": {},
   "outputs": [
    {
     "name": "stdout",
     "output_type": "stream",
     "text": [
      "Mean CV score:  0.9549397720631946\n",
      "R2 score_train:  0.9863387064253462\n",
      "R2 score_test:  0.9710461033788845\n",
      "Train Mean Squeare Error:  56067.6910457252\n",
      "Test Mean Squeare Error:  73742.63895459085\n"
     ]
    }
   ],
   "source": [
    "get_model_score(model_lgb_poly, car_attribures_train, car_attribures_test, car_target_train, car_target_test)"
   ]
  },
  {
   "cell_type": "code",
   "execution_count": 160,
   "metadata": {},
   "outputs": [
    {
     "data": {
      "image/png": "[encoded data removed]",
      "text/plain": [
       "<Figure size 432x288 with 1 Axes>"
      ]
     },
     "metadata": {
      "needs_background": "light"
     },
     "output_type": "display_data"
    }
   ],
   "source": [
    "get_residual_plot(model_lgb_poly, car_attribures_test, car_target_test)"
   ]
  },
  {
   "cell_type": "markdown",
   "metadata": {},
   "source": [
    "So we can see, by the 3 Residual plots, that we have a lot of really good price prediction (based on the 0 line).\n",
    "\n",
    "The model with polynomial scaler, the dots are all over the place, it's not the best one."
   ]
  },
  {
   "cell_type": "code",
   "execution_count": null,
   "metadata": {},
   "outputs": [],
   "source": []
  },
  {
   "cell_type": "code",
   "execution_count": null,
   "metadata": {},
   "outputs": [],
   "source": []
  },
  {
   "cell_type": "code",
   "execution_count": null,
   "metadata": {},
   "outputs": [],
   "source": []
  },
  {
   "cell_type": "code",
   "execution_count": 161,
   "metadata": {},
   "outputs": [],
   "source": [
    "b = pd.DataFrame(car_target_train)"
   ]
  },
  {
   "cell_type": "code",
   "execution_count": 162,
   "metadata": {},
   "outputs": [],
   "source": [
    "b['predicted'] = model_lgb_poly.predict(car_attribures_train)\n"
   ]
  },
  {
   "cell_type": "code",
   "execution_count": 163,
   "metadata": {},
   "outputs": [],
   "source": [
    "b['Difference'] = b.predicted - b.selling_price"
   ]
  },
  {
   "cell_type": "code",
   "execution_count": 164,
   "metadata": {},
   "outputs": [
    {
     "data": {
      "text/html": [
       "<div>\n",
       "<style scoped>\n",
       "    .dataframe tbody tr th:only-of-type {\n",
       "        vertical-align: middle;\n",
       "    }\n",
       "\n",
       "    .dataframe tbody tr th {\n",
       "        vertical-align: top;\n",
       "    }\n",
       "\n",
       "    .dataframe thead th {\n",
       "        text-align: right;\n",
       "    }\n",
       "</style>\n",
       "<table border=\"1\" class=\"dataframe\">\n",
       "  <thead>\n",
       "    <tr style=\"text-align: right;\">\n",
       "      <th></th>\n",
       "      <th>selling_price</th>\n",
       "      <th>predicted</th>\n",
       "      <th>Difference</th>\n",
       "    </tr>\n",
       "  </thead>\n",
       "  <tbody>\n",
       "    <tr>\n",
       "      <th>3012</th>\n",
       "      <td>700000</td>\n",
       "      <td>575781.647611</td>\n",
       "      <td>-124218.352389</td>\n",
       "    </tr>\n",
       "    <tr>\n",
       "      <th>5884</th>\n",
       "      <td>390000</td>\n",
       "      <td>432958.516758</td>\n",
       "      <td>42958.516758</td>\n",
       "    </tr>\n",
       "    <tr>\n",
       "      <th>341</th>\n",
       "      <td>170000</td>\n",
       "      <td>203533.741663</td>\n",
       "      <td>33533.741663</td>\n",
       "    </tr>\n",
       "    <tr>\n",
       "      <th>6902</th>\n",
       "      <td>250000</td>\n",
       "      <td>323934.134268</td>\n",
       "      <td>73934.134268</td>\n",
       "    </tr>\n",
       "    <tr>\n",
       "      <th>7914</th>\n",
       "      <td>169000</td>\n",
       "      <td>193333.084693</td>\n",
       "      <td>24333.084693</td>\n",
       "    </tr>\n",
       "    <tr>\n",
       "      <th>...</th>\n",
       "      <td>...</td>\n",
       "      <td>...</td>\n",
       "      <td>...</td>\n",
       "    </tr>\n",
       "    <tr>\n",
       "      <th>7333</th>\n",
       "      <td>695000</td>\n",
       "      <td>687148.206976</td>\n",
       "      <td>-7851.793024</td>\n",
       "    </tr>\n",
       "    <tr>\n",
       "      <th>1843</th>\n",
       "      <td>1050000</td>\n",
       "      <td>840929.201032</td>\n",
       "      <td>-209070.798968</td>\n",
       "    </tr>\n",
       "    <tr>\n",
       "      <th>3114</th>\n",
       "      <td>950000</td>\n",
       "      <td>901527.494289</td>\n",
       "      <td>-48472.505711</td>\n",
       "    </tr>\n",
       "    <tr>\n",
       "      <th>652</th>\n",
       "      <td>225000</td>\n",
       "      <td>246430.442798</td>\n",
       "      <td>21430.442798</td>\n",
       "    </tr>\n",
       "    <tr>\n",
       "      <th>6228</th>\n",
       "      <td>615000</td>\n",
       "      <td>656293.297563</td>\n",
       "      <td>41293.297563</td>\n",
       "    </tr>\n",
       "  </tbody>\n",
       "</table>\n",
       "<p>6324 rows × 3 columns</p>\n",
       "</div>"
      ],
      "text/plain": [
       "      selling_price      predicted     Difference\n",
       "3012         700000  575781.647611 -124218.352389\n",
       "5884         390000  432958.516758   42958.516758\n",
       "341          170000  203533.741663   33533.741663\n",
       "6902         250000  323934.134268   73934.134268\n",
       "7914         169000  193333.084693   24333.084693\n",
       "...             ...            ...            ...\n",
       "7333         695000  687148.206976   -7851.793024\n",
       "1843        1050000  840929.201032 -209070.798968\n",
       "3114         950000  901527.494289  -48472.505711\n",
       "652          225000  246430.442798   21430.442798\n",
       "6228         615000  656293.297563   41293.297563\n",
       "\n",
       "[6324 rows x 3 columns]"
      ]
     },
     "execution_count": 164,
     "metadata": {},
     "output_type": "execute_result"
    }
   ],
   "source": [
    "b"
   ]
  },
  {
   "cell_type": "code",
   "execution_count": 165,
   "metadata": {},
   "outputs": [],
   "source": [
    "data_to_exclude = b[(b.Difference <= -800000) | (b.Difference >= 500000)].index"
   ]
  },
  {
   "cell_type": "code",
   "execution_count": 166,
   "metadata": {},
   "outputs": [],
   "source": [
    "excl = car_attribures_train.drop(data_to_exclude, axis = 0)"
   ]
  },
  {
   "cell_type": "code",
   "execution_count": 167,
   "metadata": {},
   "outputs": [
    {
     "data": {
      "image/png": "[encoded data removed]",
      "text/plain": [
       "<Figure size 432x288 with 1 Axes>"
      ]
     },
     "metadata": {
      "needs_background": "light"
     },
     "output_type": "display_data"
    }
   ],
   "source": [
    "get_residual_plot(lgb_boost_gs, car_attribures_train, car_target_train)"
   ]
  },
  {
   "cell_type": "code",
   "execution_count": 168,
   "metadata": {},
   "outputs": [
    {
     "data": {
      "text/plain": [
       "(6324, 20)"
      ]
     },
     "execution_count": 168,
     "metadata": {},
     "output_type": "execute_result"
    }
   ],
   "source": [
    "car_attribures_train.shape"
   ]
  },
  {
   "cell_type": "code",
   "execution_count": 169,
   "metadata": {},
   "outputs": [],
   "source": [
    "car_attribures_train = car_attribures_train.drop(axis = 0, index=data_to_exclude)\n"
   ]
  },
  {
   "cell_type": "code",
   "execution_count": 170,
   "metadata": {},
   "outputs": [],
   "source": [
    "car_target_train = car_target_train.drop(axis = 0, index=data_to_exclude)"
   ]
  },
  {
   "cell_type": "code",
   "execution_count": 171,
   "metadata": {},
   "outputs": [
    {
     "data": {
      "text/plain": [
       "((6317, 20), (6317,))"
      ]
     },
     "execution_count": 171,
     "metadata": {},
     "output_type": "execute_result"
    }
   ],
   "source": [
    "car_attribures_train.shape, car_target_train.shape"
   ]
  },
  {
   "cell_type": "code",
   "execution_count": 172,
   "metadata": {},
   "outputs": [],
   "source": [
    "c = LGBMRegressor(n_estimators=1000, num_leaves=50, reg_lambda=0.005)"
   ]
  },
  {
   "cell_type": "code",
   "execution_count": 173,
   "metadata": {},
   "outputs": [
    {
     "data": {
      "text/plain": [
       "LGBMRegressor(n_estimators=1000, num_leaves=50, reg_lambda=0.005)"
      ]
     },
     "execution_count": 173,
     "metadata": {},
     "output_type": "execute_result"
    }
   ],
   "source": [
    "c.fit(car_attribures_train, car_target_train)"
   ]
  },
  {
   "cell_type": "code",
   "execution_count": 174,
   "metadata": {},
   "outputs": [
    {
     "data": {
      "image/png": "[encoded data removed]",
      "text/plain": [
       "<Figure size 432x288 with 1 Axes>"
      ]
     },
     "metadata": {
      "needs_background": "light"
     },
     "output_type": "display_data"
    }
   ],
   "source": [
    "get_residual_plot(c, car_attribures_test, car_target_test)"
   ]
  },
  {
   "cell_type": "code",
   "execution_count": 175,
   "metadata": {},
   "outputs": [],
   "source": [
    "predicted_p = c.predict(car_attribures_test)"
   ]
  },
  {
   "cell_type": "code",
   "execution_count": 176,
   "metadata": {},
   "outputs": [],
   "source": [
    "p = pd.DataFrame(predicted_p, columns=['pred'])"
   ]
  },
  {
   "cell_type": "code",
   "execution_count": 177,
   "metadata": {},
   "outputs": [
    {
     "data": {
      "text/html": [
       "<div>\n",
       "<style scoped>\n",
       "    .dataframe tbody tr th:only-of-type {\n",
       "        vertical-align: middle;\n",
       "    }\n",
       "\n",
       "    .dataframe tbody tr th {\n",
       "        vertical-align: top;\n",
       "    }\n",
       "\n",
       "    .dataframe thead th {\n",
       "        text-align: right;\n",
       "    }\n",
       "</style>\n",
       "<table border=\"1\" class=\"dataframe\">\n",
       "  <thead>\n",
       "    <tr style=\"text-align: right;\">\n",
       "      <th></th>\n",
       "      <th>pred</th>\n",
       "    </tr>\n",
       "  </thead>\n",
       "  <tbody>\n",
       "    <tr>\n",
       "      <th>2</th>\n",
       "      <td>5.417324e+06</td>\n",
       "    </tr>\n",
       "    <tr>\n",
       "      <th>39</th>\n",
       "      <td>4.481230e+06</td>\n",
       "    </tr>\n",
       "    <tr>\n",
       "      <th>64</th>\n",
       "      <td>5.417324e+06</td>\n",
       "    </tr>\n",
       "    <tr>\n",
       "      <th>106</th>\n",
       "      <td>5.417324e+06</td>\n",
       "    </tr>\n",
       "    <tr>\n",
       "      <th>130</th>\n",
       "      <td>3.199840e+06</td>\n",
       "    </tr>\n",
       "    <tr>\n",
       "      <th>137</th>\n",
       "      <td>5.499970e+06</td>\n",
       "    </tr>\n",
       "    <tr>\n",
       "      <th>217</th>\n",
       "      <td>3.185558e+06</td>\n",
       "    </tr>\n",
       "    <tr>\n",
       "      <th>220</th>\n",
       "      <td>3.800162e+06</td>\n",
       "    </tr>\n",
       "    <tr>\n",
       "      <th>247</th>\n",
       "      <td>3.800162e+06</td>\n",
       "    </tr>\n",
       "    <tr>\n",
       "      <th>344</th>\n",
       "      <td>3.199840e+06</td>\n",
       "    </tr>\n",
       "    <tr>\n",
       "      <th>346</th>\n",
       "      <td>5.417324e+06</td>\n",
       "    </tr>\n",
       "    <tr>\n",
       "      <th>376</th>\n",
       "      <td>3.800162e+06</td>\n",
       "    </tr>\n",
       "    <tr>\n",
       "      <th>388</th>\n",
       "      <td>5.149864e+06</td>\n",
       "    </tr>\n",
       "    <tr>\n",
       "      <th>399</th>\n",
       "      <td>5.499970e+06</td>\n",
       "    </tr>\n",
       "    <tr>\n",
       "      <th>467</th>\n",
       "      <td>3.971480e+06</td>\n",
       "    </tr>\n",
       "    <tr>\n",
       "      <th>508</th>\n",
       "      <td>3.199840e+06</td>\n",
       "    </tr>\n",
       "    <tr>\n",
       "      <th>642</th>\n",
       "      <td>5.417324e+06</td>\n",
       "    </tr>\n",
       "    <tr>\n",
       "      <th>665</th>\n",
       "      <td>5.974608e+06</td>\n",
       "    </tr>\n",
       "    <tr>\n",
       "      <th>675</th>\n",
       "      <td>3.800162e+06</td>\n",
       "    </tr>\n",
       "    <tr>\n",
       "      <th>718</th>\n",
       "      <td>3.894618e+06</td>\n",
       "    </tr>\n",
       "    <tr>\n",
       "      <th>868</th>\n",
       "      <td>3.800162e+06</td>\n",
       "    </tr>\n",
       "    <tr>\n",
       "      <th>874</th>\n",
       "      <td>5.417324e+06</td>\n",
       "    </tr>\n",
       "    <tr>\n",
       "      <th>903</th>\n",
       "      <td>3.800162e+06</td>\n",
       "    </tr>\n",
       "    <tr>\n",
       "      <th>914</th>\n",
       "      <td>5.417324e+06</td>\n",
       "    </tr>\n",
       "    <tr>\n",
       "      <th>1046</th>\n",
       "      <td>5.499970e+06</td>\n",
       "    </tr>\n",
       "    <tr>\n",
       "      <th>1062</th>\n",
       "      <td>5.417324e+06</td>\n",
       "    </tr>\n",
       "    <tr>\n",
       "      <th>1199</th>\n",
       "      <td>5.149864e+06</td>\n",
       "    </tr>\n",
       "    <tr>\n",
       "      <th>1231</th>\n",
       "      <td>4.110933e+06</td>\n",
       "    </tr>\n",
       "    <tr>\n",
       "      <th>1241</th>\n",
       "      <td>5.149864e+06</td>\n",
       "    </tr>\n",
       "    <tr>\n",
       "      <th>1248</th>\n",
       "      <td>5.149864e+06</td>\n",
       "    </tr>\n",
       "    <tr>\n",
       "      <th>1266</th>\n",
       "      <td>5.149864e+06</td>\n",
       "    </tr>\n",
       "    <tr>\n",
       "      <th>1325</th>\n",
       "      <td>3.199840e+06</td>\n",
       "    </tr>\n",
       "    <tr>\n",
       "      <th>1333</th>\n",
       "      <td>4.016063e+06</td>\n",
       "    </tr>\n",
       "    <tr>\n",
       "      <th>1340</th>\n",
       "      <td>5.149864e+06</td>\n",
       "    </tr>\n",
       "    <tr>\n",
       "      <th>1341</th>\n",
       "      <td>4.106213e+06</td>\n",
       "    </tr>\n",
       "    <tr>\n",
       "      <th>1359</th>\n",
       "      <td>3.199840e+06</td>\n",
       "    </tr>\n",
       "    <tr>\n",
       "      <th>1477</th>\n",
       "      <td>4.481230e+06</td>\n",
       "    </tr>\n",
       "    <tr>\n",
       "      <th>1508</th>\n",
       "      <td>3.192373e+06</td>\n",
       "    </tr>\n",
       "    <tr>\n",
       "      <th>1525</th>\n",
       "      <td>3.199840e+06</td>\n",
       "    </tr>\n",
       "    <tr>\n",
       "      <th>1532</th>\n",
       "      <td>5.149864e+06</td>\n",
       "    </tr>\n",
       "    <tr>\n",
       "      <th>1548</th>\n",
       "      <td>5.499970e+06</td>\n",
       "    </tr>\n",
       "    <tr>\n",
       "      <th>1550</th>\n",
       "      <td>3.162491e+06</td>\n",
       "    </tr>\n",
       "    <tr>\n",
       "      <th>1557</th>\n",
       "      <td>3.199840e+06</td>\n",
       "    </tr>\n",
       "  </tbody>\n",
       "</table>\n",
       "</div>"
      ],
      "text/plain": [
       "              pred\n",
       "2     5.417324e+06\n",
       "39    4.481230e+06\n",
       "64    5.417324e+06\n",
       "106   5.417324e+06\n",
       "130   3.199840e+06\n",
       "137   5.499970e+06\n",
       "217   3.185558e+06\n",
       "220   3.800162e+06\n",
       "247   3.800162e+06\n",
       "344   3.199840e+06\n",
       "346   5.417324e+06\n",
       "376   3.800162e+06\n",
       "388   5.149864e+06\n",
       "399   5.499970e+06\n",
       "467   3.971480e+06\n",
       "508   3.199840e+06\n",
       "642   5.417324e+06\n",
       "665   5.974608e+06\n",
       "675   3.800162e+06\n",
       "718   3.894618e+06\n",
       "868   3.800162e+06\n",
       "874   5.417324e+06\n",
       "903   3.800162e+06\n",
       "914   5.417324e+06\n",
       "1046  5.499970e+06\n",
       "1062  5.417324e+06\n",
       "1199  5.149864e+06\n",
       "1231  4.110933e+06\n",
       "1241  5.149864e+06\n",
       "1248  5.149864e+06\n",
       "1266  5.149864e+06\n",
       "1325  3.199840e+06\n",
       "1333  4.016063e+06\n",
       "1340  5.149864e+06\n",
       "1341  4.106213e+06\n",
       "1359  3.199840e+06\n",
       "1477  4.481230e+06\n",
       "1508  3.192373e+06\n",
       "1525  3.199840e+06\n",
       "1532  5.149864e+06\n",
       "1548  5.499970e+06\n",
       "1550  3.162491e+06\n",
       "1557  3.199840e+06"
      ]
     },
     "execution_count": 177,
     "metadata": {},
     "output_type": "execute_result"
    }
   ],
   "source": [
    "p[p.pred >= 3e6]"
   ]
  },
  {
   "cell_type": "code",
   "execution_count": null,
   "metadata": {},
   "outputs": [],
   "source": []
  }
 ],
 "metadata": {
  "kernelspec": {
   "display_name": "Python 3",
   "language": "python",
   "name": "python3"
  },
  "language_info": {
   "codemirror_mode": {
    "name": "ipython",
    "version": 3
   },
   "file_extension": ".py",
   "mimetype": "text/x-python",
   "name": "python",
   "nbconvert_exporter": "python",
   "pygments_lexer": "ipython3",
   "version": "3.7.9"
  }
 },
 "nbformat": 4,
 "nbformat_minor": 4
}
